{
 "cells": [
  {
   "cell_type": "markdown",
   "metadata": {},
   "source": [
    "# Workshop GeoUtrecht - Reverse Fault - 21.08.2020\n",
    "\n",
    "**Authors: Alexander Jüstel (CGRE - RWTH Aachen University), Arthur Endlein Correira**"
   ]
  },
  {
   "cell_type": "markdown",
   "metadata": {},
   "source": [
    "# Overview"
   ]
  },
  {
   "cell_type": "markdown",
   "metadata": {
    "ExecuteTime": {
     "end_time": "2020-08-19T10:34:24.048262Z",
     "start_time": "2020-08-19T10:34:24.023329Z"
    }
   },
   "source": [
    "`GemGIS` is a Python-based, **open-source geographic information processing library**. It is capable of preprocessing spatial data such as vector data (shape files, geojson files, geopackages), raster data, data obtained from WMS services or XML/KML files. Preprocessed data can be stored in a dedicated Data Class to be passed to the geomodeling package [GemPy](https://github.com/cgre-aachen/gempy) in order to accelerate to model building process. Postprocessing of model results will allow export from `GemPy` to geoinformation systems such as QGIS and ArcGIS or to Google Earth for further use. \n",
    "\n",
    "`GemGIS` uses the full functionality of [GeoPandas](https://geopandas.org/), [rasterio](https://rasterio.readthedocs.io/en/latest/#), [OWSLib](https://geopython.github.io/OWSLib/), [Pandas](https://pandas.pydata.org/) and [NumPy](https://numpy.org/).\n",
    "\n",
    "All provided maps and examples were taken from the books 'Interpretation of Geological Structures Through Maps: An Introductory Practical Manual' by D. Powell and \"An Introduction to Geological Structures and Maps\" by G.M. Bennison referenced at the bottom. referenced at the bottom."
   ]
  },
  {
   "cell_type": "markdown",
   "metadata": {},
   "source": [
    "# Motivation\n",
    "\n",
    "`GemGIS` was build upon the idea of Prof. Florian Wellmann (CGRE - RWTH Aachen University) to have a tighter integration of spatial data with `GemPy`. Larger models (Master Thesis Alexander Jüstel) made it necessary to think about workflows to simplify the procedures to get a larger number of data into `GemPy`. \n",
    "\n",
    "***What is the aim of GemGIS?***\n",
    "- Accelerate processing of spatial data\n",
    "- Enhance post-modeling functionalities\n",
    "- Create a tool for teaching purposes\n",
    "- Interactively creating GemPy Models"
   ]
  },
  {
   "cell_type": "markdown",
   "metadata": {},
   "source": [
    "# Installation\n",
    "Due to rasterio, GemGIS must be used with **python==3.7**\n",
    "\n",
    "1) `conda install geopandas`\n",
    "\n",
    "2) `conda install rasterio`\n",
    "\n",
    "3) `pip install gemgis`\n"
   ]
  },
  {
   "cell_type": "markdown",
   "metadata": {},
   "source": [
    "# Structure of Package\n",
    "\n",
    "The core of `GemGIS` is made of the `GemPyData` class (`gemgis.py`). Its attributes can directly be utilized by `GemPy` making it easier for users to load data. Methods of the `GemPyData` class allow users to directly set these attributes. Multiple other files contain functions to manipulate vector data, raster data, etc.:\n",
    "\n",
    "* `gemgis.py` - core file containing the `GemPyData` class\n",
    "* `vector.py` - file containing functions to manipulate vector data\n",
    "* `raster.py` - file containing functions to manipulate raster data\n",
    "* `utils.py` - file containing utility functions frequently used for the manipulation of vector/raster data\n",
    "* `wms.py` - file containing methods to load WMS services as arrays/rasters\n",
    "* `visualization.py` - file containing functions to simplify plotting of spatial data\n",
    "* `postprocessing.py` - file containing functions to postprocess GemPy geo_model data\n",
    "* `notebooks` - folder containing tutorial notebooks explaining the features of `GemGIS` and example notebooks applying these features"
   ]
  },
  {
   "cell_type": "markdown",
   "metadata": {},
   "source": [
    "# Features\n",
    "\n",
    "<a name=\"vector\"></a>\n",
    "### Extracting Data from Vector Files\n",
    "\n",
    "Data stored as points, lines or polygons as shape-files, geopackages or geojson files can easily be imported into `GemGIS` GeoPandas GeoDataFrames. X and Y coordinates can then be extracted for these objects for direct use in `GemPy`. Digital elevations models can be interpolated if contour lines with height values are provided. If the loaded the exceeds the desired modeling/working are extent, the data can be cropped. \n",
    "\n",
    "<a name=\"raster\"></a>\n",
    "### Extracting Data from Raster Files\n",
    "\n",
    "Rasters (stored as arrays in Python) such as digital elevation models store height information. The height of interface points can be extracted from these rasters. In addition, if a raster represents a layer in the subsurface, orientation values can be sampled for the use in `GemPy`. Orientations are calculated via the slope and aspect of the provided raster. It is also possible to resize rasters, clip rasters or save rasters as referenced geotiffs again. \n",
    "\n",
    "<a name=\"wms\"></a>\n",
    "### Extracting Data from Online Services (in development)\n",
    "\n",
    "Online services provide a wide range of possibilities to work with spatial data. Currently, it is possible to load data from WMS services into `GemGIS`. The functionality will be extended to WCS and WFS services in the future.\n",
    "\n",
    "<a name=\"xml/kml\"></a>\n",
    "### Extracting Data from XML/KML Files (in development)\n",
    "XML/KML Data export will be available in the future. \n",
    "\n",
    "<a name=\"pyvista\"></a>\n",
    "### Visualization of Data in PyVista\n",
    "`PyVista` is the main 3D visualization package of `GemPy`. In order for new users to get used to the package, it is possible to plot the input data as a `PyVista` plot. \n",
    "\n",
    "<a name=\"utils\"></a>\n",
    "### Utility Tools\n",
    "`GemGIS` offers a wide range of utility tools. These includes \n",
    "* Conversion of vector data into custom sections directly usable in `GemPy`\n",
    "* Conversion of GeoDataFrames into Pandas DataFrames for `GemPy`\n",
    "* Setting the extent and resolution for a `GemPy` model based on vector data and lists\n",
    "* Load and save QGIS style files (QML) for the use as color_dict in `GemPy`\n",
    "* Calculate orientations based on strike lines\n",
    "* Interpolate missing strike lines to calculate orientations\n",
    "* Read CSV files as GeoDataFrames\n",
    "* and many more to come\n",
    "\n",
    "\n",
    "<a name=\"post\"></a>\n",
    "### Postprocessing of GemPy geo_model data\n",
    "`GemGIS` also offers postprocessing methods to use the data of the `GemPy` model. These include:\n",
    "* Export of the geological map as shape file\n",
    "* Extract boreholes from `GemPy` models\n",
    "* Create depth maps of surfaces\n",
    "* and many more to come"
   ]
  },
  {
   "cell_type": "markdown",
   "metadata": {},
   "source": [
    "# Workshop GeoUtrecht"
   ]
  },
  {
   "cell_type": "markdown",
   "metadata": {},
   "source": [
    "The image below shows an outcropping coal seam with layers above and below the coal seam as well as a fault striking roughly W-E. The area is 763 m wide (W-E extent) and 989 m high (N-S extent). The scale is neglected.\n",
    "\n",
    "Tasks: \n",
    "- Create a `GemPy` Model to visualize the spatial distribution of the coal seam. \n",
    "\n",
    "- Determine the type of fault (normal, reverse, transform)\n",
    "\n",
    "- Where would you recommend to drill (taking the type of fault into account)?\n"
   ]
  },
  {
   "cell_type": "markdown",
   "metadata": {},
   "source": [
    "<img src=\"data/task.png\" width=\"300\">"
   ]
  },
  {
   "cell_type": "markdown",
   "metadata": {},
   "source": [
    "# Data Audit\n",
    "\n",
    "***What is available:***\n",
    "- Contour Lines\n",
    "- Layer Boundaries\n",
    "- Fault Trace\n",
    "\n",
    "***What is needed:***\n",
    "- Interface points\n",
    "- Orientation values\n",
    "\n",
    "***How do we get the missing data?***\n",
    "-> via strike lines\n",
    "\n",
    "***What do we need to do now?***\n",
    "- Digitize contour lines\n",
    "- Digitize layer boundaries\n",
    "- Create strike lines\n",
    "- Create custom section"
   ]
  },
  {
   "cell_type": "markdown",
   "metadata": {
    "ExecuteTime": {
     "end_time": "2020-08-19T10:44:17.098356Z",
     "start_time": "2020-08-19T10:44:17.091356Z"
    }
   },
   "source": [
    "<img src=\"data/task.png\" width=\"300\">"
   ]
  },
  {
   "cell_type": "markdown",
   "metadata": {},
   "source": [
    "# Importing Libraries"
   ]
  },
  {
   "cell_type": "code",
   "execution_count": null,
   "metadata": {
    "ExecuteTime": {
     "end_time": "2020-08-19T14:45:44.899502Z",
     "start_time": "2020-08-19T14:45:42.564746Z"
    }
   },
   "outputs": [],
   "source": [
    "import sys\n",
    "sys.path.append('../gemgis')\n",
    "import gemgis as gg\n",
    "import geopandas as gpd\n",
    "import rasterio\n",
    "import numpy as np\n",
    "import pandas as pd\n",
    "import matplotlib.pyplot as plt\n",
    "from matplotlib.colors import ListedColormap\n",
    "from mpl_toolkits.axes_grid1 import make_axes_locatable"
   ]
  },
  {
   "cell_type": "markdown",
   "metadata": {},
   "source": [
    "# Data Preaparation"
   ]
  },
  {
   "cell_type": "markdown",
   "metadata": {},
   "source": [
    "## Load Basemap and Geological Map"
   ]
  },
  {
   "cell_type": "code",
   "execution_count": null,
   "metadata": {
    "ExecuteTime": {
     "end_time": "2020-08-19T14:45:44.926463Z",
     "start_time": "2020-08-19T14:45:44.900499Z"
    }
   },
   "outputs": [],
   "source": [
    "base_map = rasterio.open('data/task.png')\n",
    "geological_map = gpd.read_file('data/geolmap.geojson')"
   ]
  },
  {
   "cell_type": "markdown",
   "metadata": {},
   "source": [
    "## Digitize and Load Contour Data"
   ]
  },
  {
   "cell_type": "code",
   "execution_count": null,
   "metadata": {
    "ExecuteTime": {
     "end_time": "2020-08-19T14:45:44.963335Z",
     "start_time": "2020-08-19T14:45:44.928424Z"
    }
   },
   "outputs": [],
   "source": [
    "topo = gpd.read_file('data/topo.geojson')\n",
    "topo.head()"
   ]
  },
  {
   "cell_type": "code",
   "execution_count": null,
   "metadata": {
    "ExecuteTime": {
     "end_time": "2020-08-19T14:45:44.994247Z",
     "start_time": "2020-08-19T14:45:44.965351Z"
    }
   },
   "outputs": [],
   "source": [
    "type(topo)"
   ]
  },
  {
   "cell_type": "code",
   "execution_count": null,
   "metadata": {
    "ExecuteTime": {
     "end_time": "2020-08-19T14:45:45.029154Z",
     "start_time": "2020-08-19T14:45:44.995244Z"
    }
   },
   "outputs": [],
   "source": [
    "topo.loc[0]['geometry']"
   ]
  },
  {
   "cell_type": "code",
   "execution_count": null,
   "metadata": {
    "ExecuteTime": {
     "end_time": "2020-08-19T14:45:45.064094Z",
     "start_time": "2020-08-19T14:45:45.030180Z"
    }
   },
   "outputs": [],
   "source": [
    "type(topo.loc[0]['geometry'])"
   ]
  },
  {
   "cell_type": "markdown",
   "metadata": {},
   "source": [
    "## Plot Topography"
   ]
  },
  {
   "cell_type": "code",
   "execution_count": null,
   "metadata": {
    "ExecuteTime": {
     "end_time": "2020-08-19T14:45:45.624594Z",
     "start_time": "2020-08-19T14:45:45.065058Z"
    }
   },
   "outputs": [],
   "source": [
    "extent = gpd.read_file('data/extent.geojson')\n",
    "extent = gg.utils.set_extent(gdf=extent, minz=100, maxz=900)\n",
    "\n",
    "# Creating a figure with two subplots\n",
    "fig, (ax1, ax2) = plt.subplots(ncols=2, sharex=True, sharey=True,figsize=(20,10))\n",
    "# Plotting the geological map\n",
    "ax1.imshow(np.flipud(base_map.read(1)), origin = 'lower', cmap ='gray')\n",
    "ax1.set_xlabel('X')\n",
    "ax1.set_ylabel('Y')\n",
    "ax1.grid()\n",
    "ax1.set_ylim(extent[2],extent[3])\n",
    "ax1.set_xlim(extent[0],extent[1])\n",
    "\n",
    "# Plotting the geological map\n",
    "ax2.imshow(np.flipud(base_map.read(1)), origin = 'lower', cmap ='gray')\n",
    "# Plotting the different elements on the geological map\n",
    "topo.plot(ax=ax2, column = 'Z', legend = False, linewidth = 5, cmap = 'gist_earth')\n",
    "\n",
    "# orientations.plot(ax=ax2, column = 'formation', legend = False, s = 300)\n",
    "\n",
    "ax2.set_xlabel('X')\n",
    "ax2.set_ylabel('Y')\n",
    "ax2.grid()\n",
    "ax2.set_ylim(extent[2],extent[3])\n",
    "ax2.set_xlim(extent[0],extent[1]);"
   ]
  },
  {
   "cell_type": "markdown",
   "metadata": {},
   "source": [
    "## Interpolate Topography"
   ]
  },
  {
   "cell_type": "code",
   "execution_count": null,
   "metadata": {
    "ExecuteTime": {
     "end_time": "2020-08-19T13:40:28.898004Z",
     "start_time": "2020-08-19T13:37:02.690296Z"
    },
    "deletable": false,
    "editable": false,
    "run_control": {
     "frozen": true
    }
   },
   "outputs": [],
   "source": [
    "dem = gg.vector.interpolate_raster(topo, method='rbf')\n",
    "dem"
   ]
  },
  {
   "cell_type": "code",
   "execution_count": null,
   "metadata": {
    "ExecuteTime": {
     "end_time": "2020-08-19T13:46:41.866727Z",
     "start_time": "2020-08-19T13:46:41.814910Z"
    },
    "deletable": false,
    "editable": false,
    "run_control": {
     "frozen": true
    }
   },
   "outputs": [],
   "source": [
    "np.save('../dem.npy',dem)"
   ]
  },
  {
   "cell_type": "code",
   "execution_count": null,
   "metadata": {
    "ExecuteTime": {
     "end_time": "2020-08-19T14:45:45.634565Z",
     "start_time": "2020-08-19T14:45:45.626556Z"
    }
   },
   "outputs": [],
   "source": [
    "dem = np.load('../dem.npy')"
   ]
  },
  {
   "cell_type": "code",
   "execution_count": null,
   "metadata": {
    "ExecuteTime": {
     "end_time": "2020-08-19T14:45:45.712358Z",
     "start_time": "2020-08-19T14:45:45.636560Z"
    }
   },
   "outputs": [],
   "source": [
    "type(dem)"
   ]
  },
  {
   "cell_type": "code",
   "execution_count": null,
   "metadata": {
    "ExecuteTime": {
     "end_time": "2020-08-19T14:45:45.747274Z",
     "start_time": "2020-08-19T14:45:45.713324Z"
    }
   },
   "outputs": [],
   "source": [
    "dem.shape"
   ]
  },
  {
   "cell_type": "markdown",
   "metadata": {},
   "source": [
    "## Plot Topography"
   ]
  },
  {
   "cell_type": "code",
   "execution_count": null,
   "metadata": {
    "ExecuteTime": {
     "end_time": "2020-08-19T14:45:46.362586Z",
     "start_time": "2020-08-19T14:45:45.748231Z"
    }
   },
   "outputs": [],
   "source": [
    "extent = gpd.read_file('data/extent.geojson')\n",
    "extent = gg.utils.set_extent(gdf=extent, minz=100, maxz=900)\n",
    "\n",
    "# Creating a figure with two subplots\n",
    "fig, (ax1, ax2) = plt.subplots(ncols=2, sharex=True, sharey=True,figsize=(20,10))\n",
    "# Plotting the geological map\n",
    "ax1.imshow(np.flipud(base_map.read(1)), origin = 'lower', cmap ='gray')\n",
    "ax1.set_xlabel('X')\n",
    "ax1.set_ylabel('Y')\n",
    "ax1.grid()\n",
    "ax1.set_ylim(extent[2],extent[3])\n",
    "ax1.set_xlim(extent[0],extent[1])\n",
    "\n",
    "# Plotting the geological map\n",
    "ax2.imshow(np.flipud(base_map.read(1)), origin = 'lower', cmap ='gray')\n",
    "# Plotting the different elements on the geological map\n",
    "im = plt.imshow(dem,origin = 'lower', alpha=0.75, cmap='gist_earth')\n",
    "cbar = plt.colorbar(im)\n",
    "cbar.set_label('m')\n",
    "ax2.set_xlabel('X')\n",
    "ax2.set_ylabel('Y')\n",
    "ax2.set_ylim(extent[2],extent[3])\n",
    "ax2.set_xlim(extent[0],extent[1]);\n"
   ]
  },
  {
   "cell_type": "markdown",
   "metadata": {},
   "source": [
    "## Save Topography as Raster"
   ]
  },
  {
   "cell_type": "code",
   "execution_count": null,
   "metadata": {
    "ExecuteTime": {
     "end_time": "2020-08-19T14:45:46.452378Z",
     "start_time": "2020-08-19T14:45:46.363583Z"
    }
   },
   "outputs": [],
   "source": [
    "gg.raster.save_as_tiff('../topo.tif',dem, crs='EPSG:4326', extent=[0,765,0,1000])"
   ]
  },
  {
   "cell_type": "markdown",
   "metadata": {},
   "source": [
    "## Digitize and Load Layer Boundaries"
   ]
  },
  {
   "cell_type": "code",
   "execution_count": null,
   "metadata": {
    "ExecuteTime": {
     "end_time": "2020-08-19T14:45:46.487253Z",
     "start_time": "2020-08-19T14:45:46.453343Z"
    }
   },
   "outputs": [],
   "source": [
    "interfaces = gpd.read_file('data/interfaces.geojson')\n",
    "interfaces.head()"
   ]
  },
  {
   "cell_type": "code",
   "execution_count": null,
   "metadata": {
    "ExecuteTime": {
     "end_time": "2020-08-19T14:45:46.563050Z",
     "start_time": "2020-08-19T14:45:46.488250Z"
    }
   },
   "outputs": [],
   "source": [
    "interfaces.loc[4]['geometry']"
   ]
  },
  {
   "cell_type": "markdown",
   "metadata": {},
   "source": [
    "## Extract coordinates"
   ]
  },
  {
   "cell_type": "code",
   "execution_count": null,
   "metadata": {
    "ExecuteTime": {
     "end_time": "2020-08-19T14:45:46.753542Z",
     "start_time": "2020-08-19T14:45:46.565045Z"
    }
   },
   "outputs": [],
   "source": [
    "interfaces_coords = gg.vector.extract_coordinates(interfaces,np.flipud(dem), extent=extent)\n",
    "interfaces_coords.head()"
   ]
  },
  {
   "cell_type": "markdown",
   "metadata": {},
   "source": [
    "## Plot Interfaces"
   ]
  },
  {
   "cell_type": "code",
   "execution_count": null,
   "metadata": {
    "ExecuteTime": {
     "end_time": "2020-08-19T14:45:47.291104Z",
     "start_time": "2020-08-19T14:45:46.755536Z"
    }
   },
   "outputs": [],
   "source": [
    "extent = gpd.read_file('data/extent.geojson')\n",
    "extent = gg.utils.set_extent(gdf=extent, minz=100, maxz=900)\n",
    "\n",
    "# Creating a figure with two subplots\n",
    "fig, (ax1, ax2) = plt.subplots(ncols=2, sharex=True, sharey=True,figsize=(20,10))\n",
    "# Plotting the geological map\n",
    "ax1.imshow(np.flipud(base_map.read(1)), origin = 'lower', cmap ='gray')\n",
    "ax1.set_xlabel('X')\n",
    "ax1.set_ylabel('Y')\n",
    "ax1.grid()\n",
    "ax1.set_ylim(extent[2],extent[3])\n",
    "ax1.set_xlim(extent[0],extent[1])\n",
    "\n",
    "# Plotting the geological map\n",
    "ax2.imshow(np.flipud(base_map.read(1)), origin = 'lower', cmap ='gray')\n",
    "# Plotting the different elements on the geological map\n",
    "interfaces.plot(ax=ax2, column = 'formation', legend = True, linewidth = 10)\n",
    "ax2.set_xlabel('X')\n",
    "ax2.set_ylabel('Y')\n",
    "ax2.set_ylim(extent[2],extent[3])\n",
    "ax2.set_xlim(extent[0],extent[1]);\n"
   ]
  },
  {
   "cell_type": "markdown",
   "metadata": {},
   "source": [
    "## Calculate Orientations\n",
    "\n",
    "<img src=\"data/orientations.jpg\" width=\"500\">\n",
    "<img src=\"data/task.png\" width=\"300\">"
   ]
  },
  {
   "cell_type": "markdown",
   "metadata": {},
   "source": [
    "## Digitizing and Loading Fault Strike"
   ]
  },
  {
   "cell_type": "code",
   "execution_count": null,
   "metadata": {
    "ExecuteTime": {
     "end_time": "2020-08-19T14:45:47.306096Z",
     "start_time": "2020-08-19T14:45:47.292100Z"
    }
   },
   "outputs": [],
   "source": [
    "strike_fault = gpd.read_file('data/strike_fault.geojson')\n",
    "strike_fault"
   ]
  },
  {
   "cell_type": "code",
   "execution_count": null,
   "metadata": {
    "ExecuteTime": {
     "end_time": "2020-08-19T14:45:47.889537Z",
     "start_time": "2020-08-19T14:45:47.310061Z"
    }
   },
   "outputs": [],
   "source": [
    "# Creating a figure with two subplots\n",
    "fig, (ax1, ax2) = plt.subplots(ncols=2, sharex=True, sharey=True,figsize=(20,10))\n",
    "# Plotting the geological map\n",
    "ax1.imshow(np.flipud(base_map.read(1)), origin = 'lower', cmap ='gray')\n",
    "ax1.set_xlabel('X')\n",
    "ax1.set_ylabel('Y')\n",
    "ax1.grid()\n",
    "ax1.set_ylim(extent[2],extent[3])\n",
    "ax1.set_xlim(extent[0],extent[1])\n",
    "\n",
    "# Plotting the geological map\n",
    "ax2.imshow(np.flipud(base_map.read(1)), origin = 'lower', cmap ='gray')\n",
    "# Plotting the different elements on the geological map\n",
    "strike_fault.plot(ax=ax2, column = 'formation', legend = False, linewidth = 5)\n",
    "ax2.set_xlabel('X')\n",
    "ax2.set_ylabel('Y')\n",
    "ax2.grid()\n",
    "ax1.set_ylim(extent[2],extent[3])\n",
    "ax1.set_xlim(extent[0],extent[1]);"
   ]
  },
  {
   "cell_type": "markdown",
   "metadata": {},
   "source": [
    "Based on the strike lines and the calculated angles, we can conclude that the fault is dipping towards the south. Please take into account that the map was not digitized to scale. So angles are usually higher than expected for certain types of faults!"
   ]
  },
  {
   "cell_type": "code",
   "execution_count": null,
   "metadata": {
    "ExecuteTime": {
     "end_time": "2020-08-19T14:45:47.927433Z",
     "start_time": "2020-08-19T14:45:47.890499Z"
    }
   },
   "outputs": [],
   "source": [
    "orientations_fault = gg.utils.calculate_orientations(strike_fault)\n",
    "orientations_fault "
   ]
  },
  {
   "cell_type": "markdown",
   "metadata": {},
   "source": [
    "***What is the dip direction of fault?***"
   ]
  },
  {
   "cell_type": "markdown",
   "metadata": {},
   "source": [
    "## Digitize and Load Interface Strike\n",
    "For the strike of the different layers we have to distinguish between layer 1 and layer 2 and between the two fault blocks. "
   ]
  },
  {
   "cell_type": "code",
   "execution_count": null,
   "metadata": {
    "ExecuteTime": {
     "end_time": "2020-08-19T14:45:48.009378Z",
     "start_time": "2020-08-19T14:45:47.928400Z"
    }
   },
   "outputs": [],
   "source": [
    "strike_layers = gpd.read_file('data/strike_layers.geojson')\n",
    "strike_layers"
   ]
  },
  {
   "cell_type": "code",
   "execution_count": null,
   "metadata": {
    "ExecuteTime": {
     "end_time": "2020-08-19T14:45:48.521104Z",
     "start_time": "2020-08-19T14:45:48.010373Z"
    }
   },
   "outputs": [],
   "source": [
    "# Creating a figure with two subplots\n",
    "fig, (ax1, ax2) = plt.subplots(ncols=2, sharex=True, sharey=True,figsize=(20,10))\n",
    "# Plotting the geological map\n",
    "ax1.imshow(np.flipud(base_map.read(1)), origin = 'lower', cmap ='gray')\n",
    "ax1.set_xlabel('X')\n",
    "ax1.set_ylabel('Y')\n",
    "ax1.grid()\n",
    "ax1.set_ylim(extent[2],extent[3])\n",
    "ax1.set_xlim(extent[0],extent[1])\n",
    "\n",
    "# Plotting the geological map\n",
    "ax2.imshow(np.flipud(base_map.read(1)), origin = 'lower', cmap ='gray')\n",
    "# Plotting the different elements on the geological map\n",
    "strike_layers.plot(ax=ax2, column = 'formation', legend = True, linewidth = 5)\n",
    "ax2.set_xlabel('X')\n",
    "ax2.set_ylabel('Y')\n",
    "ax2.grid()\n",
    "ax1.set_ylim(extent[2],extent[3])\n",
    "ax1.set_xlim(extent[0],extent[1]);"
   ]
  },
  {
   "cell_type": "markdown",
   "metadata": {},
   "source": [
    "## Separate Layers"
   ]
  },
  {
   "cell_type": "code",
   "execution_count": null,
   "metadata": {
    "ExecuteTime": {
     "end_time": "2020-08-19T14:45:48.533042Z",
     "start_time": "2020-08-19T14:45:48.522104Z"
    }
   },
   "outputs": [],
   "source": [
    "gdf1 = strike_layers[strike_layers['formation'] == 'Layer1']\n",
    "gdf2 = strike_layers[strike_layers['formation'] == 'Layer2']\n",
    "gdf1_south = gdf1[gdf1['id']<= 4]\n",
    "gdf1_north = gdf1[gdf1['id']> 4]\n",
    "gdf2_south = gdf2[gdf2['id']<= 5]\n",
    "gdf2_north = gdf2[gdf2['id']> 5]"
   ]
  },
  {
   "cell_type": "markdown",
   "metadata": {},
   "source": [
    "## Calculate Orientations"
   ]
  },
  {
   "cell_type": "code",
   "execution_count": null,
   "metadata": {
    "ExecuteTime": {
     "end_time": "2020-08-19T14:45:48.744484Z",
     "start_time": "2020-08-19T14:45:48.537072Z"
    }
   },
   "outputs": [],
   "source": [
    "orientations1_south = gg.utils.calculate_orientations(gdf1_south)\n",
    "orientations1_north = gg.utils.calculate_orientations(gdf1_north)\n",
    "orientations2_south = gg.utils.calculate_orientations(gdf2_south)\n",
    "orientations2_north = gg.utils.calculate_orientations(gdf2_north)\n",
    "orientations2_north"
   ]
  },
  {
   "cell_type": "markdown",
   "metadata": {},
   "source": [
    "## Merge DataFrames"
   ]
  },
  {
   "cell_type": "code",
   "execution_count": null,
   "metadata": {
    "ExecuteTime": {
     "end_time": "2020-08-19T14:45:48.760439Z",
     "start_time": "2020-08-19T14:45:48.746444Z"
    }
   },
   "outputs": [],
   "source": [
    "orientations_coords = pd.concat([orientations_fault, orientations1_south, orientations1_north, orientations2_south, orientations2_north]).reset_index()\n",
    "orientations_coords"
   ]
  },
  {
   "cell_type": "code",
   "execution_count": null,
   "metadata": {
    "ExecuteTime": {
     "end_time": "2020-08-19T14:45:49.276026Z",
     "start_time": "2020-08-19T14:45:48.761404Z"
    }
   },
   "outputs": [],
   "source": [
    "# Creating a figure with two subplots\n",
    "fig, (ax1, ax2) = plt.subplots(ncols=2, sharex=True, sharey=True,figsize=(20,10))\n",
    "# Plotting the geological map\n",
    "ax1.imshow(np.flipud(base_map.read(1)), origin = 'lower', cmap ='gray')\n",
    "ax1.set_xlabel('X')\n",
    "ax1.set_ylabel('Y')\n",
    "ax1.grid()\n",
    "ax1.set_ylim(extent[2],extent[3])\n",
    "ax1.set_xlim(extent[0],extent[1])\n",
    "\n",
    "# Plotting the geological map\n",
    "ax2.imshow(np.flipud(base_map.read(1)), origin = 'lower', cmap ='gray')\n",
    "# Plotting the different elements on the geological map\n",
    "ax2.scatter(orientations_coords['X'], orientations_coords['Y'])\n",
    "strike_layers.plot(ax=ax2, column = 'formation', legend = True, linewidth = 5)\n",
    "ax2.set_xlabel('X')\n",
    "ax2.set_ylabel('Y')\n",
    "ax2.grid()\n",
    "ax1.set_ylim(extent[2],extent[3])\n",
    "ax1.set_xlim(extent[0],extent[1]);"
   ]
  },
  {
   "cell_type": "markdown",
   "metadata": {},
   "source": [
    "***What direction are the layers dipping?***\n",
    "***Which one is the oldest? Which one is the youngest?***"
   ]
  },
  {
   "cell_type": "markdown",
   "metadata": {},
   "source": [
    "# Let us combine everything - Creating a GemPy Data Class"
   ]
  },
  {
   "cell_type": "code",
   "execution_count": null,
   "metadata": {
    "ExecuteTime": {
     "end_time": "2020-08-19T14:45:49.281012Z",
     "start_time": "2020-08-19T14:45:49.277023Z"
    }
   },
   "outputs": [],
   "source": [
    "geo_data = gg.GemPyData(model_name='GeoUtrecht', \n",
    "                        crs='EPSG:4326')"
   ]
  },
  {
   "cell_type": "code",
   "execution_count": null,
   "metadata": {
    "ExecuteTime": {
     "end_time": "2020-08-19T14:45:49.335911Z",
     "start_time": "2020-08-19T14:45:49.282011Z"
    }
   },
   "outputs": [],
   "source": [
    "vars(geo_data)"
   ]
  },
  {
   "cell_type": "markdown",
   "metadata": {},
   "source": [
    "## Set Extent"
   ]
  },
  {
   "cell_type": "code",
   "execution_count": null,
   "metadata": {
    "ExecuteTime": {
     "end_time": "2020-08-19T14:45:49.375792Z",
     "start_time": "2020-08-19T14:45:49.336864Z"
    }
   },
   "outputs": [],
   "source": [
    "extent = gpd.read_file('data/extent.geojson')\n",
    "geo_data.set_extent(gdf=extent, minz=100, maxz=900)\n",
    "geo_data.extent"
   ]
  },
  {
   "cell_type": "markdown",
   "metadata": {},
   "source": [
    "## Set Resolution"
   ]
  },
  {
   "cell_type": "code",
   "execution_count": null,
   "metadata": {
    "ExecuteTime": {
     "end_time": "2020-08-19T14:45:49.416662Z",
     "start_time": "2020-08-19T14:45:49.376756Z"
    }
   },
   "outputs": [],
   "source": [
    "geo_data.set_resolution(50,50,50)\n",
    "geo_data.resolution"
   ]
  },
  {
   "cell_type": "markdown",
   "metadata": {},
   "source": [
    "## Set Interfaces"
   ]
  },
  {
   "cell_type": "code",
   "execution_count": null,
   "metadata": {
    "ExecuteTime": {
     "end_time": "2020-08-19T14:45:49.464522Z",
     "start_time": "2020-08-19T14:45:49.418646Z"
    }
   },
   "outputs": [],
   "source": [
    "geo_data.to_gempy_df(interfaces_coords.sample(n=85), 'interfaces')\n",
    "geo_data.interfaces"
   ]
  },
  {
   "cell_type": "code",
   "execution_count": null,
   "metadata": {
    "ExecuteTime": {
     "end_time": "2020-08-19T14:45:49.517380Z",
     "start_time": "2020-08-19T14:45:49.466522Z"
    }
   },
   "outputs": [],
   "source": [
    "geo_data.orientations = orientations_coords\n",
    "geo_data.orientations"
   ]
  },
  {
   "cell_type": "markdown",
   "metadata": {},
   "source": [
    "## Add Section Dict"
   ]
  },
  {
   "cell_type": "code",
   "execution_count": null,
   "metadata": {
    "ExecuteTime": {
     "end_time": "2020-08-19T14:45:49.579216Z",
     "start_time": "2020-08-19T14:45:49.518378Z"
    }
   },
   "outputs": [],
   "source": [
    "custom_section = gpd.read_file('data/customsection.geojson')\n",
    "geo_data.to_section_dict(custom_section, 'section')\n",
    "geo_data.section_dict"
   ]
  },
  {
   "cell_type": "markdown",
   "metadata": {},
   "source": [
    "## Add Surface Colors"
   ]
  },
  {
   "cell_type": "code",
   "execution_count": null,
   "metadata": {
    "ExecuteTime": {
     "end_time": "2020-08-19T14:45:49.613128Z",
     "start_time": "2020-08-19T14:45:49.580214Z"
    }
   },
   "outputs": [],
   "source": [
    "geo_data.to_surface_color_dict('data/style.qml')\n",
    "geo_data.surface_colors"
   ]
  },
  {
   "cell_type": "markdown",
   "metadata": {},
   "source": [
    "## Add Stack"
   ]
  },
  {
   "cell_type": "code",
   "execution_count": null,
   "metadata": {
    "ExecuteTime": {
     "end_time": "2020-08-19T14:45:49.647034Z",
     "start_time": "2020-08-19T14:45:49.614123Z"
    }
   },
   "outputs": [],
   "source": [
    "geo_data.stack = {  \"Fault1\": ('Fault1'),\n",
    "                    \"Strat_Series\": ('Layer2', 'Layer1'),\n",
    "                    \"basement\": ('basement')}\n",
    "geo_data.stack"
   ]
  },
  {
   "cell_type": "markdown",
   "metadata": {},
   "source": [
    "## Add DEM"
   ]
  },
  {
   "cell_type": "code",
   "execution_count": null,
   "metadata": {
    "ExecuteTime": {
     "end_time": "2020-08-19T14:45:49.680944Z",
     "start_time": "2020-08-19T14:45:49.648032Z"
    }
   },
   "outputs": [],
   "source": [
    "geo_data.dem = '../topo.tif'\n",
    "geo_data.dem"
   ]
  },
  {
   "cell_type": "markdown",
   "metadata": {},
   "source": [
    "# Visualize Data Set"
   ]
  },
  {
   "cell_type": "code",
   "execution_count": null,
   "metadata": {
    "ExecuteTime": {
     "end_time": "2020-08-19T14:45:51.701353Z",
     "start_time": "2020-08-19T14:45:49.681942Z"
    }
   },
   "outputs": [],
   "source": [
    "import pyvista as pv\n",
    "p = pv.Plotter(notebook =True)\n",
    "gg.visualization.plot_dem_3d(dem, p, cmap = 'gist_earth')\n",
    "gg.visualization.plot_contours_3d(topo, p, color = 'red', add_to_z = 10)\n",
    "gg.visualization.plot_points_3d(interfaces_coords, p, color = 'blue', add_to_z = 10)\n",
    "gg.visualization.plot_points_3d(orientations_coords, p, color = 'orange', add_to_z = 20)\n",
    "gg.visualization.plot_contours_3d(interfaces_coords, p, color = 'blue', add_to_z = 10)\n",
    "\n",
    "p.camera_position =[(-283.285811675846, -1597.1397046051004, 1155.542325449192), \n",
    "                    (577.9371599370799, 495.3480261506809, 381.7124055285182), \n",
    "                    (0.17313457304419916, 0.27814381639313923, 0.9448070898437746)]\n",
    "p.set_background('white')\n",
    "p.show_grid(color='black')\n",
    "p.show()"
   ]
  },
  {
   "cell_type": "markdown",
   "metadata": {},
   "source": [
    "# Create GemPy Model"
   ]
  },
  {
   "cell_type": "markdown",
   "metadata": {},
   "source": [
    "## Importing GemPy\n",
    "\n",
    "Please see https://docs.gempy.org/installation.html for more information on how to install GemPy."
   ]
  },
  {
   "cell_type": "code",
   "execution_count": null,
   "metadata": {
    "ExecuteTime": {
     "end_time": "2020-08-19T14:45:51.708361Z",
     "start_time": "2020-08-19T14:45:51.704338Z"
    }
   },
   "outputs": [],
   "source": [
    "import sys  \n",
    "sys.path.append('../gempy/gempy-master')\n",
    "import gempy as gp\n",
    "print(gp)\n",
    "print(gp.__version__)"
   ]
  },
  {
   "cell_type": "markdown",
   "metadata": {},
   "source": [
    "## Creating GemPy Model\n",
    "\n",
    "For more information on how to create a GemPy Model, please see the tutorials at: https://docs.gempy.org/tutorials/index.html. With the attributes of the GemPy Data Class, all necessary variables can be passed to the model."
   ]
  },
  {
   "cell_type": "code",
   "execution_count": null,
   "metadata": {
    "ExecuteTime": {
     "end_time": "2020-08-19T14:45:52.310748Z",
     "start_time": "2020-08-19T14:45:51.709355Z"
    }
   },
   "outputs": [],
   "source": [
    "geo_model = gp.create_model(geo_data.model_name)\n",
    "geo_model"
   ]
  },
  {
   "cell_type": "code",
   "execution_count": null,
   "metadata": {
    "ExecuteTime": {
     "end_time": "2020-08-19T14:45:52.481847Z",
     "start_time": "2020-08-19T14:45:52.311713Z"
    }
   },
   "outputs": [],
   "source": [
    "gp.init_data(geo_model, geo_data.extent, geo_data.resolution,\n",
    "             surface_points_df = geo_data.interfaces,\n",
    "             orientations_df = geo_data.orientations,\n",
    "             default_values=True)"
   ]
  },
  {
   "cell_type": "code",
   "execution_count": null,
   "metadata": {
    "ExecuteTime": {
     "end_time": "2020-08-19T14:45:52.728662Z",
     "start_time": "2020-08-19T14:45:52.482814Z"
    }
   },
   "outputs": [],
   "source": [
    "geo_model.surfaces"
   ]
  },
  {
   "cell_type": "code",
   "execution_count": null,
   "metadata": {
    "ExecuteTime": {
     "end_time": "2020-08-19T14:45:52.736666Z",
     "start_time": "2020-08-19T14:45:52.730657Z"
    }
   },
   "outputs": [],
   "source": [
    "geo_data.stack"
   ]
  },
  {
   "cell_type": "code",
   "execution_count": null,
   "metadata": {
    "ExecuteTime": {
     "end_time": "2020-08-19T14:45:52.911240Z",
     "start_time": "2020-08-19T14:45:52.737637Z"
    }
   },
   "outputs": [],
   "source": [
    "gp.map_stack_to_surfaces(geo_model,\n",
    "                         geo_data.stack,\n",
    "                         remove_unused_series=True)\n",
    "geo_model.add_surfaces('basement')"
   ]
  },
  {
   "cell_type": "code",
   "execution_count": null,
   "metadata": {
    "ExecuteTime": {
     "end_time": "2020-08-19T14:45:52.921180Z",
     "start_time": "2020-08-19T14:45:52.912204Z"
    }
   },
   "outputs": [],
   "source": [
    "geo_model.surfaces.colors.change_colors(geo_data.surface_colors)"
   ]
  },
  {
   "cell_type": "code",
   "execution_count": null,
   "metadata": {
    "ExecuteTime": {
     "end_time": "2020-08-19T14:45:53.164560Z",
     "start_time": "2020-08-19T14:45:52.922177Z"
    }
   },
   "outputs": [],
   "source": [
    "gp.plot_2d(geo_model, direction = 'z')\n",
    "plt.grid()"
   ]
  },
  {
   "cell_type": "markdown",
   "metadata": {},
   "source": [
    "A raster created with ArcGIS has to be loaded as the import of the created raster fails. This is due to a bug in `GemPy`described here: https://github.com/cgre-aachen/gempy/issues/492"
   ]
  },
  {
   "cell_type": "code",
   "execution_count": null,
   "metadata": {
    "ExecuteTime": {
     "end_time": "2020-08-19T14:45:55.795098Z",
     "start_time": "2020-08-19T14:45:53.165526Z"
    }
   },
   "outputs": [],
   "source": [
    "geo_model.set_topography(\n",
    "    source='gdal', filepath=geo_data.dem)"
   ]
  },
  {
   "cell_type": "code",
   "execution_count": null,
   "metadata": {
    "ExecuteTime": {
     "end_time": "2020-08-19T14:45:56.031463Z",
     "start_time": "2020-08-19T14:45:55.796060Z"
    }
   },
   "outputs": [],
   "source": [
    "geo_model.set_section_grid(geo_data.section_dict)"
   ]
  },
  {
   "cell_type": "code",
   "execution_count": null,
   "metadata": {
    "ExecuteTime": {
     "end_time": "2020-08-19T14:45:56.199014Z",
     "start_time": "2020-08-19T14:45:56.033425Z"
    }
   },
   "outputs": [],
   "source": [
    "gp.plot.plot_section_traces(geo_model)"
   ]
  },
  {
   "cell_type": "code",
   "execution_count": null,
   "metadata": {
    "ExecuteTime": {
     "end_time": "2020-08-19T14:45:56.323650Z",
     "start_time": "2020-08-19T14:45:56.199980Z"
    }
   },
   "outputs": [],
   "source": [
    "geo_model.set_is_fault(['Fault1'])"
   ]
  },
  {
   "cell_type": "code",
   "execution_count": null,
   "metadata": {
    "ExecuteTime": {
     "end_time": "2020-08-19T14:45:59.301714Z",
     "start_time": "2020-08-19T14:45:56.325644Z"
    }
   },
   "outputs": [],
   "source": [
    "gp.set_interpolator(geo_model,\n",
    "                    compile_theano=True,\n",
    "                    theano_optimizer='fast_compile',\n",
    "                    verbose=[],\n",
    "                    update_kriging = False\n",
    "                    )"
   ]
  },
  {
   "cell_type": "code",
   "execution_count": null,
   "metadata": {
    "ExecuteTime": {
     "end_time": "2020-08-19T14:46:46.093345Z",
     "start_time": "2020-08-19T14:45:59.302680Z"
    }
   },
   "outputs": [],
   "source": [
    "sol = gp.compute_model(geo_model)\n",
    "sol"
   ]
  },
  {
   "cell_type": "code",
   "execution_count": null,
   "metadata": {
    "ExecuteTime": {
     "end_time": "2020-08-19T14:46:46.250956Z",
     "start_time": "2020-08-19T14:46:46.095342Z"
    }
   },
   "outputs": [],
   "source": [
    "geo_model.surfaces.df"
   ]
  },
  {
   "cell_type": "markdown",
   "metadata": {},
   "source": [
    "The geological map had to be created manually as there seems to be a bug when creating the geological map with `GemGIS`. This was reported already: https://github.com/cgre-aachen/gempy/issues/446"
   ]
  },
  {
   "cell_type": "raw",
   "metadata": {
    "ExecuteTime": {
     "end_time": "2020-07-29T15:05:31.270407Z",
     "start_time": "2020-07-29T15:05:31.071339Z"
    }
   },
   "source": [
    "gp.plot_2d(geo_model, section_names=['topography'], show_contours=False)"
   ]
  },
  {
   "cell_type": "code",
   "execution_count": null,
   "metadata": {
    "ExecuteTime": {
     "end_time": "2020-08-19T14:46:46.502285Z",
     "start_time": "2020-08-19T14:46:46.251922Z"
    }
   },
   "outputs": [],
   "source": [
    "shape = geo_model._grid.topography.values_2d[:, :, 2].shape\n",
    "geolmap = geo_model.solutions.geological_map[0].reshape(shape)\n",
    "cols = ['#069a2b', '#b35a2a','#525252', ]\n",
    "plt.figure(figsize=(10,10))\n",
    "plt.imshow(np.flipud(base_map.read(1)), origin = 'lower', cmap ='gray')\n",
    "gmap = np.rot90(geolmap,1)\n",
    "plt.imshow(gmap, extent=geo_data.extent[:4], alpha=0.75, cmap=ListedColormap(cols))"
   ]
  },
  {
   "cell_type": "code",
   "execution_count": null,
   "metadata": {
    "ExecuteTime": {
     "end_time": "2020-08-19T14:46:46.794502Z",
     "start_time": "2020-08-19T14:46:46.503250Z"
    }
   },
   "outputs": [],
   "source": [
    "gp.plot_2d(geo_model, section_names=['Section1'], show_topography=True, ve = 0.4)"
   ]
  },
  {
   "cell_type": "code",
   "execution_count": null,
   "metadata": {
    "ExecuteTime": {
     "end_time": "2020-08-19T14:46:47.104641Z",
     "start_time": "2020-08-19T14:46:46.795468Z"
    }
   },
   "outputs": [],
   "source": [
    "gp.plot_2d(geo_model, direction='x', show_topography=True, cell_number=25, ve=0.4)"
   ]
  },
  {
   "cell_type": "code",
   "execution_count": null,
   "metadata": {
    "ExecuteTime": {
     "end_time": "2020-08-19T14:46:47.415844Z",
     "start_time": "2020-08-19T14:46:47.105638Z"
    }
   },
   "outputs": [],
   "source": [
    "gp.plot_2d(geo_model, direction='y', show_topography=True, cell_number = 25)"
   ]
  },
  {
   "cell_type": "code",
   "execution_count": null,
   "metadata": {
    "ExecuteTime": {
     "end_time": "2020-08-19T14:47:20.712807Z",
     "start_time": "2020-08-19T14:46:47.416806Z"
    }
   },
   "outputs": [],
   "source": [
    "gpv = gp.plot_3d(geo_model, image=False, show_topography=True,\n",
    "                 plotter_type='basic', notebook=True, ve = 0.4)"
   ]
  },
  {
   "cell_type": "markdown",
   "metadata": {},
   "source": [
    "# Postprocessing - Converting Geological Map to Shape Files"
   ]
  },
  {
   "cell_type": "markdown",
   "metadata": {},
   "source": [
    "## Create GeoDataFrame with Polygons"
   ]
  },
  {
   "cell_type": "code",
   "execution_count": null,
   "metadata": {
    "ExecuteTime": {
     "end_time": "2020-08-19T14:47:20.857419Z",
     "start_time": "2020-08-19T14:47:20.714800Z"
    }
   },
   "outputs": [],
   "source": [
    "gdf = gg.post.extract_lithologies(geo_model, geo_data.extent[:4], geo_data.crs)\n",
    "gdf"
   ]
  },
  {
   "cell_type": "markdown",
   "metadata": {},
   "source": [
    "## Plot Polygons"
   ]
  },
  {
   "cell_type": "code",
   "execution_count": null,
   "metadata": {
    "ExecuteTime": {
     "end_time": "2020-08-19T14:47:21.008047Z",
     "start_time": "2020-08-19T14:47:20.858417Z"
    }
   },
   "outputs": [],
   "source": [
    "gdf.plot(column='formation', cmap=ListedColormap(cols), alpha=0.9)\n",
    "plt.grid()"
   ]
  },
  {
   "cell_type": "markdown",
   "metadata": {},
   "source": [
    "## Save Polygons as Shape Files\n",
    "\n",
    "These polygons can now be saved as shape files and displayed for example as in QGIS shown below. "
   ]
  },
  {
   "cell_type": "code",
   "execution_count": null,
   "metadata": {
    "ExecuteTime": {
     "end_time": "2020-08-19T14:47:21.064117Z",
     "start_time": "2020-08-19T14:47:21.009047Z"
    }
   },
   "outputs": [],
   "source": [
    "gdf.to_file('../liths.shp')"
   ]
  },
  {
   "cell_type": "markdown",
   "metadata": {},
   "source": [
    "## Save Polygons as GeoTiff\n",
    "\n",
    "Rasters like DEMs can be saved as georeferenced tif-files. The same can be done with the geological map obtained from `GemPy` by saving the array of the geological map as tif. "
   ]
  },
  {
   "cell_type": "code",
   "execution_count": null,
   "metadata": {
    "ExecuteTime": {
     "end_time": "2020-08-19T14:47:21.107944Z",
     "start_time": "2020-08-19T14:47:21.065053Z"
    }
   },
   "outputs": [],
   "source": [
    "gg.raster.save_as_tiff('../geolmap.tif',gmap, extent=geo_data.extent, crs='EPSG:4326')"
   ]
  },
  {
   "cell_type": "markdown",
   "metadata": {},
   "source": [
    "# Create borehole from Geo_Model\n",
    "\n",
    "Geological models are used to extract information from the subsurface. As geologists, we like to look of the result of the model at a single location and down to the maximum z extent in depth. This is termed a borehole or in the case of fluid extraction a well. These boreholes can easily be extracted and displayed using GemGIS. All you need is the `geo_model` object, the `geo_data` object and the location of your borehole, optionally with its maximum depth. "
   ]
  },
  {
   "cell_type": "code",
   "execution_count": null,
   "metadata": {
    "ExecuteTime": {
     "end_time": "2020-08-19T14:47:25.244385Z",
     "start_time": "2020-08-19T14:47:21.108930Z"
    }
   },
   "outputs": [],
   "source": [
    "sol = gg.post.extract_borehole(geo_model, geo_data, [250,500])\n",
    "sol"
   ]
  },
  {
   "cell_type": "markdown",
   "metadata": {},
   "source": [
    "# Depth Maps\n",
    "\n",
    "Depth maps indicate the depth of a surface within the model extent. By applying an intuitive color coding, the spatial position of the respective surface can easily be interpreted. Depth maps can easily be created by executing `gg.visualization.plot_depth_map(...)`. All that is needed is the `geo_model` object and the name of the surface to be plotted. Optionally, a range for the colorbar can be provided to make the maps of different surfaces comparable. Otherwise, the min and max values of each surface are taken for the limits of the color bar. By setting `notebook` to `False` an interactive PyVista Window is opened (press 'Q' to close window safely again)."
   ]
  },
  {
   "cell_type": "markdown",
   "metadata": {},
   "source": [
    "## Depth Map Layer1"
   ]
  },
  {
   "cell_type": "code",
   "execution_count": null,
   "metadata": {
    "ExecuteTime": {
     "end_time": "2020-08-19T14:47:25.877659Z",
     "start_time": "2020-08-19T14:47:25.246359Z"
    }
   },
   "outputs": [],
   "source": [
    "gg.visualization.plot_depth_map(geo_model, 'Layer1', clim=[100, 900], notebook=True)"
   ]
  },
  {
   "cell_type": "markdown",
   "metadata": {},
   "source": [
    "## Depth Map Layer2"
   ]
  },
  {
   "cell_type": "code",
   "execution_count": null,
   "metadata": {
    "ExecuteTime": {
     "end_time": "2020-08-19T14:47:26.424199Z",
     "start_time": "2020-08-19T14:47:25.879654Z"
    }
   },
   "outputs": [],
   "source": [
    "gg.visualization.plot_depth_map(geo_model, 'Layer2', clim=[100, 900], notebook=True)"
   ]
  },
  {
   "cell_type": "code",
   "execution_count": null,
   "metadata": {},
   "outputs": [],
   "source": []
  }
 ],
 "metadata": {
  "hide_input": false,
  "kernelspec": {
   "display_name": "Python 3",
   "language": "python",
   "name": "python3"
  },
  "language_info": {
   "codemirror_mode": {
    "name": "ipython",
    "version": 3
   },
   "file_extension": ".py",
   "mimetype": "text/x-python",
   "name": "python",
   "nbconvert_exporter": "python",
   "pygments_lexer": "ipython3",
   "version": "3.7.7"
  },
  "latex_envs": {
   "LaTeX_envs_menu_present": true,
   "autoclose": false,
   "autocomplete": true,
   "bibliofile": "biblio.bib",
   "cite_by": "apalike",
   "current_citInitial": 1,
   "eqLabelWithNumbers": true,
   "eqNumInitial": 1,
   "hotkeys": {
    "equation": "Ctrl-E",
    "itemize": "Ctrl-I"
   },
   "labels_anchors": false,
   "latex_user_defs": false,
   "report_style_numbering": false,
   "user_envs_cfg": false
  },
  "toc": {
   "base_numbering": 1,
   "nav_menu": {},
   "number_sections": true,
   "sideBar": true,
   "skip_h1_title": false,
   "title_cell": "Table of Contents",
   "title_sidebar": "Contents",
   "toc_cell": false,
   "toc_position": {},
   "toc_section_display": true,
   "toc_window_display": false
  }
 },
 "nbformat": 4,
 "nbformat_minor": 4
}