{
 "cells": [
  {
   "cell_type": "markdown",
   "metadata": {},
   "source": [
    "# Workshop GeoUtrecht - Reverse Fault - 21.08.2020\n",
    "\n",
    "**Authors: Alexander Jüstel (CGRE - RWTH Aachen University), Arthur Endlein Correira**"
   ]
  },
  {
   "cell_type": "markdown",
   "metadata": {},
   "source": [
    "# Overview"
   ]
  },
  {
   "cell_type": "markdown",
   "metadata": {
    "ExecuteTime": {
     "end_time": "2020-08-19T10:34:24.048262Z",
     "start_time": "2020-08-19T10:34:24.023329Z"
    }
   },
   "source": [
    "`GemGIS` is a Python-based, **open-source geographic information processing library**. It is capable of preprocessing spatial data such as vector data (shape files, geojson files, geopackages), raster data, data obtained from WMS services or XML/KML files. Preprocessed data can be stored in a dedicated Data Class to be passed to the geomodeling package [GemPy](https://github.com/cgre-aachen/gempy) in order to accelerate to model building process. Postprocessing of model results will allow export from `GemPy` to geoinformation systems such as QGIS and ArcGIS or to Google Earth for further use. \n",
    "\n",
    "`GemGIS` uses the full functionality of [GeoPandas](https://geopandas.org/), [rasterio](https://rasterio.readthedocs.io/en/latest/#), [OWSLib](https://geopython.github.io/OWSLib/), [Pandas](https://pandas.pydata.org/) and [NumPy](https://numpy.org/).\n",
    "\n",
    "All provided maps and examples were taken from the books 'Interpretation of Geological Structures Through Maps: An Introductory Practical Manual' by D. Powell and \"An Introduction to Geological Structures and Maps\" by G.M. Bennison referenced at the bottom. referenced at the bottom."
   ]
  },
  {
   "cell_type": "markdown",
   "metadata": {},
   "source": [
    "# Motivation\n",
    "\n",
    "`GemGIS` was build upon the idea of Prof. Florian Wellmann (CGRE - RWTH Aachen University) to have a tighter integration of spatial data with `GemPy`. Larger models (Master Thesis Alexander Jüstel) made it necessary to think about workflows to simplify the procedures to get a larger number of data into `GemPy`. \n",
    "\n",
    "***What is the aim of GemGIS?***\n",
    "- Accelerate processing of spatial data\n",
    "- Enhance post-modeling functionalities\n",
    "- Create a tool for teaching purposes\n",
    "- Interactively creating GemPy Models"
   ]
  },
  {
   "cell_type": "markdown",
   "metadata": {},
   "source": [
    "# Installation\n",
    "Due to rasterio, GemGIS must be used with **python==3.7**\n",
    "\n",
    "1) `conda install geopandas`\n",
    "\n",
    "2) `conda install rasterio`\n",
    "\n",
    "3) `pip install gemgis`\n"
   ]
  },
  {
   "cell_type": "markdown",
   "metadata": {},
   "source": [
    "# Structure of Package\n",
    "\n",
    "The core of `GemGIS` is made of the `GemPyData` class (`gemgis.py`). Its attributes can directly be utilized by `GemPy` making it easier for users to load data. Methods of the `GemPyData` class allow users to directly set these attributes. Multiple other files contain functions to manipulate vector data, raster data, etc.:\n",
    "\n",
    "* `gemgis.py` - core file containing the `GemPyData` class\n",
    "* `vector.py` - file containing functions to manipulate vector data\n",
    "* `raster.py` - file containing functions to manipulate raster data\n",
    "* `utils.py` - file containing utility functions frequently used for the manipulation of vector/raster data\n",
    "* `wms.py` - file containing methods to load WMS services as arrays/rasters\n",
    "* `visualization.py` - file containing functions to simplify plotting of spatial data\n",
    "* `postprocessing.py` - file containing functions to postprocess GemPy geo_model data\n",
    "* `notebooks` - folder containing tutorial notebooks explaining the features of `GemGIS` and example notebooks applying these features"
   ]
  },
  {
   "cell_type": "markdown",
   "metadata": {},
   "source": [
    "# Features\n",
    "\n",
    "<a name=\"vector\"></a>\n",
    "### Extracting Data from Vector Files\n",
    "\n",
    "Data stored as points, lines or polygons as shape-files, geopackages or geojson files can easily be imported into `GemGIS` GeoPandas GeoDataFrames. X and Y coordinates can then be extracted for these objects for direct use in `GemPy`. Digital elevations models can be interpolated if contour lines with height values are provided. If the loaded the exceeds the desired modeling/working are extent, the data can be cropped. \n",
    "\n",
    "<a name=\"raster\"></a>\n",
    "### Extracting Data from Raster Files\n",
    "\n",
    "Rasters (stored as arrays in Python) such as digital elevation models store height information. The height of interface points can be extracted from these rasters. In addition, if a raster represents a layer in the subsurface, orientation values can be sampled for the use in `GemPy`. Orientations are calculated via the slope and aspect of the provided raster. It is also possible to resize rasters, clip rasters or save rasters as referenced geotiffs again. \n",
    "\n",
    "<a name=\"wms\"></a>\n",
    "### Extracting Data from Online Services (in development)\n",
    "\n",
    "Online services provide a wide range of possibilities to work with spatial data. Currently, it is possible to load data from WMS services into `GemGIS`. The functionality will be extended to WCS and WFS services in the future.\n",
    "\n",
    "<a name=\"xml/kml\"></a>\n",
    "### Extracting Data from XML/KML Files (in development)\n",
    "XML/KML Data export will be available in the future. \n",
    "\n",
    "<a name=\"pyvista\"></a>\n",
    "### Visualization of Data in PyVista\n",
    "`PyVista` is the main 3D visualization package of `GemPy`. In order for new users to get used to the package, it is possible to plot the input data as a `PyVista` plot. \n",
    "\n",
    "<a name=\"utils\"></a>\n",
    "### Utility Tools\n",
    "`GemGIS` offers a wide range of utility tools. These includes \n",
    "* Conversion of vector data into custom sections directly usable in `GemPy`\n",
    "* Conversion of GeoDataFrames into Pandas DataFrames for `GemPy`\n",
    "* Setting the extent and resolution for a `GemPy` model based on vector data and lists\n",
    "* Load and save QGIS style files (QML) for the use as color_dict in `GemPy`\n",
    "* Calculate orientations based on strike lines\n",
    "* Interpolate missing strike lines to calculate orientations\n",
    "* Read CSV files as GeoDataFrames\n",
    "* and many more to come\n",
    "\n",
    "\n",
    "<a name=\"post\"></a>\n",
    "### Postprocessing of GemPy geo_model data\n",
    "`GemGIS` also offers postprocessing methods to use the data of the `GemPy` model. These include:\n",
    "* Export of the geological map as shape file\n",
    "* Extract boreholes from `GemPy` models\n",
    "* Create depth maps of surfaces\n",
    "* and many more to come"
   ]
  },
  {
   "cell_type": "markdown",
   "metadata": {},
   "source": [
    "# Workshop GeoUtrecht"
   ]
  },
  {
   "cell_type": "markdown",
   "metadata": {},
   "source": [
    "The image below shows an outcropping coal seam with layers above and below the coal seam as well as a fault striking\n",
    "roughly W-E. The area is  763 m wide (W-E extent) and 989 m high (N-S extent). The scale is neglected.\n",
    "\n",
    "Tasks: \n",
    "- Create a `GemPy` Model to visualize the spatial distribution of the coal seam. \n",
    "\n",
    "- Determine the type of fault (normal, reverse, transform)\n",
    "\n",
    "- Where would you recommend to drill (taking the type of fault into account)?\n"
   ]
  },
  {
   "cell_type": "markdown",
   "metadata": {},
   "source": [
    "<img src=\"../data/task.png\" width=\"300\">"
   ]
  },
  {
   "cell_type": "markdown",
   "metadata": {},
   "source": [
    "# Data Audit\n",
    "\n",
    "***What is available:***\n",
    "- Contour Lines\n",
    "- Layer Boundaries\n",
    "- Fault Trace\n",
    "\n",
    "***What is needed:***\n",
    "- Interface points\n",
    "- Orientation values\n",
    "\n",
    "***How do we get the missing data?***\n",
    "-> via strike lines\n",
    "\n",
    "***What do we need to do now?***\n",
    "- Digitize contour lines\n",
    "- Digitize layer boundaries\n",
    "- Create strike lines\n",
    "- Create custom section"
   ]
  },
  {
   "cell_type": "markdown",
   "metadata": {},
   "source": [
    "# Importing Libraries"
   ]
  },
  {
   "cell_type": "code",
   "execution_count": 2,
   "metadata": {},
   "outputs": [],
   "source": [
    "import os\n",
    "# Add your user name in ****\n",
    "os.environ['PROJ_LIB'] = r'C:\\Users\\****\\miniconda3\\envs\\gu\\Library\\share\\proj'"
   ]
  },
  {
   "cell_type": "code",
   "execution_count": 3,
   "metadata": {
    "ExecuteTime": {
     "end_time": "2020-08-19T14:35:17.738245Z",
     "start_time": "2020-08-19T14:35:14.954691Z"
    }
   },
   "outputs": [],
   "source": [
    "import sys\n",
    "sys.path.append('../gemgis')\n",
    "import gemgis as gg\n",
    "import geopandas as gpd\n",
    "import rasterio\n",
    "import numpy as np\n",
    "import pandas as pd\n",
    "import matplotlib.pyplot as plt\n",
    "from matplotlib.colors import ListedColormap\n",
    "from mpl_toolkits.axes_grid1 import make_axes_locatable"
   ]
  },
  {
   "cell_type": "markdown",
   "metadata": {},
   "source": [
    "# Data Preaparation"
   ]
  },
  {
   "cell_type": "markdown",
   "metadata": {},
   "source": [
    "## Load Basemap and Geological Map"
   ]
  },
  {
   "cell_type": "code",
   "execution_count": 4,
   "metadata": {
    "ExecuteTime": {
     "end_time": "2020-08-19T14:35:17.771158Z",
     "start_time": "2020-08-19T14:35:17.740240Z"
    }
   },
   "outputs": [
    {
     "name": "stderr",
     "output_type": "stream",
     "text": [
      "C:\\Users\\legui\\miniconda3\\envs\\gu2\\lib\\site-packages\\rasterio\\__init__.py:219: NotGeoreferencedWarning: Dataset has no geotransform set. The identity matrix may be returned.\n",
      "  s = DatasetReader(path, driver=driver, sharing=sharing, **kwargs)\n"
     ]
    }
   ],
   "source": [
    "base_map = rasterio.open('../data/task.png')\n",
    "geological_map = gpd.read_file('../data/geolmap.geojson')"
   ]
  },
  {
   "cell_type": "markdown",
   "metadata": {},
   "source": [
    "## Digitize and Load Contour Data"
   ]
  },
  {
   "cell_type": "code",
   "execution_count": null,
   "metadata": {
    "ExecuteTime": {
     "end_time": "2020-08-19T14:35:17.819032Z",
     "start_time": "2020-08-19T14:35:17.773154Z"
    }
   },
   "outputs": [],
   "source": []
  },
  {
   "cell_type": "code",
   "execution_count": null,
   "metadata": {
    "ExecuteTime": {
     "end_time": "2020-08-19T14:35:17.846955Z",
     "start_time": "2020-08-19T14:35:17.821023Z"
    }
   },
   "outputs": [],
   "source": []
  },
  {
   "cell_type": "code",
   "execution_count": null,
   "metadata": {
    "ExecuteTime": {
     "end_time": "2020-08-19T14:35:17.882859Z",
     "start_time": "2020-08-19T14:35:17.848949Z"
    }
   },
   "outputs": [],
   "source": []
  },
  {
   "cell_type": "code",
   "execution_count": null,
   "metadata": {
    "ExecuteTime": {
     "end_time": "2020-08-19T14:35:17.916769Z",
     "start_time": "2020-08-19T14:35:17.883855Z"
    }
   },
   "outputs": [],
   "source": []
  },
  {
   "cell_type": "markdown",
   "metadata": {},
   "source": [
    "## Plot Topography"
   ]
  },
  {
   "cell_type": "code",
   "execution_count": null,
   "metadata": {
    "ExecuteTime": {
     "end_time": "2020-08-19T14:35:18.630857Z",
     "start_time": "2020-08-19T14:35:17.919761Z"
    }
   },
   "outputs": [],
   "source": [
    "extent = gpd.read_file('../data/extent.geojson')\n",
    "extent = gg.utils.set_extent(gdf=extent, minz=100, maxz=900)\n",
    "\n",
    "# Creating a figure with two subplots\n",
    "fig, (ax1, ax2) = plt.subplots(ncols=2, sharex=True, sharey=True,figsize=(20,10))\n",
    "# Plotting the geological map\n",
    "ax1.imshow(np.flipud(base_map.read(1)), origin = 'lower', cmap ='gray')\n",
    "ax1.set_xlabel('X')\n",
    "ax1.set_ylabel('Y')\n",
    "ax1.grid()\n",
    "ax1.set_ylim(extent[2],extent[3])\n",
    "ax1.set_xlim(extent[0],extent[1])\n",
    "\n",
    "# Plotting the geological map\n",
    "ax2.imshow(np.flipud(base_map.read(1)), origin = 'lower', cmap ='gray')\n",
    "# Plotting the different elements on the geological map\n",
    "topo.plot(ax=ax2, column = 'Z', legend = False, linewidth = 5, cmap = 'gist_earth',\n",
    "          aspect='equal')\n",
    "\n",
    "# orientations.plot(ax=ax2, column = 'formation', legend = False, s = 300)\n",
    "\n",
    "ax2.set_xlabel('X')\n",
    "ax2.set_ylabel('Y')\n",
    "ax2.grid()\n",
    "ax2.set_ylim(extent[2],extent[3])\n",
    "ax2.set_xlim(extent[0],extent[1]);"
   ]
  },
  {
   "cell_type": "markdown",
   "metadata": {},
   "source": [
    "## Interpolate Topography"
   ]
  },
  {
   "cell_type": "code",
   "execution_count": null,
   "metadata": {
    "ExecuteTime": {
     "end_time": "2020-08-19T13:40:28.898004Z",
     "start_time": "2020-08-19T13:37:02.690296Z"
    },
    "deletable": false,
    "editable": false,
    "run_control": {
     "frozen": true
    }
   },
   "outputs": [],
   "source": [
    "dem = gg.vector.interpolate_raster(topo, method='rbf')\n",
    "dem"
   ]
  },
  {
   "cell_type": "code",
   "execution_count": null,
   "metadata": {
    "ExecuteTime": {
     "end_time": "2020-08-19T13:46:41.866727Z",
     "start_time": "2020-08-19T13:46:41.814910Z"
    },
    "deletable": false,
    "editable": false,
    "run_control": {
     "frozen": true
    }
   },
   "outputs": [],
   "source": [
    "np.save('../dem.npy',dem)"
   ]
  },
  {
   "cell_type": "code",
   "execution_count": null,
   "metadata": {
    "ExecuteTime": {
     "end_time": "2020-08-19T14:35:18.643823Z",
     "start_time": "2020-08-19T14:35:18.633851Z"
    }
   },
   "outputs": [],
   "source": [
    "dem = np.load('../dem.npy')"
   ]
  },
  {
   "cell_type": "code",
   "execution_count": null,
   "metadata": {
    "ExecuteTime": {
     "end_time": "2020-08-19T14:35:18.755542Z",
     "start_time": "2020-08-19T14:35:18.646816Z"
    }
   },
   "outputs": [],
   "source": []
  },
  {
   "cell_type": "code",
   "execution_count": null,
   "metadata": {
    "ExecuteTime": {
     "end_time": "2020-08-19T14:35:18.825337Z",
     "start_time": "2020-08-19T14:35:18.759514Z"
    }
   },
   "outputs": [],
   "source": []
  },
  {
   "cell_type": "markdown",
   "metadata": {},
   "source": [
    "## Plot Topography"
   ]
  },
  {
   "cell_type": "code",
   "execution_count": null,
   "metadata": {
    "ExecuteTime": {
     "end_time": "2020-08-19T14:35:19.607246Z",
     "start_time": "2020-08-19T14:35:18.827332Z"
    }
   },
   "outputs": [],
   "source": [
    "extent = gpd.read_file('data/extent.geojson')\n",
    "extent = gg.utils.set_extent(gdf=extent, minz=100, maxz=900)\n",
    "\n",
    "# Creating a figure with two subplots\n",
    "fig, (ax1, ax2) = plt.subplots(ncols=2, sharex=True, sharey=True,figsize=(20,10))\n",
    "# Plotting the geological map\n",
    "ax1.imshow(np.flipud(base_map.read(1)), origin = 'lower', cmap ='gray')\n",
    "ax1.set_xlabel('X')\n",
    "ax1.set_ylabel('Y')\n",
    "ax1.grid()\n",
    "ax1.set_ylim(extent[2],extent[3])\n",
    "ax1.set_xlim(extent[0],extent[1])\n",
    "\n",
    "# Plotting the geological map\n",
    "ax2.imshow(np.flipud(base_map.read(1)), origin = 'lower', cmap ='gray')\n",
    "# Plotting the different elements on the geological map\n",
    "im = plt.imshow(dem,origin = 'lower', alpha=0.75, cmap='gist_earth')\n",
    "cbar = plt.colorbar(im)\n",
    "cbar.set_label('m')\n",
    "ax2.set_xlabel('X')\n",
    "ax2.set_ylabel('Y')\n",
    "ax2.set_ylim(extent[2],extent[3])\n",
    "ax2.set_xlim(extent[0],extent[1]);\n"
   ]
  },
  {
   "cell_type": "markdown",
   "metadata": {},
   "source": [
    "## Save Topography as Raster"
   ]
  },
  {
   "cell_type": "code",
   "execution_count": null,
   "metadata": {
    "ExecuteTime": {
     "end_time": "2020-08-19T14:35:19.642152Z",
     "start_time": "2020-08-19T14:35:19.608242Z"
    }
   },
   "outputs": [],
   "source": [
    "gg.raster.save_as_tiff('../topo.tif',dem, crs='EPSG:4326', extent=[0,765,0,1000])"
   ]
  },
  {
   "cell_type": "markdown",
   "metadata": {},
   "source": [
    "## Digitize and Load Layer Boundaries"
   ]
  },
  {
   "cell_type": "code",
   "execution_count": null,
   "metadata": {
    "ExecuteTime": {
     "end_time": "2020-08-19T14:35:19.672074Z",
     "start_time": "2020-08-19T14:35:19.644146Z"
    }
   },
   "outputs": [],
   "source": []
  },
  {
   "cell_type": "code",
   "execution_count": null,
   "metadata": {
    "ExecuteTime": {
     "end_time": "2020-08-19T14:35:19.708973Z",
     "start_time": "2020-08-19T14:35:19.674069Z"
    }
   },
   "outputs": [],
   "source": []
  },
  {
   "cell_type": "markdown",
   "metadata": {},
   "source": [
    "## Extract coordinates"
   ]
  },
  {
   "cell_type": "code",
   "execution_count": null,
   "metadata": {
    "ExecuteTime": {
     "end_time": "2020-08-19T14:35:19.926401Z",
     "start_time": "2020-08-19T14:35:19.714960Z"
    }
   },
   "outputs": [],
   "source": []
  },
  {
   "cell_type": "markdown",
   "metadata": {},
   "source": [
    "## Plot Interfaces"
   ]
  },
  {
   "cell_type": "code",
   "execution_count": null,
   "metadata": {
    "ExecuteTime": {
     "end_time": "2020-08-19T14:35:20.706306Z",
     "start_time": "2020-08-19T14:35:19.928386Z"
    }
   },
   "outputs": [],
   "source": [
    "extent = gpd.read_file('../data/extent.geojson')\n",
    "extent = gg.utils.set_extent(gdf=extent, minz=100, maxz=900)\n",
    "\n",
    "# Creating a figure with two subplots\n",
    "fig, (ax1, ax2) = plt.subplots(ncols=2, sharex=True, sharey=True,figsize=(20,10))\n",
    "# Plotting the geological map\n",
    "ax1.imshow(np.flipud(base_map.read(1)), origin = 'lower', cmap ='gray')\n",
    "ax1.set_xlabel('X')\n",
    "ax1.set_ylabel('Y')\n",
    "ax1.grid()\n",
    "ax1.set_ylim(extent[2],extent[3])\n",
    "ax1.set_xlim(extent[0],extent[1])\n",
    "\n",
    "# Plotting the geological map\n",
    "ax2.imshow(np.flipud(base_map.read(1)), origin = 'lower', cmap ='gray')\n",
    "# Plotting the different elements on the geological map\n",
    "interfaces.plot(ax=ax2, column = 'formation', legend = True, linewidth = 10,\n",
    "                aspect='equal')\n",
    "ax2.set_xlabel('X')\n",
    "ax2.set_ylabel('Y')\n",
    "ax2.set_ylim(extent[2],extent[3])\n",
    "ax2.set_xlim(extent[0],extent[1]);\n"
   ]
  },
  {
   "cell_type": "markdown",
   "metadata": {},
   "source": [
    "## Calculate Orientations\n",
    "\n",
    "<img src=\"../data/orientations.jpg\" width=\"500\">\n",
    "<img src=\"../data/task.png\" width=\"300\">"
   ]
  },
  {
   "cell_type": "markdown",
   "metadata": {},
   "source": [
    "## Digitizing and Loading Fault Strike"
   ]
  },
  {
   "cell_type": "code",
   "execution_count": null,
   "metadata": {
    "ExecuteTime": {
     "end_time": "2020-08-19T14:35:20.795067Z",
     "start_time": "2020-08-19T14:35:20.709320Z"
    }
   },
   "outputs": [],
   "source": []
  },
  {
   "cell_type": "code",
   "execution_count": null,
   "metadata": {
    "ExecuteTime": {
     "end_time": "2020-08-19T14:35:21.510154Z",
     "start_time": "2020-08-19T14:35:20.798061Z"
    }
   },
   "outputs": [],
   "source": [
    "# Creating a figure with two subplots\n",
    "fig, (ax1, ax2) = plt.subplots(ncols=2, sharex=True, sharey=True,figsize=(20,10))\n",
    "# Plotting the geological map\n",
    "ax1.imshow(np.flipud(base_map.read(1)), origin = 'lower', cmap ='gray')\n",
    "ax1.set_xlabel('X')\n",
    "ax1.set_ylabel('Y')\n",
    "ax1.grid()\n",
    "ax1.set_ylim(extent[2],extent[3])\n",
    "ax1.set_xlim(extent[0],extent[1])\n",
    "\n",
    "# Plotting the geological map\n",
    "ax2.imshow(np.flipud(base_map.read(1)), origin = 'lower', cmap ='gray')\n",
    "# Plotting the different elements on the geological map\n",
    "strike_fault.plot(ax=ax2, column = 'formation', legend = False, linewidth = 5,\n",
    "                  aspect='equal')\n",
    "ax2.set_xlabel('X')\n",
    "ax2.set_ylabel('Y')\n",
    "ax2.grid()\n",
    "ax1.set_ylim(extent[2],extent[3])\n",
    "ax1.set_xlim(extent[0],extent[1]);"
   ]
  },
  {
   "cell_type": "markdown",
   "metadata": {},
   "source": [
    "Based on the strike lines and the calculated angles, we can conclude that the fault is dipping towards the south. Please take into account that the map was not digitized to scale. So angles are usually higher than expected for certain types of faults!"
   ]
  },
  {
   "cell_type": "code",
   "execution_count": null,
   "metadata": {
    "ExecuteTime": {
     "end_time": "2020-08-19T14:35:21.555034Z",
     "start_time": "2020-08-19T14:35:21.511152Z"
    }
   },
   "outputs": [],
   "source": []
  },
  {
   "cell_type": "markdown",
   "metadata": {},
   "source": [
    "***What is the dip direction of fault?***"
   ]
  },
  {
   "cell_type": "markdown",
   "metadata": {},
   "source": [
    "## Digitize and Load Interface Strike\n",
    "For the strike of the different layers we have to distinguish between layer 1 and layer 2 and between the two fault blocks. "
   ]
  },
  {
   "cell_type": "code",
   "execution_count": null,
   "metadata": {
    "ExecuteTime": {
     "end_time": "2020-08-19T14:35:21.632826Z",
     "start_time": "2020-08-19T14:35:21.556033Z"
    }
   },
   "outputs": [],
   "source": []
  },
  {
   "cell_type": "code",
   "execution_count": null,
   "metadata": {
    "ExecuteTime": {
     "end_time": "2020-08-19T14:35:22.383828Z",
     "start_time": "2020-08-19T14:35:21.635821Z"
    }
   },
   "outputs": [],
   "source": [
    "# Creating a figure with two subplots\n",
    "fig, (ax1, ax2) = plt.subplots(ncols=2, sharex=True, sharey=True,figsize=(20,10))\n",
    "# Plotting the geological map\n",
    "ax1.imshow(np.flipud(base_map.read(1)), origin = 'lower', cmap ='gray')\n",
    "ax1.set_xlabel('X')\n",
    "ax1.set_ylabel('Y')\n",
    "ax1.grid()\n",
    "ax1.set_ylim(extent[2],extent[3])\n",
    "ax1.set_xlim(extent[0],extent[1])\n",
    "\n",
    "# Plotting the geological map\n",
    "ax2.imshow(np.flipud(base_map.read(1)), origin = 'lower', cmap ='gray')\n",
    "# Plotting the different elements on the geological map\n",
    "strike_layers.plot(ax=ax2, column = 'formation', legend = True, linewidth = 5,\n",
    "                   aspect='equal')\n",
    "ax2.set_xlabel('X')\n",
    "ax2.set_ylabel('Y')\n",
    "ax2.grid()\n",
    "ax1.set_ylim(extent[2],extent[3])\n",
    "ax1.set_xlim(extent[0],extent[1]);"
   ]
  },
  {
   "cell_type": "markdown",
   "metadata": {},
   "source": [
    "## Separate Layers"
   ]
  },
  {
   "cell_type": "code",
   "execution_count": null,
   "metadata": {
    "ExecuteTime": {
     "end_time": "2020-08-19T14:35:22.404761Z",
     "start_time": "2020-08-19T14:35:22.387807Z"
    }
   },
   "outputs": [],
   "source": [
    "gdf1 = strike_layers[strike_layers['formation'] == 'Layer1']\n",
    "gdf2 = strike_layers[strike_layers['formation'] == 'Layer2']\n",
    "gdf1_south = gdf1[gdf1['id']<= 4]\n",
    "gdf1_north = gdf1[gdf1['id']> 4]\n",
    "gdf2_south = gdf2[gdf2['id']<= 5]\n",
    "gdf2_north = gdf2[gdf2['id']> 5]"
   ]
  },
  {
   "cell_type": "markdown",
   "metadata": {},
   "source": [
    "## Calculate Orientations"
   ]
  },
  {
   "cell_type": "code",
   "execution_count": null,
   "metadata": {
    "ExecuteTime": {
     "end_time": "2020-08-19T14:35:22.647114Z",
     "start_time": "2020-08-19T14:35:22.408752Z"
    }
   },
   "outputs": [],
   "source": [
    "orientations1_south = gg.utils.calculate_orientations(gdf1_south)\n",
    "orientations1_north = gg.utils.calculate_orientations(gdf1_north)\n",
    "orientations2_south = gg.utils.calculate_orientations(gdf2_south)\n",
    "orientations2_north = gg.utils.calculate_orientations(gdf2_north)\n",
    "orientations2_north"
   ]
  },
  {
   "cell_type": "markdown",
   "metadata": {},
   "source": [
    "## Merge DataFrames"
   ]
  },
  {
   "cell_type": "code",
   "execution_count": null,
   "metadata": {
    "ExecuteTime": {
     "end_time": "2020-08-19T14:35:22.669088Z",
     "start_time": "2020-08-19T14:35:22.650107Z"
    }
   },
   "outputs": [],
   "source": [
    "orientations_coords = pd.concat([orientations_fault, orientations1_south, orientations1_north, orientations2_south, orientations2_north]).reset_index()\n",
    "orientations_coords"
   ]
  },
  {
   "cell_type": "code",
   "execution_count": null,
   "metadata": {
    "ExecuteTime": {
     "end_time": "2020-08-19T14:35:23.415059Z",
     "start_time": "2020-08-19T14:35:22.671050Z"
    }
   },
   "outputs": [],
   "source": [
    "# Creating a figure with two subplots\n",
    "fig, (ax1, ax2) = plt.subplots(ncols=2, sharex=True, sharey=True,figsize=(20,10))\n",
    "# Plotting the geological map\n",
    "ax1.imshow(np.flipud(base_map.read(1)), origin = 'lower', cmap ='gray')\n",
    "ax1.set_xlabel('X')\n",
    "ax1.set_ylabel('Y')\n",
    "ax1.grid()\n",
    "ax1.set_ylim(extent[2],extent[3])\n",
    "ax1.set_xlim(extent[0],extent[1])\n",
    "\n",
    "# Plotting the geological map\n",
    "ax2.imshow(np.flipud(base_map.read(1)), origin = 'lower', cmap ='gray')\n",
    "# Plotting the different elements on the geological map\n",
    "ax2.scatter(orientations_coords['X'], orientations_coords['Y'])\n",
    "strike_layers.plot(ax=ax2, column = 'formation', legend = True, linewidth = 5, aspect='equal')\n",
    "ax2.set_xlabel('X')\n",
    "ax2.set_ylabel('Y')\n",
    "ax2.grid()\n",
    "ax1.set_ylim(extent[2],extent[3])\n",
    "ax1.set_xlim(extent[0],extent[1]);"
   ]
  },
  {
   "cell_type": "markdown",
   "metadata": {},
   "source": [
    "***What direction are the layers dipping?***\n",
    "***Which one is the oldest? Which one is the youngest?***"
   ]
  },
  {
   "cell_type": "markdown",
   "metadata": {},
   "source": [
    "# Let us combine everything - Creating a GemPy Data Class"
   ]
  },
  {
   "cell_type": "code",
   "execution_count": null,
   "metadata": {
    "ExecuteTime": {
     "end_time": "2020-08-19T14:35:23.420046Z",
     "start_time": "2020-08-19T14:35:23.416058Z"
    }
   },
   "outputs": [],
   "source": []
  },
  {
   "cell_type": "code",
   "execution_count": null,
   "metadata": {
    "ExecuteTime": {
     "end_time": "2020-08-19T14:35:23.485869Z",
     "start_time": "2020-08-19T14:35:23.422041Z"
    }
   },
   "outputs": [],
   "source": []
  },
  {
   "cell_type": "markdown",
   "metadata": {},
   "source": [
    "## Set Extent"
   ]
  },
  {
   "cell_type": "code",
   "execution_count": null,
   "metadata": {
    "ExecuteTime": {
     "end_time": "2020-08-19T14:35:23.526761Z",
     "start_time": "2020-08-19T14:35:23.487865Z"
    }
   },
   "outputs": [],
   "source": []
  },
  {
   "cell_type": "markdown",
   "metadata": {},
   "source": [
    "## Set Resolution"
   ]
  },
  {
   "cell_type": "code",
   "execution_count": null,
   "metadata": {
    "ExecuteTime": {
     "end_time": "2020-08-19T14:35:23.569647Z",
     "start_time": "2020-08-19T14:35:23.530750Z"
    }
   },
   "outputs": [],
   "source": []
  },
  {
   "cell_type": "markdown",
   "metadata": {},
   "source": [
    "## Set Interfaces"
   ]
  },
  {
   "cell_type": "code",
   "execution_count": null,
   "metadata": {
    "ExecuteTime": {
     "end_time": "2020-08-19T14:35:23.628490Z",
     "start_time": "2020-08-19T14:35:23.571641Z"
    }
   },
   "outputs": [],
   "source": []
  },
  {
   "cell_type": "code",
   "execution_count": null,
   "metadata": {
    "ExecuteTime": {
     "end_time": "2020-08-19T14:35:23.668412Z",
     "start_time": "2020-08-19T14:35:23.630483Z"
    }
   },
   "outputs": [],
   "source": []
  },
  {
   "cell_type": "markdown",
   "metadata": {},
   "source": [
    "## Add Section Dict"
   ]
  },
  {
   "cell_type": "code",
   "execution_count": null,
   "metadata": {
    "ExecuteTime": {
     "end_time": "2020-08-19T14:35:23.733208Z",
     "start_time": "2020-08-19T14:35:23.669379Z"
    }
   },
   "outputs": [],
   "source": []
  },
  {
   "cell_type": "markdown",
   "metadata": {},
   "source": [
    "## Add Surface Colors"
   ]
  },
  {
   "cell_type": "code",
   "execution_count": null,
   "metadata": {
    "ExecuteTime": {
     "end_time": "2020-08-19T14:35:23.797038Z",
     "start_time": "2020-08-19T14:35:23.736201Z"
    }
   },
   "outputs": [],
   "source": []
  },
  {
   "cell_type": "markdown",
   "metadata": {},
   "source": [
    "## Add Stack"
   ]
  },
  {
   "cell_type": "code",
   "execution_count": null,
   "metadata": {
    "ExecuteTime": {
     "end_time": "2020-08-19T14:35:23.819976Z",
     "start_time": "2020-08-19T14:35:23.799033Z"
    }
   },
   "outputs": [],
   "source": []
  },
  {
   "cell_type": "markdown",
   "metadata": {},
   "source": [
    "## Add DEM"
   ]
  },
  {
   "cell_type": "code",
   "execution_count": null,
   "metadata": {
    "ExecuteTime": {
     "end_time": "2020-08-19T14:35:23.852888Z",
     "start_time": "2020-08-19T14:35:23.821971Z"
    }
   },
   "outputs": [],
   "source": []
  },
  {
   "cell_type": "markdown",
   "metadata": {},
   "source": [
    "# Visualize Data Set"
   ]
  },
  {
   "cell_type": "code",
   "execution_count": null,
   "metadata": {
    "ExecuteTime": {
     "end_time": "2020-08-19T14:35:26.431832Z",
     "start_time": "2020-08-19T14:35:23.853885Z"
    }
   },
   "outputs": [],
   "source": [
    "import pyvista as pv\n",
    "p = pv.Plotter(notebook =True)\n",
    "gg.visualization.plot_dem_3d(dem, p, cmap = 'gist_earth')\n",
    "gg.visualization.plot_contours_3d(topo, p, color = 'red', add_to_z = 10)\n",
    "gg.visualization.plot_points_3d(interfaces_coords, p, color = 'blue', add_to_z = 10)\n",
    "gg.visualization.plot_points_3d(orientations_coords, p, color = 'orange', add_to_z = 20)\n",
    "gg.visualization.plot_contours_3d(interfaces_coords, p, color = 'blue', add_to_z = 10)\n",
    "\n",
    "p.camera_position =[(-283.285811675846, -1597.1397046051004, 1155.542325449192), \n",
    "                    (577.9371599370799, 495.3480261506809, 381.7124055285182), \n",
    "                    (0.17313457304419916, 0.27814381639313923, 0.9448070898437746)]\n",
    "p.set_background('white')\n",
    "p.show_grid(color='black')\n",
    "p.show()"
   ]
  },
  {
   "cell_type": "markdown",
   "metadata": {},
   "source": [
    "# Create GemPy Model"
   ]
  },
  {
   "cell_type": "markdown",
   "metadata": {},
   "source": [
    "## Importing GemPy\n",
    "\n",
    "Please see https://docs.gempy.org/installation.html for more information on how to install GemPy."
   ]
  },
  {
   "cell_type": "code",
   "execution_count": null,
   "metadata": {
    "ExecuteTime": {
     "end_time": "2020-08-19T14:35:26.439837Z",
     "start_time": "2020-08-19T14:35:26.433828Z"
    }
   },
   "outputs": [],
   "source": [
    "import gempy as gp\n",
    "print(gp)\n",
    "print(gp.__version__)"
   ]
  },
  {
   "cell_type": "markdown",
   "metadata": {},
   "source": [
    "## Creating GemPy Model\n",
    "\n",
    "For more information on how to create a GemPy Model, please see the tutorials at: https://docs.gempy.org/tutorials/index.html. With the attributes of the GemPy Data Class, all necessary variables can be passed to the model."
   ]
  },
  {
   "cell_type": "code",
   "execution_count": null,
   "metadata": {
    "ExecuteTime": {
     "end_time": "2020-08-19T14:35:29.068348Z",
     "start_time": "2020-08-19T14:35:26.440809Z"
    }
   },
   "outputs": [],
   "source": []
  },
  {
   "cell_type": "code",
   "execution_count": null,
   "metadata": {
    "ExecuteTime": {
     "end_time": "2020-08-19T14:35:29.234913Z",
     "start_time": "2020-08-19T14:35:29.069345Z"
    }
   },
   "outputs": [],
   "source": []
  },
  {
   "cell_type": "code",
   "execution_count": null,
   "metadata": {
    "ExecuteTime": {
     "end_time": "2020-08-19T14:35:29.787732Z",
     "start_time": "2020-08-19T14:35:29.235899Z"
    }
   },
   "outputs": [],
   "source": []
  },
  {
   "cell_type": "code",
   "execution_count": null,
   "metadata": {
    "ExecuteTime": {
     "end_time": "2020-08-19T14:35:29.794702Z",
     "start_time": "2020-08-19T14:35:29.788717Z"
    }
   },
   "outputs": [],
   "source": []
  },
  {
   "cell_type": "code",
   "execution_count": null,
   "metadata": {
    "ExecuteTime": {
     "end_time": "2020-08-19T14:35:29.981647Z",
     "start_time": "2020-08-19T14:35:29.795699Z"
    }
   },
   "outputs": [],
   "source": []
  },
  {
   "cell_type": "code",
   "execution_count": null,
   "metadata": {
    "ExecuteTime": {
     "end_time": "2020-08-19T14:35:29.990624Z",
     "start_time": "2020-08-19T14:35:29.982645Z"
    }
   },
   "outputs": [],
   "source": []
  },
  {
   "cell_type": "code",
   "execution_count": null,
   "metadata": {
    "ExecuteTime": {
     "end_time": "2020-08-19T14:35:30.292851Z",
     "start_time": "2020-08-19T14:35:29.991591Z"
    }
   },
   "outputs": [],
   "source": [
    "gp.plot_2d(geo_model, direction = 'z')\n",
    "plt.grid()"
   ]
  },
  {
   "cell_type": "markdown",
   "metadata": {},
   "source": [
    "A raster created with ArcGIS has to be loaded as the import of the created raster fails. This is due to a bug in `GemPy`described here: https://github.com/cgre-aachen/gempy/issues/492"
   ]
  },
  {
   "cell_type": "code",
   "execution_count": null,
   "metadata": {
    "ExecuteTime": {
     "end_time": "2020-08-19T14:35:32.759996Z",
     "start_time": "2020-08-19T14:35:30.293814Z"
    }
   },
   "outputs": [],
   "source": []
  },
  {
   "cell_type": "code",
   "execution_count": null,
   "metadata": {
    "ExecuteTime": {
     "end_time": "2020-08-19T14:35:32.986389Z",
     "start_time": "2020-08-19T14:35:32.760961Z"
    }
   },
   "outputs": [],
   "source": []
  },
  {
   "cell_type": "code",
   "execution_count": null,
   "metadata": {
    "ExecuteTime": {
     "end_time": "2020-08-19T14:35:33.140975Z",
     "start_time": "2020-08-19T14:35:32.987356Z"
    }
   },
   "outputs": [],
   "source": []
  },
  {
   "cell_type": "code",
   "execution_count": null,
   "metadata": {
    "ExecuteTime": {
     "end_time": "2020-08-19T14:35:33.244379Z",
     "start_time": "2020-08-19T14:35:33.141941Z"
    }
   },
   "outputs": [],
   "source": []
  },
  {
   "cell_type": "code",
   "execution_count": null,
   "metadata": {
    "ExecuteTime": {
     "end_time": "2020-08-19T14:35:36.460583Z",
     "start_time": "2020-08-19T14:35:33.246374Z"
    }
   },
   "outputs": [],
   "source": [
    "gp.set_interpolator(geo_model,\n",
    "                    compile_theano=True,\n",
    "                    theano_optimizer='fast_compile',\n",
    "                    verbose=[],\n",
    "                    update_kriging = False\n",
    "                    )"
   ]
  },
  {
   "cell_type": "code",
   "execution_count": null,
   "metadata": {
    "ExecuteTime": {
     "end_time": "2020-08-19T14:36:24.564927Z",
     "start_time": "2020-08-19T14:35:36.461580Z"
    }
   },
   "outputs": [],
   "source": []
  },
  {
   "cell_type": "code",
   "execution_count": null,
   "metadata": {
    "ExecuteTime": {
     "end_time": "2020-08-19T14:36:24.716491Z",
     "start_time": "2020-08-19T14:36:24.566897Z"
    }
   },
   "outputs": [],
   "source": []
  },
  {
   "cell_type": "markdown",
   "metadata": {},
   "source": [
    "The geological map had to be created manually as there seems to be a bug when creating the geological map with `GemGIS`. This was reported already: https://github.com/cgre-aachen/gempy/issues/446"
   ]
  },
  {
   "cell_type": "raw",
   "metadata": {
    "ExecuteTime": {
     "end_time": "2020-07-29T15:05:31.270407Z",
     "start_time": "2020-07-29T15:05:31.071339Z"
    }
   },
   "source": [
    "gp.plot_2d(geo_model, section_names=['topography'], show_contours=False)"
   ]
  },
  {
   "cell_type": "code",
   "execution_count": null,
   "metadata": {
    "ExecuteTime": {
     "end_time": "2020-08-19T14:36:25.036094Z",
     "start_time": "2020-08-19T14:36:24.717497Z"
    }
   },
   "outputs": [],
   "source": [
    "shape = geo_model._grid.topography.values_2d[:, :, 2].shape\n",
    "geolmap = geo_model.solutions.geological_map[0].reshape(shape)\n",
    "cols = ['#069a2b', '#b35a2a','#525252', ]\n",
    "plt.figure(figsize=(10,10))\n",
    "plt.imshow(np.flipud(base_map.read(1)), origin = 'lower', cmap ='gray')\n",
    "gmap = np.rot90(geolmap,1)\n",
    "plt.imshow(gmap, extent=geo_data.extent[:4], alpha=0.75, cmap=ListedColormap(cols))"
   ]
  },
  {
   "cell_type": "code",
   "execution_count": null,
   "metadata": {
    "ExecuteTime": {
     "end_time": "2020-08-19T14:36:25.353246Z",
     "start_time": "2020-08-19T14:36:25.037092Z"
    }
   },
   "outputs": [],
   "source": []
  },
  {
   "cell_type": "code",
   "execution_count": null,
   "metadata": {
    "ExecuteTime": {
     "end_time": "2020-08-19T14:36:25.686389Z",
     "start_time": "2020-08-19T14:36:25.354243Z"
    }
   },
   "outputs": [],
   "source": []
  },
  {
   "cell_type": "code",
   "execution_count": null,
   "metadata": {
    "ExecuteTime": {
     "end_time": "2020-08-19T14:36:26.072322Z",
     "start_time": "2020-08-19T14:36:25.688383Z"
    }
   },
   "outputs": [],
   "source": []
  },
  {
   "cell_type": "code",
   "execution_count": null,
   "metadata": {
    "ExecuteTime": {
     "end_time": "2020-08-19T14:36:59.586232Z",
     "start_time": "2020-08-19T14:36:26.074317Z"
    }
   },
   "outputs": [],
   "source": []
  },
  {
   "cell_type": "markdown",
   "metadata": {},
   "source": [
    "# Postprocessing - Converting Geological Map to Shape Files"
   ]
  },
  {
   "cell_type": "markdown",
   "metadata": {},
   "source": [
    "## Create GeoDataFrame with Polygons"
   ]
  },
  {
   "cell_type": "code",
   "execution_count": null,
   "metadata": {
    "ExecuteTime": {
     "end_time": "2020-08-19T14:37:00.094019Z",
     "start_time": "2020-08-19T14:36:59.587229Z"
    }
   },
   "outputs": [],
   "source": []
  },
  {
   "cell_type": "markdown",
   "metadata": {},
   "source": [
    "## Plot Polygons"
   ]
  },
  {
   "cell_type": "code",
   "execution_count": null,
   "metadata": {
    "ExecuteTime": {
     "end_time": "2020-08-19T14:37:00.371828Z",
     "start_time": "2020-08-19T14:37:00.095017Z"
    }
   },
   "outputs": [],
   "source": []
  },
  {
   "cell_type": "markdown",
   "metadata": {},
   "source": [
    "## Save Polygons as Shape Files\n",
    "\n",
    "These polygons can now be saved as shape files and displayed for example as in QGIS shown below. "
   ]
  },
  {
   "cell_type": "code",
   "execution_count": null,
   "metadata": {
    "ExecuteTime": {
     "end_time": "2020-08-19T14:37:01.020863Z",
     "start_time": "2020-08-19T14:37:00.372795Z"
    }
   },
   "outputs": [],
   "source": []
  },
  {
   "cell_type": "markdown",
   "metadata": {},
   "source": [
    "## Save Polygons as GeoTiff\n",
    "\n",
    "Rasters like DEMs can be saved as georeferenced tif-files. The same can be done with the geological map obtained from `GemPy` by saving the array of the geological map as tif. "
   ]
  },
  {
   "cell_type": "code",
   "execution_count": null,
   "metadata": {
    "ExecuteTime": {
     "end_time": "2020-08-19T14:37:01.358174Z",
     "start_time": "2020-08-19T14:37:01.021864Z"
    }
   },
   "outputs": [],
   "source": [
    "gg.raster.save_as_tiff('../geolmap.tif',gmap, extent=geo_data.extent, crs='EPSG:4326')"
   ]
  },
  {
   "cell_type": "markdown",
   "metadata": {},
   "source": [
    "# Create borehole from Geo_Model\n",
    "\n",
    "Geological models are used to extract information from the subsurface. As geologists, we like to look of the result of the model at a single location and down to the maximum z extent in depth. This is termed a borehole or in the case of fluid extraction a well. These boreholes can easily be extracted and displayed using GemGIS. All you need is the `geo_model` object, the `geo_data` object and the location of your borehole, optionally with its maximum depth. "
   ]
  },
  {
   "cell_type": "code",
   "execution_count": null,
   "metadata": {
    "ExecuteTime": {
     "end_time": "2020-08-19T14:37:06.059727Z",
     "start_time": "2020-08-19T14:37:01.359158Z"
    }
   },
   "outputs": [],
   "source": []
  },
  {
   "cell_type": "markdown",
   "metadata": {},
   "source": [
    "# Depth Maps\n",
    "\n",
    "Depth maps indicate the depth of a surface within the model extent. By applying an intuitive color coding, the spatial position of the respective surface can easily be interpreted. Depth maps can easily be created by executing `gg.visualization.plot_depth_map(...)`. All that is needed is the `geo_model` object and the name of the surface to be plotted. Optionally, a range for the colorbar can be provided to make the maps of different surfaces comparable. Otherwise, the min and max values of each surface are taken for the limits of the color bar. By setting `notebook` to `False` an interactive PyVista Window is opened (press 'Q' to close window safely again)."
   ]
  },
  {
   "cell_type": "markdown",
   "metadata": {},
   "source": [
    "## Depth Map Layer1"
   ]
  },
  {
   "cell_type": "code",
   "execution_count": null,
   "metadata": {
    "ExecuteTime": {
     "end_time": "2020-08-19T14:37:06.419992Z",
     "start_time": "2020-08-19T14:37:06.061720Z"
    }
   },
   "outputs": [],
   "source": []
  },
  {
   "cell_type": "markdown",
   "metadata": {},
   "source": [
    "## Depth Map Layer2"
   ]
  },
  {
   "cell_type": "code",
   "execution_count": null,
   "metadata": {
    "ExecuteTime": {
     "end_time": "2020-08-19T14:37:06.421953Z",
     "start_time": "2020-08-19T14:35:20.816Z"
    }
   },
   "outputs": [],
   "source": []
  },
  {
   "cell_type": "code",
   "execution_count": null,
   "metadata": {},
   "outputs": [],
   "source": []
  }
 ],
 "metadata": {
  "hide_input": false,
  "kernelspec": {
   "display_name": "Python 3",
   "language": "python",
   "name": "python3"
  },
  "language_info": {
   "codemirror_mode": {
    "name": "ipython",
    "version": 3
   },
   "file_extension": ".py",
   "mimetype": "text/x-python",
   "name": "python",
   "nbconvert_exporter": "python",
   "pygments_lexer": "ipython3",
   "version": "3.7.5"
  },
  "latex_envs": {
   "LaTeX_envs_menu_present": true,
   "autoclose": false,
   "autocomplete": true,
   "bibliofile": "biblio.bib",
   "cite_by": "apalike",
   "current_citInitial": 1,
   "eqLabelWithNumbers": true,
   "eqNumInitial": 1,
   "hotkeys": {
    "equation": "Ctrl-E",
    "itemize": "Ctrl-I"
   },
   "labels_anchors": false,
   "latex_user_defs": false,
   "report_style_numbering": false,
   "user_envs_cfg": false
  },
  "toc": {
   "base_numbering": 1,
   "nav_menu": {},
   "number_sections": true,
   "sideBar": true,
   "skip_h1_title": false,
   "title_cell": "Table of Contents",
   "title_sidebar": "Contents",
   "toc_cell": false,
   "toc_position": {},
   "toc_section_display": true,
   "toc_window_display": false
  }
 },
 "nbformat": 4,
 "nbformat_minor": 4
}