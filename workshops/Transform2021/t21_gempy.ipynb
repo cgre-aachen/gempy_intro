{
 "cells": [
  {
   "cell_type": "markdown",
   "metadata": {
    "iooxa": {
     "id": {
      "block": "C4UdNy9ItoLzghDgbshj",
      "project": "Eg0Zg5heJvyoYfj4Vp5h",
      "version": 3
     }
    }
   },
   "source": [
    "# Transform 2021: GemPy Workshop\n",
    "![image.png](https://raw.githubusercontent.com/cgre-aachen/gempy/master/docs/readme_images/header_combined_slim.png)\n",
    "\n",
    "## Table of Content\n",
    "\n",
    "- Installation - Welcome \n",
    "- Basics Refresher (~25 mins)\n",
    "- Intro to `subsurface` (~ 25 mins)\n",
    "- **Break** (~ 10 mins)\n",
    "- `subsurface` to `gempy` (~ 25 mins)\n",
    "- Dealing with complexity (~ 25 mins)\n",
    "\n",
    "\n",
    "## Installation\n",
    "\n",
    "0. https://docs.conda.io/en/latest/miniconda.html\n",
    "1. Open conda prompt (Windows) or terminal (Linux/MacOS)\n",
    "2. `$ conda create --name gempy-tutorial python==3.8.5`\n",
    "0. Activate enviromet: `$ conda activate gempy-tutorial`\n",
    "3. Installing gempy: https://docs.gempy.org/installation.html\n",
    "4. clone the repo:\n",
    "    `git clone https://github.com/cgre-aachen/gempy_workshops.git`\n",
    "0. `$ conda install jupyter notebook`\n",
    "5. `$ jupyter notebook`\n",
    "\n",
    "# Part I: Your first model (refresher)"
   ]
  },
  {
   "cell_type": "code",
   "execution_count": null,
   "metadata": {
    "iooxa": {
     "id": {
      "block": "Vznxd9ExJ536XKDmrEOo",
      "project": "Eg0Zg5heJvyoYfj4Vp5h",
      "version": 3
     },
     "outputId": null
    },
    "pycharm": {
     "name": "#%%\n"
    }
   },
   "outputs": [],
   "source": [
    "# List of relative paths used during the workshop\n",
    "path_to_well_png     = '../../common/basics/data/wells.png'\n",
    "path_to_checkpoint_1 = '../../common/basics/checkpoints/checkpoint1.pickle'\n",
    "path_to_checkpoint_2 = '../../common/basics/checkpoints/checkpoint2.pickle'\n",
    "upgrade_pickles = False"
   ]
  },
  {
   "cell_type": "code",
   "execution_count": null,
   "metadata": {
    "iooxa": {
     "id": {
      "block": "i1M3oTT8H1hvV5igq3tM",
      "project": "Eg0Zg5heJvyoYfj4Vp5h",
      "version": 4
     },
     "outputId": {
      "block": "uR1BjZqt9yisOEve0m2X",
      "project": "Eg0Zg5heJvyoYfj4Vp5h",
      "version": 3
     }
    },
    "pycharm": {
     "name": "#%%\n"
    }
   },
   "outputs": [],
   "source": [
    "# Importing GemPy\n",
    "import gempy as gp\n",
    "\n",
    "# Importing aux libraries\n",
    "from ipywidgets import interact\n",
    "import numpy as np\n",
    "import matplotlib.image as mpimg\n",
    "\n",
    "# Embedding matplotlib figures in the notebooks\n",
    "%matplotlib qt5"
   ]
  },
  {
   "cell_type": "markdown",
   "metadata": {
    "iooxa": {
     "id": {
      "block": "DRJhb67O67nMKZ5DsgAQ",
      "project": "Eg0Zg5heJvyoYfj4Vp5h",
      "version": 1
     }
    }
   },
   "source": [
    "### Initializing the model... But first a word about Grids:\n",
    "\n",
    "The first step to create a GemPy model is create a `gempy.Model` object that will\n",
    "contain all the other data structures and necessary functionality. In addition\n",
    " for this example we will define a *regular grid* since the beginning.\n",
    "This is the grid where we will interpolate the 3D geological model.\n",
    "\n",
    "GemPy is based on a **meshless interpolator**. In practice this means that we can\n",
    "interpolate any point in a 3D space. However, for convenience, we have built some\n",
    "standard grids for different purposes. At the current day the standard grids are:\n",
    "\n",
    "- **Regular grid**: default grid mainly for general visualization\n",
    "- **Custom grid**: GemPy's wrapper to interpolate on a user grid\n",
    "- **Topography**: Topographic data use to be of high density. Treating it as an independent\n",
    "  grid allow for high resolution geological maps\n",
    "- **Sections**: If we predefine the section 2D grid we can directly interpolate at those\n",
    "  locations for perfect, high resolution estimations\n",
    "- **Center grids**: Half sphere grids around a given point at surface. This are specially tuned\n",
    "  for geophysical forward computations\n",
    "\n",
    "For now we will use a 2.5D regular grid"
   ]
  },
  {
   "cell_type": "code",
   "execution_count": null,
   "metadata": {
    "iooxa": {
     "id": {
      "block": "kVyWj2KCpPctno8NEV70",
      "project": "Eg0Zg5heJvyoYfj4Vp5h",
      "version": 2
     },
     "outputId": {
      "block": "O7fOnx8jfEn4hD47i0mW",
      "project": "Eg0Zg5heJvyoYfj4Vp5h",
      "version": 1
     }
    },
    "pycharm": {
     "name": "#%%\n"
    }
   },
   "outputs": [],
   "source": [
    "geo_model = gp.create_model('Transform-2021')\n",
    "geo_model = gp.init_data(geo_model,\n",
    "                         extent= [0, 791, 0, 200, -582, 0], # of the regular grid\n",
    "                         resolution=[100, 10, 100])         # of the regular grid"
   ]
  },
  {
   "cell_type": "markdown",
   "metadata": {
    "iooxa": {
     "id": {
      "block": "uiMptbro0v7AtDX6EMnS",
      "project": "Eg0Zg5heJvyoYfj4Vp5h",
      "version": 1
     }
    }
   },
   "source": [
    "GemPy core code is written in Python. However for efficiency and gradient based\n",
    "machine learning most of heavy computations happen in optimize compile code,\n",
    " either C or CUDA for GPU.\n",
    "\n",
    "To do so, GemPy rely on the library `Theano`. To guarantee maximum optimization\n",
    "`Theano` requires to compile the code for every Python kernel. The compilation is\n",
    "done by calling the following line at any point (before computing the model):"
   ]
  },
  {
   "cell_type": "code",
   "execution_count": null,
   "metadata": {
    "iooxa": {
     "id": {
      "block": "mI104HKFORpKnVpnP3In",
      "project": "Eg0Zg5heJvyoYfj4Vp5h",
      "version": 4
     },
     "outputId": {
      "block": "EVAuO3SCz2RlbG8YeoIa",
      "project": "Eg0Zg5heJvyoYfj4Vp5h",
      "version": 3
     }
    },
    "pycharm": {
     "name": "#%%\n"
    }
   },
   "outputs": [],
   "source": [
    "gp.set_interpolator(\n",
    "    geo_model,\n",
    "    output=['geology'], # In built outputs. More about this later on\n",
    "    theano_optimizer='fast_compile') # alternatives: 'fast_run' or\n",
    "                                     # check http://deeplearning.net/software/theano/tutorial/modes.html                        "
   ]
  },
  {
   "cell_type": "markdown",
   "metadata": {
    "iooxa": {
     "id": {
      "block": "vuoul6FcnAFEGEv0GaDM",
      "project": "Eg0Zg5heJvyoYfj4Vp5h",
      "version": 1
     }
    }
   },
   "source": [
    "### Creating figure:\n",
    "\n",
    "GemPy uses `matplotlib` and `pyvista` for 2d and 3d visualization of the model respectively. One of the\n",
    "design decisions of GemPy is to allow real time construction of the model. What this means is that you can start\n",
    "adding input data and see in real time how the 3D surfaces evolve. Lets initialize the visualization windows.\n",
    "\n",
    "The first one is the 2d figure. Just place the window where you can see it (maybe move the jupyter notebook to half\n",
    "screen and use the other half for the renderers)."
   ]
  },
  {
   "cell_type": "code",
   "execution_count": null,
   "metadata": {
    "iooxa": {
     "id": {
      "block": "Ut1krdbwwpnXzkfvvNqV",
      "project": "Eg0Zg5heJvyoYfj4Vp5h",
      "version": 4
     },
     "outputId": {
      "block": "q54GMrTrXHNsXIw1oGeB",
      "project": "Eg0Zg5heJvyoYfj4Vp5h",
      "version": 3
     }
    },
    "pycharm": {
     "name": "#%%\n"
    }
   },
   "outputs": [],
   "source": [
    "p2d = gp.plot_2d(geo_model, section_names=None,\n",
    "                 direction=None, cell_number=None)"
   ]
  },
  {
   "cell_type": "markdown",
   "metadata": {
    "iooxa": {
     "id": {
      "block": "vWx4Ylm0jhbt7VhmeFVj",
      "project": "Eg0Zg5heJvyoYfj4Vp5h",
      "version": 1
     }
    }
   },
   "source": [
    "#### Add model section\n",
    "\n",
    "In the 2d renderer we can add several cross section of the model. In this case, for simplicity sake we are just\n",
    "adding one perpendicular to y."
   ]
  },
  {
   "cell_type": "code",
   "execution_count": null,
   "metadata": {
    "iooxa": {
     "id": {
      "block": "s8M8HsQt0z5RZQppW9uH",
      "project": "Eg0Zg5heJvyoYfj4Vp5h",
      "version": 4
     },
     "outputId": {
      "block": "w6tODTjdPdXp5JonJIQN",
      "project": "Eg0Zg5heJvyoYfj4Vp5h",
      "version": 3
     }
    },
    "pycharm": {
     "name": "#%%\n"
    }
   },
   "outputs": [],
   "source": [
    "import matplotlib.pyplot as plt\n",
    "# In this case perpendicular to the y axes\n",
    "ax = p2d.add_section(cell_number=1, direction='y')"
   ]
  },
  {
   "cell_type": "markdown",
   "metadata": {
    "iooxa": {
     "id": {
      "block": "84SqbDOti6I9UQCpDb9A",
      "project": "Eg0Zg5heJvyoYfj4Vp5h",
      "version": 1
     }
    }
   },
   "source": [
    "#### Loading cross-section image:\n",
    "\n",
    "Remember that `gempy` is simply using `matplotlib` and therefore the ax object\n",
    " created above is a standard `matplotlib` axes.\n",
    "\n",
    "Lets load an image with the information of couple of boreholes"
   ]
  },
  {
   "cell_type": "code",
   "execution_count": null,
   "metadata": {
    "iooxa": {
     "id": {
      "block": "FQwGVV4eqzpGfzwJLYEX",
      "project": "Eg0Zg5heJvyoYfj4Vp5h",
      "version": 4
     },
     "outputId": {
      "block": "1lkph4KOAkm0t0kZEjIR",
      "project": "Eg0Zg5heJvyoYfj4Vp5h",
      "version": 3
     }
    },
    "pycharm": {
     "name": "#%%\n"
    }
   },
   "outputs": [],
   "source": [
    "# Reading image\n",
    "img = mpimg.imread(path_to_well_png)\n",
    "# Plotting it inplace\n",
    "ax.imshow(img, origin='upper', alpha=.8, extent = (0, 791, -582,0))"
   ]
  },
  {
   "cell_type": "markdown",
   "metadata": {
    "iooxa": {
     "id": {
      "block": "26cMt2Y2bcB1e5rMx2ZU",
      "project": "Eg0Zg5heJvyoYfj4Vp5h",
      "version": 1
     }
    }
   },
   "source": [
    "We can do the same in 3D through `pyvista` and vtk rendering.\n",
    "\n",
    "Click the qt5 button Back (+Y) to have the same view as in the 2D viewer:"
   ]
  },
  {
   "cell_type": "code",
   "execution_count": null,
   "metadata": {
    "iooxa": {
     "id": {
      "block": "6P6fnj7QReRSBgIqc5XY",
      "project": "Eg0Zg5heJvyoYfj4Vp5h",
      "version": 1
     },
     "outputId": null
    },
    "pycharm": {
     "name": "#%%\n"
    }
   },
   "outputs": [],
   "source": [
    "p3d = gp.plot_3d(geo_model, plotter_type='background', notebook=False)"
   ]
  },
  {
   "cell_type": "markdown",
   "metadata": {
    "iooxa": {
     "id": {
      "block": "thxQbxHaCUEenIBphBwY",
      "project": "Eg0Zg5heJvyoYfj4Vp5h",
      "version": 1
     }
    }
   },
   "source": [
    "## Building the model\n",
    "\n",
    "Now that we have the model initialize and the 2D and 3D render in place we can\n",
    " start the construction of the geological model. \n",
    "\n",
    "### Surfaces\n",
    "\n",
    "GemPy is a surface based interpolator. This means that all the input data we add has to be refereed to a surface. The\n",
    " surfaces always mark the **bottom** of a unit. \n",
    " \n",
    " By default GemPy surfaces are empty:"
   ]
  },
  {
   "cell_type": "code",
   "execution_count": null,
   "metadata": {
    "iooxa": {
     "id": {
      "block": "pvDhAofrlzDURiGNkOKf",
      "project": "Eg0Zg5heJvyoYfj4Vp5h",
      "version": 3
     },
     "outputId": {
      "block": "p0VIztGL6EFoqqv5qrs8",
      "project": "Eg0Zg5heJvyoYfj4Vp5h",
      "version": 2
     }
    },
    "pycharm": {
     "name": "#%%\n"
    }
   },
   "outputs": [],
   "source": [
    "geo_model.surfaces"
   ]
  },
  {
   "cell_type": "markdown",
   "metadata": {
    "iooxa": {
     "id": {
      "block": "F9VtnonyjsoJ3e09iXdG",
      "project": "Eg0Zg5heJvyoYfj4Vp5h",
      "version": 1
     }
    }
   },
   "source": [
    "If we do not care about the names and we just want to interpolate a surface we can use.\n",
    "It is important to notice that **the bottom\n",
    "most layer will be considered always basement and therefore not interpolated**. Still\n",
    "we can add values or change the color of that \"surface\" (for lack of a better name) to\n",
    "populate the lower most volume.\n"
   ]
  },
  {
   "cell_type": "code",
   "execution_count": null,
   "metadata": {
    "iooxa": {
     "id": {
      "block": "tjYjJP5qh6jgXvj8KeD2",
      "project": "Eg0Zg5heJvyoYfj4Vp5h",
      "version": 3
     },
     "outputId": {
      "block": "AHRGL0ahgdVgUxGK5NKy",
      "project": "Eg0Zg5heJvyoYfj4Vp5h",
      "version": 2
     }
    },
    "pycharm": {
     "name": "#%%\n"
    }
   },
   "outputs": [],
   "source": [
    "# Default surfaces:\n",
    "geo_model.set_default_surfaces()"
   ]
  },
  {
   "cell_type": "markdown",
   "metadata": {
    "iooxa": {
     "id": {
      "block": "rnESKSPJtwM9s8vl1jtA",
      "project": "Eg0Zg5heJvyoYfj4Vp5h",
      "version": 1
     }
    }
   },
   "source": [
    "We will see more about data structures below.\n",
    "\n",
    "Now we can start adding data. GemPy input data consist on surface points and\n",
    "orientations (perpendicular to the layers). The 2D plot gives you the X and Z coordinates when hovering the mouse\n",
    " over. We can add a surface point as follows:\n"
   ]
  },
  {
   "cell_type": "code",
   "execution_count": null,
   "metadata": {
    "iooxa": {
     "id": {
      "block": "KzsZeNpMwFjmXdzj9eyz",
      "project": "Eg0Zg5heJvyoYfj4Vp5h",
      "version": 1
     },
     "outputId": null
    },
    "pycharm": {
     "name": "#%%\n"
    }
   },
   "outputs": [],
   "source": [
    "# Add a point. If idx is None, next available index will be used. Here we pass it\n",
    "# explicitly for consistency\n",
    "geo_model.add_surface_points(X=223, Y=0.01, Z=-94,\n",
    "                             surface='surface1', idx=0)\n",
    "\n",
    "# Plot in 2D\n",
    "p2d.plot_data(ax, cell_number=11)\n",
    "\n",
    "# Plot in 3D\n",
    "p3d.plot_data()"
   ]
  },
  {
   "cell_type": "markdown",
   "metadata": {
    "iooxa": {
     "id": {
      "block": "ctYVHOCIjzVLt7Pf6YcJ",
      "project": "Eg0Zg5heJvyoYfj4Vp5h",
      "version": 1
     }
    }
   },
   "source": [
    "Now we can add the other two points of the layer:"
   ]
  },
  {
   "cell_type": "code",
   "execution_count": null,
   "metadata": {
    "iooxa": {
     "id": {
      "block": "HWXRr46NVhm2Io8nuI3z",
      "project": "Eg0Zg5heJvyoYfj4Vp5h",
      "version": 3
     },
     "outputId": {
      "block": "L52DWoZca4zkcNkZJ0MM",
      "project": "Eg0Zg5heJvyoYfj4Vp5h",
      "version": 2
     }
    },
    "pycharm": {
     "name": "#%%\n"
    }
   },
   "outputs": [],
   "source": [
    "# Add points\n",
    "geo_model.add_surface_points(X=458, Y=0, Z=-107, surface='surface1', idx=1)\n",
    "geo_model.add_surface_points(X=612, Y=0, Z=-14, surface='surface1', idx=2)\n",
    "\n",
    "# Plotting\n",
    "p2d.plot_data(ax, cell_number=11)\n",
    "p3d.plot_surface_points()"
   ]
  },
  {
   "cell_type": "code",
   "execution_count": null,
   "metadata": {
    "iooxa": {
     "id": {
      "block": "SUpne9lvxSq6tmIbrfND",
      "project": "Eg0Zg5heJvyoYfj4Vp5h",
      "version": 3
     },
     "outputId": {
      "block": "uL8Lk1FIumEDvX2DlhS6",
      "project": "Eg0Zg5heJvyoYfj4Vp5h",
      "version": 2
     }
    },
    "pycharm": {
     "name": "#%%\n"
    }
   },
   "outputs": [],
   "source": [
    "geo_model.surface_points"
   ]
  },
  {
   "cell_type": "markdown",
   "metadata": {
    "iooxa": {
     "id": {
      "block": "LPVmpnyODA63ZoRxbu8k",
      "project": "Eg0Zg5heJvyoYfj4Vp5h",
      "version": 1
     }
    }
   },
   "source": [
    "The **minimum amount of input data** to interpolate anything in `gempy` is:\n",
    "\n",
    "a) 2 surface points per surface\n",
    "\n",
    "b) One orientation per series.\n",
    "\n",
    "Lets add an orientation anywhere in space:"
   ]
  },
  {
   "cell_type": "code",
   "execution_count": null,
   "metadata": {
    "iooxa": {
     "id": {
      "block": "dfhFaJxIAfctj9sYlBAG",
      "project": "Eg0Zg5heJvyoYfj4Vp5h",
      "version": 1
     },
     "outputId": null
    },
    "pycharm": {
     "name": "#%%\n"
    }
   },
   "outputs": [],
   "source": [
    "# Adding orientation\n",
    "geo_model.add_orientations(X=350, Y=0, Z=-300, surface='surface1',\n",
    "                           pole_vector= (0,0,1))\n",
    "p2d.plot_data(ax, cell_number=5)\n",
    "p3d.plot_data()"
   ]
  },
  {
   "cell_type": "markdown",
   "metadata": {
    "iooxa": {
     "id": {
      "block": "TJ0mNam4F46m9lwNOBvh",
      "project": "Eg0Zg5heJvyoYfj4Vp5h",
      "version": 1
     }
    }
   },
   "source": [
    "Now we have enough data to finally **interpolate**!"
   ]
  },
  {
   "cell_type": "code",
   "execution_count": null,
   "metadata": {
    "iooxa": {
     "id": {
      "block": "T23KHIx2jvfYNokvrXXq",
      "project": "Eg0Zg5heJvyoYfj4Vp5h",
      "version": 3
     },
     "outputId": {
      "block": "Yfn39l9rwbHT1rQLPNaM",
      "project": "Eg0Zg5heJvyoYfj4Vp5h",
      "version": 2
     }
    },
    "pycharm": {
     "name": "#%%\n"
    }
   },
   "outputs": [],
   "source": [
    "gp.compute_model(geo_model)"
   ]
  },
  {
   "cell_type": "markdown",
   "metadata": {
    "iooxa": {
     "id": {
      "block": "epDnoJJuqUikxPuOZqKB",
      "project": "Eg0Zg5heJvyoYfj4Vp5h",
      "version": 1
     }
    }
   },
   "source": [
    "That is, we have interpolated the 3D surface. We can visualize with:"
   ]
  },
  {
   "cell_type": "code",
   "execution_count": null,
   "metadata": {
    "iooxa": {
     "id": {
      "block": "7yi6YJeSpO58zRbkbCV2",
      "project": "Eg0Zg5heJvyoYfj4Vp5h",
      "version": 3
     },
     "outputId": {
      "block": "pbMkEv8QLIKVUB6YGymj",
      "project": "Eg0Zg5heJvyoYfj4Vp5h",
      "version": 2
     }
    },
    "pycharm": {
     "name": "#%%\n"
    }
   },
   "outputs": [],
   "source": [
    "# In 2D\n",
    "p2d.plot_contacts(ax, cell_number=5)\n",
    "\n",
    "# In 3D\n",
    "p3d.plot_surfaces()\n",
    "p3d.plot_structured_grid()"
   ]
  },
  {
   "cell_type": "code",
   "execution_count": null,
   "metadata": {
    "iooxa": {
     "id": {
      "block": "HLZdopZ1CHfXAW9hSFFj",
      "project": "Eg0Zg5heJvyoYfj4Vp5h",
      "version": 3
     },
     "outputId": {
      "block": "i2zO23BOB0mo4KnXACKT",
      "project": "Eg0Zg5heJvyoYfj4Vp5h",
      "version": 2
     }
    },
    "pycharm": {
     "name": "#%%\n"
    }
   },
   "outputs": [],
   "source": [
    "geo_model.solutions.lith_block"
   ]
  },
  {
   "cell_type": "code",
   "execution_count": null,
   "metadata": {
    "iooxa": {
     "id": {
      "block": "oogReqj664KAMHCHVzqR",
      "project": "Eg0Zg5heJvyoYfj4Vp5h",
      "version": 3
     },
     "outputId": {
      "block": "4zayoXWneVaBeYcyIMcG",
      "project": "Eg0Zg5heJvyoYfj4Vp5h",
      "version": 2
     }
    },
    "pycharm": {
     "name": "#%%\n"
    }
   },
   "outputs": [],
   "source": [
    "geo_model.surfaces"
   ]
  },
  {
   "cell_type": "markdown",
   "metadata": {
    "iooxa": {
     "id": {
      "block": "OJF4lRQpsGezRDwjhMmk",
      "project": "Eg0Zg5heJvyoYfj4Vp5h",
      "version": 1
     }
    }
   },
   "source": [
    "Congratulations! You have learnt how to create a surface. From here on, we will\n",
    "learn how to combine multiple surfaces to little by little construct a full realize\n",
    "3D structural model.\n",
    "\n",
    "-----------\n",
    "## Intermission: GemPy data classes\n",
    "\n",
    "GemPy depends on multiple data objects to store all the data structures necessary\n",
    "to construct an structural model. To keep all the necessary objects in sync the\n",
    "class `gempy.ImplicitCoKriging` (which `geo_model` is instance of) will provide the\n",
    "necessary methods to update these data structures coherently.\n",
    "\n",
    "At current state (gempy 2.2), the data classes are:\n",
    "\n",
    "- `gempy.SurfacePoints`\n",
    "- `gempy.Orientations`\n",
    "- `gempy.Surfaces`\n",
    "- `gempy.Stack` (combination of `gempy.Series` and `gempy.Faults`)\n",
    "- `gempy.Grid`\n",
    "- `gempy.AdditionalData`\n",
    "- `gempy.Solutions`\n",
    "\n",
    "Today we will look into details only some of these classes but what is important\n",
    "to notice is that you can access these objects as follows:"
   ]
  },
  {
   "cell_type": "code",
   "execution_count": null,
   "metadata": {
    "iooxa": {
     "id": {
      "block": "aXB0ISnkIRJ6mKoOl6eH",
      "project": "Eg0Zg5heJvyoYfj4Vp5h",
      "version": 3
     },
     "outputId": {
      "block": "2uhvQ82t4LqSEO6UjmbY",
      "project": "Eg0Zg5heJvyoYfj4Vp5h",
      "version": 2
     }
    },
    "pycharm": {
     "name": "#%%\n"
    }
   },
   "outputs": [],
   "source": [
    "# The default surfaces once again\n",
    "geo_model.surfaces"
   ]
  },
  {
   "cell_type": "code",
   "execution_count": null,
   "metadata": {
    "iooxa": {
     "id": {
      "block": "DOlEFZewumjJ286V92HA",
      "project": "Eg0Zg5heJvyoYfj4Vp5h",
      "version": 3
     },
     "outputId": {
      "block": "1jjYuxKqZb6kxaypQ9Ey",
      "project": "Eg0Zg5heJvyoYfj4Vp5h",
      "version": 2
     }
    },
    "pycharm": {
     "name": "#%%\n"
    }
   },
   "outputs": [],
   "source": [
    "# Also the surface points\n",
    "geo_model.surface_points"
   ]
  },
  {
   "cell_type": "code",
   "execution_count": null,
   "metadata": {
    "iooxa": {
     "id": {
      "block": "BesFslWirWrR3ArwLBNO",
      "project": "Eg0Zg5heJvyoYfj4Vp5h",
      "version": 3
     },
     "outputId": {
      "block": "nERii06FO8dEy3GEZcxf",
      "project": "Eg0Zg5heJvyoYfj4Vp5h",
      "version": 2
     }
    },
    "pycharm": {
     "name": "#%%\n"
    }
   },
   "outputs": [],
   "source": [
    "# Orientations\n",
    "geo_model.orientations"
   ]
  },
  {
   "cell_type": "code",
   "execution_count": null,
   "metadata": {
    "iooxa": {
     "id": {
      "block": "popxLOFrcXaw3F6FXGPc",
      "project": "Eg0Zg5heJvyoYfj4Vp5h",
      "version": 3
     },
     "outputId": {
      "block": "8IqUT3LnJBxRLAsZkjT7",
      "project": "Eg0Zg5heJvyoYfj4Vp5h",
      "version": 2
     }
    },
    "pycharm": {
     "name": "#%%\n"
    }
   },
   "outputs": [],
   "source": [
    "# To find the location of the surface we just plot\n",
    "geo_model.solutions.vertices"
   ]
  },
  {
   "cell_type": "code",
   "execution_count": null,
   "metadata": {
    "iooxa": {
     "id": {
      "block": "OSKd18KxRAfxS5qGwjzy",
      "project": "Eg0Zg5heJvyoYfj4Vp5h",
      "version": 3
     },
     "outputId": {
      "block": "Q9UCJbAI0zkgnwP4bhLx",
      "project": "Eg0Zg5heJvyoYfj4Vp5h",
      "version": 2
     }
    },
    "pycharm": {
     "name": "#%%\n"
    }
   },
   "outputs": [],
   "source": [
    "# The grid values:\n",
    "geo_model.grid, len(geo_model.grid.values)"
   ]
  },
  {
   "cell_type": "code",
   "execution_count": null,
   "metadata": {
    "iooxa": {
     "id": {
      "block": "3t0vXzSGfqIbKxlFzwHm",
      "project": "Eg0Zg5heJvyoYfj4Vp5h",
      "version": 3
     },
     "outputId": {
      "block": "KcSNgGeh57s84qzCJpS4",
      "project": "Eg0Zg5heJvyoYfj4Vp5h",
      "version": 2
     }
    },
    "pycharm": {
     "name": "#%%\n"
    }
   },
   "outputs": [],
   "source": [
    "# And its correspondent ids:\n",
    "geo_model.solutions.lith_block, len(geo_model.solutions.lith_block)"
   ]
  },
  {
   "cell_type": "markdown",
   "metadata": {
    "iooxa": {
     "id": {
      "block": "wxVeJMKjvckn3BijXMDF",
      "project": "Eg0Zg5heJvyoYfj4Vp5h",
      "version": 1
     }
    }
   },
   "source": [
    "------\n",
    "\n",
    "## Adding more layers\n",
    "\n",
    "<div class=\"alert alert-block alert-warning\">\n",
    "<b>Exercise:</b> So far we only need 2 units defined. The cross-section image that\n",
    " we load have 4 however. Lets add two layers more:\n",
    "</div>"
   ]
  },
  {
   "cell_type": "markdown",
   "metadata": {
    "iooxa": {
     "id": {
      "block": "uNUgI35e4J1hAQDdovxB",
      "project": "Eg0Zg5heJvyoYfj4Vp5h",
      "version": 1
     }
    }
   },
   "source": [
    "### Layer 2\n",
    "\n",
    "First we need to add some more layers."
   ]
  },
  {
   "cell_type": "code",
   "execution_count": null,
   "metadata": {
    "iooxa": {
     "id": {
      "block": "k0KKqcbgXmTEmx08P4zO",
      "project": "Eg0Zg5heJvyoYfj4Vp5h",
      "version": 3
     },
     "outputId": {
      "block": "pHSVQfzk8VkyH5MqUtXR",
      "project": "Eg0Zg5heJvyoYfj4Vp5h",
      "version": 2
     }
    },
    "pycharm": {
     "name": "#%%\n"
    }
   },
   "outputs": [],
   "source": [
    "# We can add already two extra surfaces\n",
    "geo_model.add_surfaces(['surface3', 'basement'])"
   ]
  },
  {
   "cell_type": "code",
   "execution_count": null,
   "metadata": {
    "iooxa": {
     "id": {
      "block": "rBCObPMZRSt9rEU42an8",
      "project": "Eg0Zg5heJvyoYfj4Vp5h",
      "version": 1
     },
     "outputId": null
    },
    "pycharm": {
     "name": "#%%\n"
    }
   },
   "outputs": [],
   "source": [
    "# Your code here:\n",
    "geo_model.add_surface_points(X=225, Y=0, Z=-269, surface='surface2', idx=3)\n",
    "geo_model.add_surface_points(X=459, Y=0, Z=-279, surface='surface2', idx=4)\n",
    "\n",
    "#--------------------\n",
    "# Plot data\n",
    "p2d.plot_data(ax)\n",
    "p3d.plot_data()"
   ]
  },
  {
   "cell_type": "code",
   "execution_count": null,
   "metadata": {
    "iooxa": {
     "id": {
      "block": "xYdAICW4yFN9jHZMqV14",
      "project": "Eg0Zg5heJvyoYfj4Vp5h",
      "version": 3
     },
     "outputId": {
      "block": "JAdJHsVFAd7CVWlRSe44",
      "project": "Eg0Zg5heJvyoYfj4Vp5h",
      "version": 2
     }
    },
    "pycharm": {
     "name": "#%%\n"
    }
   },
   "outputs": [],
   "source": [
    "# Compute model\n",
    "gp.compute_model(geo_model)\n",
    "\n",
    "# Plot 2D\n",
    "p2d.plot_lith(ax, cell_number=5)\n",
    "p2d.plot_contacts(ax, cell_number=5)\n",
    "\n",
    "# Plot 3D\n",
    "p3d.plot_surfaces()\n",
    "p3d.plot_structured_grid(opacity=.2, annotations = {1: 'surface1', 2:'surface2', 3:'surface3'})\n"
   ]
  },
  {
   "cell_type": "markdown",
   "metadata": {
    "iooxa": {
     "id": {
      "block": "UTR4M81rlZhnQLaIUktY",
      "project": "Eg0Zg5heJvyoYfj4Vp5h",
      "version": 1
     }
    }
   },
   "source": [
    "### Layer 3"
   ]
  },
  {
   "cell_type": "code",
   "execution_count": null,
   "metadata": {
    "iooxa": {
     "id": {
      "block": "N3OgpnhnxwR9pOcrifrC",
      "project": "Eg0Zg5heJvyoYfj4Vp5h",
      "version": 1
     },
     "outputId": null
    },
    "pycharm": {
     "name": "#%%\n"
    }
   },
   "outputs": [],
   "source": [
    "# Your code here:\n",
    "# Add points\n",
    "geo_model.add_surface_points(X=225, Y=0, Z=-439, surface='surface3')\n",
    "geo_model.add_surface_points(X=464, Y=0, Z=-456, surface='surface3')\n",
    "geo_model.add_surface_points(X=619, Y=0, Z=-433, surface='surface3')\n",
    "\n",
    "# Compute model\n",
    "gp.compute_model(geo_model)\n",
    "\n",
    "# Plotting\n",
    "p2d.plot_data(ax, cell_number=5)\n",
    "p2d.plot_lith(ax, cell_number=5)\n",
    "p2d.plot_contacts(ax, cell_number=5)\n",
    "\n",
    "p3d.plot_surfaces()\n",
    "p3d.plot_structured_grid(opacity=.2, annotations = {1: 'surface1', 2:'surface2', 3:'surface3', 4:'basement'})\n",
    "p3d.plot_data()\n",
    "# ------------------"
   ]
  },
  {
   "cell_type": "code",
   "execution_count": null,
   "metadata": {
    "iooxa": {
     "id": {
      "block": "pbQaq6LrDjIGXryrlFdo",
      "project": "Eg0Zg5heJvyoYfj4Vp5h",
      "version": 3
     },
     "outputId": {
      "block": "yqTQc7NUtdRNfhJQ8g2I",
      "project": "Eg0Zg5heJvyoYfj4Vp5h",
      "version": 2
     }
    },
    "pycharm": {
     "name": "#%%\n"
    }
   },
   "outputs": [],
   "source": [
    "# Showing scalar field\n",
    "scalar = gp.plot_2d(geo_model, show_scalar=True, series_n=0)\n",
    "scalar.fig"
   ]
  },
  {
   "cell_type": "markdown",
   "metadata": {
    "iooxa": {
     "id": {
      "block": "IfzueRMRwrsAgYGR21Gt",
      "project": "Eg0Zg5heJvyoYfj4Vp5h",
      "version": 1
     }
    }
   },
   "source": [
    "-------------------\n",
    "## Intermission: GemPy data structures: Surfaces Points, Orientations and surfaces\n",
    "\n",
    "On GemPy each surface is not independent of each other. Some surfaces will be\n",
    "subparallel to each other while other surfaces will define a fault plane where\n",
    "an offset may occur.\n",
    "\n",
    "In order to account for all possible combinations, we use **categories** (in many\n",
    "instances literal `pandas.CategoricalDtype`) and **ordered** `pandas.Dataframes`.\n",
    "Let's take a look at `gempy.SurfacePoints`:"
   ]
  },
  {
   "cell_type": "code",
   "execution_count": null,
   "metadata": {
    "iooxa": {
     "id": {
      "block": "2fOfkVdmThTia29XRda7",
      "project": "Eg0Zg5heJvyoYfj4Vp5h",
      "version": 3
     },
     "outputId": {
      "block": "VcMMAPN52lCGReBuzgTm",
      "project": "Eg0Zg5heJvyoYfj4Vp5h",
      "version": 2
     }
    },
    "pycharm": {
     "name": "#%%\n"
    }
   },
   "outputs": [],
   "source": [
    "geo_model.surface_points"
   ]
  },
  {
   "cell_type": "markdown",
   "metadata": {
    "iooxa": {
     "id": {
      "block": "dKFrzxpdLzemfMrYDSPz",
      "project": "Eg0Zg5heJvyoYfj4Vp5h",
      "version": 1
     }
    }
   },
   "source": [
    "As we can see each point belong to a given surface. If now we look at the\n",
    "`gempy.Surface` object:"
   ]
  },
  {
   "cell_type": "code",
   "execution_count": null,
   "metadata": {
    "iooxa": {
     "id": {
      "block": "Ao8spcIMkF6BEMRBM4EU",
      "project": "Eg0Zg5heJvyoYfj4Vp5h",
      "version": 3
     },
     "outputId": {
      "block": "4nsOhQTN3rV9ZJD3Nd55",
      "project": "Eg0Zg5heJvyoYfj4Vp5h",
      "version": 2
     }
    },
    "pycharm": {
     "name": "#%%\n"
    }
   },
   "outputs": [],
   "source": [
    "geo_model.surfaces"
   ]
  },
  {
   "cell_type": "markdown",
   "metadata": {
    "iooxa": {
     "id": {
      "block": "d1MARDk8Bc3dBxBw8ERv",
      "project": "Eg0Zg5heJvyoYfj4Vp5h",
      "version": 1
     }
    }
   },
   "source": [
    "Here we can find the properties related to a each surface. Special attention\n",
    "to the column series. At the moment all surfaces belong to the same series\n",
    "and therefore they will be interpolated together in that characteristic subparallel\n",
    "pattern.\n",
    "\n",
    "Now we will see how by playing with the series we can define unconformities and\n",
    "faults"
   ]
  },
  {
   "cell_type": "markdown",
   "metadata": {
    "iooxa": {
     "id": {
      "block": "nVXLrhM1YZ7rihNpU1vL",
      "project": "Eg0Zg5heJvyoYfj4Vp5h",
      "version": 1
     }
    }
   },
   "source": [
    "--------------"
   ]
  },
  {
   "cell_type": "markdown",
   "metadata": {
    "iooxa": {
     "id": {
      "block": "vk1lC3mD6ZEI3laDTFv0",
      "project": "Eg0Zg5heJvyoYfj4Vp5h",
      "version": 1
     }
    }
   },
   "source": [
    "<div class=\"alert alert-block alert-info\"><b>Checkpoint:</b> Next cell will load the\n",
    "model from disk to the necessary state to continue.</div>"
   ]
  },
  {
   "cell_type": "raw",
   "metadata": {
    "iooxa": {
     "id": {
      "block": "y4PbR36vChf6dRdcbGqU",
      "project": "Eg0Zg5heJvyoYfj4Vp5h",
      "version": 1
     },
     "outputId": null
    },
    "pycharm": {
     "name": "#%%\n"
    }
   },
   "source": [
    "geo_model = gp.load_model_pickle(path_to_checkpoint_1)\n",
    "\n",
    "# Default plotting setting\n",
    "p2d = gp.plot_2d(geo_model)\n",
    "ax = p2d.axes[0]\n",
    "# Reading image\n",
    "img = mpimg.imread('wells.png')\n",
    "# Plotting it inplace\n",
    "ax.imshow(img, origin='upper', alpha=.8, extent = (0, 791, -582,0))\n",
    "p3d = gp.plot_3d(geo_model, plotter_type='background')"
   ]
  },
  {
   "cell_type": "markdown",
   "metadata": {
    "iooxa": {
     "id": {
      "block": "ZntQKJ6TADJz9QPOZ8Rd",
      "project": "Eg0Zg5heJvyoYfj4Vp5h",
      "version": 1
     }
    }
   },
   "source": [
    "---------\n",
    "## Unconformities and Faults:\n",
    "\n",
    "So far the model is simply a depositional unit. GemPy allows for unconformities\n",
    "and faults to build complex models. This input is given by categorical data. In general:\n",
    "\n",
    "**Geometric Data** (surface points/ orientations) <belong to< **surface** <belong to< **series**\n",
    "\n",
    "And series can be a fault---i.e. offset the rest of surface--- or not. We are going to show how to add a fault as an example.\n",
    "\n",
    "First we need to add a series:\n",
    "\n",
    "### Erosion"
   ]
  },
  {
   "cell_type": "code",
   "execution_count": null,
   "metadata": {
    "iooxa": {
     "id": {
      "block": "FBFcteQiYPm585Cf6A1F",
      "project": "Eg0Zg5heJvyoYfj4Vp5h",
      "version": 3
     },
     "outputId": {
      "block": "h5r5j7mpWcS75l641Zx4",
      "project": "Eg0Zg5heJvyoYfj4Vp5h",
      "version": 2
     }
    },
    "pycharm": {
     "name": "#%%\n"
    }
   },
   "outputs": [],
   "source": [
    "geo_model.add_features('Discontinuity')"
   ]
  },
  {
   "cell_type": "markdown",
   "metadata": {
    "iooxa": {
     "id": {
      "block": "OhRn4AlsuxLvoRbKpmkS",
      "project": "Eg0Zg5heJvyoYfj4Vp5h",
      "version": 1
     }
    }
   },
   "source": [
    "Now there are two different series/features but not a surface that belong to it.\n",
    "Therefore, we also need to add a new surface:"
   ]
  },
  {
   "cell_type": "code",
   "execution_count": null,
   "metadata": {
    "iooxa": {
     "id": {
      "block": "CHLjAsHo7aQOXPr6I85k",
      "project": "Eg0Zg5heJvyoYfj4Vp5h",
      "version": 3
     },
     "outputId": {
      "block": "fYHwjxHYJLdaCH7XfAZK",
      "project": "Eg0Zg5heJvyoYfj4Vp5h",
      "version": 2
     }
    },
    "pycharm": {
     "name": "#%%\n"
    }
   },
   "outputs": [],
   "source": [
    "geo_model.add_surfaces('discontinuity1')"
   ]
  },
  {
   "cell_type": "markdown",
   "metadata": {
    "iooxa": {
     "id": {
      "block": "kOjZYMOkNMm7XqpkReaD",
      "project": "Eg0Zg5heJvyoYfj4Vp5h",
      "version": 1
     }
    }
   },
   "source": [
    "Linking series/feature with surface:"
   ]
  },
  {
   "cell_type": "code",
   "execution_count": null,
   "metadata": {
    "iooxa": {
     "id": {
      "block": "JPUzyuwIlkhrIo0NrPK7",
      "project": "Eg0Zg5heJvyoYfj4Vp5h",
      "version": 3
     },
     "outputId": {
      "block": "jr4tQ6qgFaW3hNIRD2xA",
      "project": "Eg0Zg5heJvyoYfj4Vp5h",
      "version": 2
     }
    },
    "pycharm": {
     "name": "#%%\n"
    }
   },
   "outputs": [],
   "source": [
    "gp.map_stack_to_surfaces(geo_model, {'Discontinuity':'discontinuity1'})\n"
   ]
  },
  {
   "cell_type": "markdown",
   "metadata": {
    "iooxa": {
     "id": {
      "block": "E933UMEEdyiHLqaXolfr",
      "project": "Eg0Zg5heJvyoYfj4Vp5h",
      "version": 1
     }
    }
   },
   "source": [
    "Notice that by default it is defining an erosion."
   ]
  },
  {
   "cell_type": "code",
   "execution_count": null,
   "metadata": {
    "iooxa": {
     "id": {
      "block": "cplF8bJZXoEZfo1ZihGx",
      "project": "Eg0Zg5heJvyoYfj4Vp5h",
      "version": 3
     },
     "outputId": {
      "block": "4ZkdhPecoP7TF1xNBN84",
      "project": "Eg0Zg5heJvyoYfj4Vp5h",
      "version": 2
     }
    },
    "pycharm": {
     "name": "#%%\n"
    }
   },
   "outputs": [],
   "source": [
    "geo_model.reorder_features(['Discontinuity', 'Default series'])"
   ]
  },
  {
   "cell_type": "code",
   "execution_count": null,
   "metadata": {
    "iooxa": {
     "id": {
      "block": "rr5zVzMaUpGUgFp5r5Qi",
      "project": "Eg0Zg5heJvyoYfj4Vp5h",
      "version": 3
     },
     "outputId": {
      "block": "ZuCc8rpqMp2DgCF6VC18",
      "project": "Eg0Zg5heJvyoYfj4Vp5h",
      "version": 2
     }
    },
    "pycharm": {
     "name": "#%%\n"
    }
   },
   "outputs": [],
   "source": [
    "geo_model.surfaces"
   ]
  },
  {
   "cell_type": "markdown",
   "metadata": {
    "iooxa": {
     "id": {
      "block": "duTYXGJhwC4vnsJRTAnV",
      "project": "Eg0Zg5heJvyoYfj4Vp5h",
      "version": 1
     }
    }
   },
   "source": [
    "Now we can just add input data as before (remember the minimum amount of input data to compute a model):"
   ]
  },
  {
   "cell_type": "code",
   "execution_count": null,
   "metadata": {
    "iooxa": {
     "id": {
      "block": "JxFeIzF4hb79RKvl53wO",
      "project": "Eg0Zg5heJvyoYfj4Vp5h",
      "version": 1
     },
     "outputId": null
    },
    "pycharm": {
     "name": "#%%\n"
    }
   },
   "outputs": [],
   "source": [
    "# Add input data of the fault\n",
    "geo_model.add_surface_points(X=550, Y=0, Z=-30, surface='discontinuity1')\n",
    "geo_model.add_surface_points(X=650, Y=0, Z=-200, surface='discontinuity1')\n",
    "geo_model.add_orientations(X=600, Y=0, Z= -100, surface='discontinuity1',\n",
    "                           pole_vector=(.3,0,.3))\n",
    "# Plot\n",
    "p2d.remove(ax)\n",
    "p2d.plot_data(ax, cell_number=5)\n",
    "p3d.remove_actor(p3d.regular_grid_actor) # Removing the previous regular grid because\n",
    "                                         # we are changing the colors and gets messy\n",
    "p3d.plot_data()"
   ]
  },
  {
   "cell_type": "markdown",
   "metadata": {
    "iooxa": {
     "id": {
      "block": "YO3n63p4tPDprwicwKaQ",
      "project": "Eg0Zg5heJvyoYfj4Vp5h",
      "version": 1
     }
    }
   },
   "source": [
    "If we compute now the model the purple plane will erode the previous surfaces\n",
    "and layers:"
   ]
  },
  {
   "cell_type": "code",
   "execution_count": null,
   "metadata": {
    "iooxa": {
     "id": {
      "block": "UZvcVFiX6RNqKUcF1HUT",
      "project": "Eg0Zg5heJvyoYfj4Vp5h",
      "version": 3
     },
     "outputId": {
      "block": "91ayMj3TWFnWKYsVlln8",
      "project": "Eg0Zg5heJvyoYfj4Vp5h",
      "version": 2
     }
    },
    "pycharm": {
     "name": "#%%\n"
    }
   },
   "outputs": [],
   "source": [
    "# Compute\n",
    "gp.compute_model(geo_model)\n",
    "\n",
    "# Plot\n",
    "p2d.remove(ax)\n",
    "p2d.plot_data(ax, cell_number=5)\n",
    "p2d.plot_lith(ax, cell_number=5)\n",
    "p2d.plot_contacts(ax, cell_number=5)\n",
    "\n",
    "p3d.plot_data()\n",
    "p3d.plot_surfaces()\n",
    "p3d.plot_structured_grid(opacity=.2, annotations = {2: 'surface1', 3:'surface2',\n",
    "                                                    4:'surface3', 5:'basement'})"
   ]
  },
  {
   "cell_type": "code",
   "execution_count": null,
   "metadata": {
    "iooxa": {
     "id": {
      "block": "acOt1itZI73v54TJhOnH",
      "project": "Eg0Zg5heJvyoYfj4Vp5h",
      "version": 3
     },
     "outputId": {
      "block": "b16FiTw00HQKiro9Jx0D",
      "project": "Eg0Zg5heJvyoYfj4Vp5h",
      "version": 2
     }
    },
    "pycharm": {
     "name": "#%%\n"
    }
   },
   "outputs": [],
   "source": [
    "geo_model.stack"
   ]
  },
  {
   "cell_type": "markdown",
   "metadata": {
    "iooxa": {
     "id": {
      "block": "x8sVJJCTYWUDUP4gErfN",
      "project": "Eg0Zg5heJvyoYfj4Vp5h",
      "version": 1
     }
    }
   },
   "source": [
    "### Onlap\n",
    "\n",
    "If the relation should be onlap we just need to change the type of series/feature\n",
    "of discontinuity"
   ]
  },
  {
   "cell_type": "code",
   "execution_count": null,
   "metadata": {
    "iooxa": {
     "id": {
      "block": "IsxdY0j2fjdA34NVcPWB",
      "project": "Eg0Zg5heJvyoYfj4Vp5h",
      "version": 3
     },
     "outputId": {
      "block": "ZLxkRArx1g2DKusKGzKm",
      "project": "Eg0Zg5heJvyoYfj4Vp5h",
      "version": 2
     }
    },
    "pycharm": {
     "name": "#%%\n"
    }
   },
   "outputs": [],
   "source": [
    "geo_model.set_bottom_relation('Discontinuity', 'Onlap')\n",
    "\n",
    "\n",
    "# %%\n",
    "# Compute\n",
    "gp.compute_model(geo_model)\n",
    "\n",
    "# Plot\n",
    "p2d.remove(ax)\n",
    "p2d.plot_data(ax, cell_number=5)\n",
    "p2d.plot_lith(ax, cell_number=5)\n",
    "p2d.plot_contacts(ax, cell_number=5)\n",
    "\n",
    "p3d.plot_data()\n",
    "p3d.plot_structured_grid(opacity=.2, annotations = {2: 'surface1', 3:'surface2',\n",
    "                                                    4:'surface3', 5:'basement'})"
   ]
  },
  {
   "cell_type": "markdown",
   "metadata": {
    "iooxa": {
     "id": {
      "block": "FzpOhsKSSGf4AADv1rHS",
      "project": "Eg0Zg5heJvyoYfj4Vp5h",
      "version": 1
     }
    }
   },
   "source": [
    "### Fault\n",
    "\n",
    "Then define that is a fault. It is possible to do this either by the `set_bottom_relation`\n",
    "method or `set_is_fault`."
   ]
  },
  {
   "cell_type": "code",
   "execution_count": null,
   "metadata": {
    "iooxa": {
     "id": {
      "block": "jQUOvwETt1rqyYOXgZ3e",
      "project": "Eg0Zg5heJvyoYfj4Vp5h",
      "version": 3
     },
     "outputId": {
      "block": "vaLUtL7AtRMUET10m1ER",
      "project": "Eg0Zg5heJvyoYfj4Vp5h",
      "version": 2
     }
    },
    "pycharm": {
     "name": "#%%\n"
    }
   },
   "outputs": [],
   "source": [
    "geo_model.set_is_fault('Discontinuity')"
   ]
  },
  {
   "cell_type": "markdown",
   "metadata": {
    "iooxa": {
     "id": {
      "block": "V8RtojkY7zUVzFEvAqeG",
      "project": "Eg0Zg5heJvyoYfj4Vp5h",
      "version": 1
     }
    }
   },
   "source": [
    "And now is computing as before:"
   ]
  },
  {
   "cell_type": "code",
   "execution_count": null,
   "metadata": {
    "iooxa": {
     "id": {
      "block": "OsDDvWxDO7X2DJPzhwmn",
      "project": "Eg0Zg5heJvyoYfj4Vp5h",
      "version": 3
     },
     "outputId": {
      "block": "kjM2ArDZgEyiHNUnxD8z",
      "project": "Eg0Zg5heJvyoYfj4Vp5h",
      "version": 2
     }
    },
    "pycharm": {
     "name": "#%%\n"
    }
   },
   "outputs": [],
   "source": [
    "# Compute\n",
    "gp.compute_model(geo_model)\n",
    "\n",
    "# Plot\n",
    "p2d.remove(ax)\n",
    "p2d.plot_data(ax, cell_number=5)\n",
    "p2d.plot_lith(ax, cell_number=5)\n",
    "p2d.plot_contacts(ax, cell_number=5)\n",
    "\n",
    "p3d.plot_data()\n",
    "p3d.plot_surfaces()\n",
    "p3d.plot_structured_grid(opacity=.2, annotations = {2: 'surface1', 3:'surface2',\n",
    "                                                    4:'surface3', 5:'basement'})"
   ]
  },
  {
   "cell_type": "markdown",
   "metadata": {
    "iooxa": {
     "id": {
      "block": "OagbnpMqrq9FCKXiigis",
      "project": "Eg0Zg5heJvyoYfj4Vp5h",
      "version": 1
     }
    }
   },
   "source": [
    "By using multiple series/features instead of having folding layers we can have sharp\n",
    " interfaces. This opens"
   ]
  },
  {
   "cell_type": "markdown",
   "metadata": {
    "iooxa": {
     "id": {
      "block": "ua4pQ70dB9YaK7lui2l3",
      "project": "Eg0Zg5heJvyoYfj4Vp5h",
      "version": 1
     }
    }
   },
   "source": [
    "## Additional features:\n",
    "\n",
    "Over the years we have built a bunch of assets integrate with `gempy`.\n",
    " Here we will show some of them:\n",
    "\n",
    "### Topography\n",
    "\n",
    "GemPy has a built-in capabilities to read and manipulate topographic data (through gdal).\n",
    " To show an example we can just create a random topography:"
   ]
  },
  {
   "cell_type": "code",
   "execution_count": null,
   "metadata": {
    "iooxa": {
     "id": {
      "block": "byzDzmefoz77Zt3DETZb",
      "project": "Eg0Zg5heJvyoYfj4Vp5h",
      "version": 3
     },
     "outputId": {
      "block": "liuzvt0k1V2rbXLT7YFL",
      "project": "Eg0Zg5heJvyoYfj4Vp5h",
      "version": 2
     }
    },
    "pycharm": {
     "name": "#%%\n"
    }
   },
   "outputs": [],
   "source": [
    "## Adding random topography\n",
    "geo_model.set_topography(source='random',\n",
    "                         fd=1.9, d_z=np.array([-150, 0]),\n",
    "                         resolution=np.array([200,200]))"
   ]
  },
  {
   "cell_type": "markdown",
   "metadata": {
    "iooxa": {
     "id": {
      "block": "PI59JP35sQWoASjiX9cV",
      "project": "Eg0Zg5heJvyoYfj4Vp5h",
      "version": 1
     }
    }
   },
   "source": [
    "The topography can we visualize in both renderers:"
   ]
  },
  {
   "cell_type": "code",
   "execution_count": null,
   "metadata": {
    "iooxa": {
     "id": {
      "block": "aUdAHwo41ZE3UggKE0DL",
      "project": "Eg0Zg5heJvyoYfj4Vp5h",
      "version": 3
     },
     "outputId": {
      "block": "EwXQKyh9LDyg6RYtgFcw",
      "project": "Eg0Zg5heJvyoYfj4Vp5h",
      "version": 2
     }
    },
    "pycharm": {
     "name": "#%%\n"
    }
   },
   "outputs": [],
   "source": [
    "p2d.plot_topography(ax, cell_number=5)\n",
    "p3d.plot_topography(scalars='topography')"
   ]
  },
  {
   "cell_type": "markdown",
   "metadata": {
    "iooxa": {
     "id": {
      "block": "Q06vxFyWQkuhHvJcRIc9",
      "project": "Eg0Zg5heJvyoYfj4Vp5h",
      "version": 1
     }
    }
   },
   "source": [
    "But also allows us to compute the geological map of an area:"
   ]
  },
  {
   "cell_type": "code",
   "execution_count": null,
   "metadata": {
    "iooxa": {
     "id": {
      "block": "RO1AF2d2npkJcawGVZmQ",
      "project": "Eg0Zg5heJvyoYfj4Vp5h",
      "version": 3
     },
     "outputId": {
      "block": "VrNL9ovfLw812ceutO6y",
      "project": "Eg0Zg5heJvyoYfj4Vp5h",
      "version": 2
     }
    },
    "pycharm": {
     "name": "#%%\n"
    }
   },
   "outputs": [],
   "source": [
    "gp.compute_model(geo_model)\n",
    "p3d.plot_surfaces()\n",
    "p3d.plot_topography()"
   ]
  },
  {
   "cell_type": "code",
   "execution_count": null,
   "metadata": {
    "iooxa": {
     "id": {
      "block": "KAhoTrhSIsa68eCHhjjm",
      "project": "Eg0Zg5heJvyoYfj4Vp5h",
      "version": 3
     },
     "outputId": {
      "block": "WnQqsjib2jBPM8hbT91P",
      "project": "Eg0Zg5heJvyoYfj4Vp5h",
      "version": 2
     }
    },
    "pycharm": {
     "name": "#%%\n"
    }
   },
   "outputs": [],
   "source": [
    "p3d.plot_structured_grid()"
   ]
  },
  {
   "cell_type": "markdown",
   "metadata": {
    "iooxa": {
     "id": {
      "block": "TLUUnpSx30pvafgqDlJM",
      "project": "Eg0Zg5heJvyoYfj4Vp5h",
      "version": 1
     }
    }
   },
   "source": [
    "--------------"
   ]
  },
  {
   "cell_type": "markdown",
   "metadata": {
    "iooxa": {
     "id": {
      "block": "2TXDUbdiDjRgomxnyh0S",
      "project": "Eg0Zg5heJvyoYfj4Vp5h",
      "version": 1
     }
    }
   },
   "source": [
    "<div class=\"alert alert-block alert-info\"><b>Checkpoint:</b> Next cell will load the\n",
    "model from disk to the necessary state to continue.</div>"
   ]
  },
  {
   "cell_type": "raw",
   "metadata": {
    "iooxa": {
     "id": {
      "block": "8hQb4DmSzMmPO2SuBMGj",
      "project": "Eg0Zg5heJvyoYfj4Vp5h",
      "version": 1
     },
     "outputId": null
    },
    "pycharm": {
     "name": "#%%\n"
    }
   },
   "source": [
    "geo_model = gp.load_model_pickle(path_to_checkpoint_2)\n",
    "\n",
    "# Default plotting setting\n",
    "p2d = gp.plot_2d(geo_model)\n",
    "ax = p2d.axes[0]\n",
    "# Reading image\n",
    "img = mpimg.imread('wells.png')\n",
    "# Plotting it inplace\n",
    "ax.imshow(img, origin='upper', alpha=.8, extent = (0, 791, -582,0))\n",
    "p3d = gp.plot_3d(geo_model, plotter_type='background', show_topography=True)"
   ]
  },
  {
   "cell_type": "markdown",
   "metadata": {
    "iooxa": {
     "id": {
      "block": "QCYc0LQ2ZIcJwerVWYzt",
      "project": "Eg0Zg5heJvyoYfj4Vp5h",
      "version": 1
     }
    }
   },
   "source": [
    "# Part II: Subsurface to GemPy"
   ]
  },
  {
   "cell_type": "markdown",
   "metadata": {
    "iooxa": {
     "id": {
      "block": "LP7jfxlk5WGuNxj6FHZ2",
      "project": "Eg0Zg5heJvyoYfj4Vp5h",
      "version": 1
     }
    },
    "pycharm": {
     "name": "#%% md\n"
    }
   },
   "source": [
    "For this notebook we will need some additional packages:\n",
    "\n",
    "Extra:\n",
    "`$ pip install subsurface, pooch, striplog, welly`\n"
   ]
  },
  {
   "cell_type": "code",
   "execution_count": null,
   "metadata": {
    "iooxa": {
     "id": {
      "block": "AGdBzAB9XxvjRuOOs4e7",
      "project": "Eg0Zg5heJvyoYfj4Vp5h",
      "version": 2
     },
     "outputId": {
      "block": "kmYHjuKAvRBJbvk1lHgr",
      "project": "Eg0Zg5heJvyoYfj4Vp5h",
      "version": 1
     }
    },
    "pycharm": {
     "name": "#%%\n"
    }
   },
   "outputs": [],
   "source": [
    "!pip install subsurface\n",
    "!pip install pooch\n",
    "!pip install git+https://github.com/Leguark/striplog.git\n",
    "!pip install welly\n",
    "!pip install sklearn"
   ]
  },
  {
   "cell_type": "markdown",
   "metadata": {
    "iooxa": {
     "id": {
      "block": "P9KaeEyK4QzZTWlAs3bW",
      "project": "Eg0Zg5heJvyoYfj4Vp5h",
      "version": 1
     }
    }
   },
   "source": [
    "## Subsurface: Centralizing data management for the GeoScientific Stack \n",
    "\n",
    "Subsurface is a package in development aiming to unify at a low level the data structures used from multilpe packages in geoscience for Python. It heavily relies on `xarray` to store data.\n",
    "\n",
    "Besides the data structures themselves `subsurface` provides custom logic to read - and in the future write - to 3rd party formats outside the Python ecosystem. In this notebook we are going to use `subsurface` to import borehole data from csv files:"
   ]
  },
  {
   "cell_type": "code",
   "execution_count": null,
   "metadata": {
    "iooxa": {
     "id": {
      "block": "QBwiz6cNIaktq1b8Vbaw",
      "project": "Eg0Zg5heJvyoYfj4Vp5h",
      "version": 1
     },
     "outputId": null
    },
    "pycharm": {
     "name": "#%%\n"
    }
   },
   "outputs": [],
   "source": [
    "import pooch\n",
    "from striplog import Component\n",
    "import pandas as pd\n",
    "import numpy as np"
   ]
  },
  {
   "cell_type": "code",
   "execution_count": null,
   "metadata": {
    "iooxa": {
     "id": {
      "block": "1xCzX0HHKK8SHJZI9O04",
      "project": "Eg0Zg5heJvyoYfj4Vp5h",
      "version": 1
     },
     "outputId": null
    },
    "pycharm": {
     "name": "#%%\n"
    }
   },
   "outputs": [],
   "source": [
    "import subsurface as sb\n",
    "from subsurface.reader import ReaderFilesHelper\n",
    "from subsurface.reader.wells import read_collar, read_lith, read_survey, WellyToSubsurfaceHelper, welly_to_subsurface"
   ]
  },
  {
   "cell_type": "markdown",
   "metadata": {
    "iooxa": {
     "id": {
      "block": "7NEf0kSPl3O5Pxkc80zc",
      "project": "Eg0Zg5heJvyoYfj4Vp5h",
      "version": 1
     }
    }
   },
   "source": [
    "We use `pooch` to download the dataset into a temp file:"
   ]
  },
  {
   "cell_type": "code",
   "execution_count": null,
   "metadata": {
    "iooxa": {
     "id": {
      "block": "3nIhpFxR8dKHwW6ovti3",
      "project": "Eg0Zg5heJvyoYfj4Vp5h",
      "version": 2
     },
     "outputId": null
    },
    "pycharm": {
     "name": "#%%\n"
    }
   },
   "outputs": [],
   "source": [
    "url = \"https://raw.githubusercontent.com/softwareunderground/subsurface/main/tests/data/borehole/kim_ready.csv\"\n",
    "known_hash = \"efa90898bb435daa15912ca6f3e08cd3285311923a36dbc697d2aafebbafa25f\"\n",
    "\n",
    "# Your code here:\n",
    "\n"
   ]
  },
  {
   "cell_type": "markdown",
   "metadata": {
    "iooxa": {
     "id": {
      "block": "FJdYdXkLqYgXVkvaVJBU",
      "project": "Eg0Zg5heJvyoYfj4Vp5h",
      "version": 1
     }
    }
   },
   "source": [
    "Now we can use `subsurface` function to help us reading csv files into pandas dataframes that the package can understand. Since the combination of styles data is provided can highly vary from project to project, `subsurface` provides some *helpers* functions to parse different combination of .csv"
   ]
  },
  {
   "cell_type": "code",
   "execution_count": null,
   "metadata": {
    "iooxa": {
     "id": {
      "block": "l5Aht3ObLSUZO0NPylLK",
      "project": "Eg0Zg5heJvyoYfj4Vp5h",
      "version": 3
     },
     "outputId": {
      "block": "isDWyMzInUNii18dib4o",
      "project": "Eg0Zg5heJvyoYfj4Vp5h",
      "version": 2
     }
    },
    "pycharm": {
     "name": "#%%\n"
    }
   },
   "outputs": [],
   "source": [
    "reading_collars = ReaderFilesHelper(\n",
    "        file_or_buffer=raw_borehole_data_csv,\n",
    "        index_col=\"name\",\n",
    "        usecols=['x', 'y', 'altitude', \"name\"]\n",
    "    )\n",
    "\n",
    "reading_collars"
   ]
  },
  {
   "cell_type": "code",
   "execution_count": null,
   "metadata": {
    "iooxa": {
     "id": {
      "block": "NxOxxGCOOeYnBNnEgxcU",
      "project": "Eg0Zg5heJvyoYfj4Vp5h",
      "version": 2
     },
     "outputId": {
      "block": "oHvcGc3agA8Th6OxovDY",
      "project": "Eg0Zg5heJvyoYfj4Vp5h",
      "version": 2
     }
    }
   },
   "outputs": [],
   "source": [
    "from dataclasses import asdict\n",
    "asdict(reading_collars)"
   ]
  },
  {
   "cell_type": "code",
   "execution_count": null,
   "metadata": {
    "iooxa": {
     "id": {
      "block": "DWeeUStjzPWPZev5ZG9E",
      "project": "Eg0Zg5heJvyoYfj4Vp5h",
      "version": 3
     },
     "outputId": {
      "block": "RpBef4I3f0XyFODN47Jw",
      "project": "Eg0Zg5heJvyoYfj4Vp5h",
      "version": 2
     }
    },
    "pycharm": {
     "name": "#%%\n"
    }
   },
   "outputs": [],
   "source": [
    "collar = read_collar(reading_collars)\n",
    "\n",
    "collar"
   ]
  },
  {
   "cell_type": "code",
   "execution_count": null,
   "metadata": {
    "iooxa": {
     "id": {
      "block": "TUbS4PUyZPohDoOmBrzy",
      "project": "Eg0Zg5heJvyoYfj4Vp5h",
      "version": 3
     },
     "outputId": {
      "block": "Eqp7sYlC21uHslpXVpZv",
      "project": "Eg0Zg5heJvyoYfj4Vp5h",
      "version": 2
     }
    },
    "pycharm": {
     "name": "#%%\n"
    }
   },
   "outputs": [],
   "source": [
    "# Your code here:\n",
    "survey = read_survey(\n",
    "     ReaderFilesHelper(\n",
    "     \n",
    "     )\n",
    ")\n",
    "\n",
    "\n",
    "survey"
   ]
  },
  {
   "cell_type": "code",
   "execution_count": null,
   "metadata": {
    "iooxa": {
     "id": {
      "block": "Cqg7Qou4oSTivlHeIoSo",
      "project": "Eg0Zg5heJvyoYfj4Vp5h",
      "version": 3
     },
     "outputId": {
      "block": "4NmDxcF1Vb4rre6tDu8S",
      "project": "Eg0Zg5heJvyoYfj4Vp5h",
      "version": 2
     }
    },
    "pycharm": {
     "name": "#%%\n"
    }
   },
   "outputs": [],
   "source": [
    "# Your code here:\n",
    "lith = read_lith(\n",
    "    \n",
    "    \n",
    "    \n",
    ")\n",
    "\n",
    "lith\n"
   ]
  },
  {
   "cell_type": "markdown",
   "metadata": {
    "iooxa": {
     "id": {
      "block": "4uyEe0Mb9jfTVV1e1mK9",
      "project": "Eg0Zg5heJvyoYfj4Vp5h",
      "version": 1
     }
    }
   },
   "source": [
    "### Welly\n",
    "\n",
    "Welly is a family of classes to facilitate the loading, processing, and analysis of subsurface wells and well data, such as striplogs, formation tops, well log curves, and synthetic seismograms.\n",
    "\n",
    "We are using welly to convert pandas data frames into classes to manipulate well data. The final goal is to extract 3D coordinates and properties for multiple wells.\n",
    "\n",
    "The class `WellyToSubsurfaceHelper` contains the methods to create a `welly` project and export it to a `subsurface` data class."
   ]
  },
  {
   "cell_type": "code",
   "execution_count": null,
   "metadata": {
    "iooxa": {
     "id": {
      "block": "ZaXZMB05bZpbAhD6on2W",
      "project": "Eg0Zg5heJvyoYfj4Vp5h",
      "version": 3
     },
     "outputId": {
      "block": "PXWTPZlmjRqvSLKfA6Ll",
      "project": "Eg0Zg5heJvyoYfj4Vp5h",
      "version": 1
     }
    },
    "pycharm": {
     "name": "#%%\n"
    }
   },
   "outputs": [],
   "source": [
    "wts = sb.reader.wells.WellyToSubsurfaceHelper(collar_df=collar, survey_df=survey, lith_df=lith)"
   ]
  },
  {
   "cell_type": "markdown",
   "metadata": {
    "iooxa": {
     "id": {
      "block": "S1Jg4K9wwZIXvz5nQviI",
      "project": "Eg0Zg5heJvyoYfj4Vp5h",
      "version": 1
     }
    }
   },
   "source": [
    "In the field p is stored a welly project (https://github.com/agile-geoscience/welly/blob/master/tutorial/04_Project.ipynb)and we can use it to explore and visualize properties of each well."
   ]
  },
  {
   "cell_type": "code",
   "execution_count": null,
   "metadata": {
    "iooxa": {
     "id": {
      "block": "RQpRzsaPFBQLVnMy4uos",
      "project": "Eg0Zg5heJvyoYfj4Vp5h",
      "version": 3
     },
     "outputId": {
      "block": "9JjTFjX8S4aNnOx9hf8R",
      "project": "Eg0Zg5heJvyoYfj4Vp5h",
      "version": 2
     }
    },
    "pycharm": {
     "name": "#%%\n"
    },
    "scrolled": true
   },
   "outputs": [],
   "source": [
    "wts.p"
   ]
  },
  {
   "cell_type": "code",
   "execution_count": null,
   "metadata": {
    "iooxa": {
     "id": {
      "block": "uuN5vJq2vDfICRjYCFQp",
      "project": "Eg0Zg5heJvyoYfj4Vp5h",
      "version": 3
     },
     "outputId": {
      "block": "qxMz0DqjZvdrvfxqQWV6",
      "project": "Eg0Zg5heJvyoYfj4Vp5h",
      "version": 2
     }
    },
    "pycharm": {
     "name": "#%%\n"
    }
   },
   "outputs": [],
   "source": [
    "stripLog = wts.p[0].data['lith']\n",
    "stripLog"
   ]
  },
  {
   "cell_type": "code",
   "execution_count": null,
   "metadata": {
    "iooxa": {
     "id": {
      "block": "I7HCLymZcHMvUTMPlF3I",
      "project": "Eg0Zg5heJvyoYfj4Vp5h",
      "version": 3
     },
     "outputId": {
      "block": "Dlo9n04jCTSQo5ycBC96",
      "project": "Eg0Zg5heJvyoYfj4Vp5h",
      "version": 2
     }
    },
    "pycharm": {
     "name": "#%%\n"
    },
    "scrolled": true
   },
   "outputs": [],
   "source": [
    "stripLog.plot()\n",
    "plt.gcf()"
   ]
  },
  {
   "cell_type": "code",
   "execution_count": null,
   "metadata": {
    "iooxa": {
     "id": {
      "block": "1ZW7QVCoakWKJp2Kph3v",
      "project": "Eg0Zg5heJvyoYfj4Vp5h",
      "version": 3
     },
     "outputId": {
      "block": "tNkRakMZwzMAwpUGhMQc",
      "project": "Eg0Zg5heJvyoYfj4Vp5h",
      "version": 2
     }
    },
    "pycharm": {
     "name": "#%%\n"
    }
   },
   "outputs": [],
   "source": [
    "welly_well = wts.p[0].data[\"lith_log\"]\n",
    "welly_well"
   ]
  },
  {
   "cell_type": "markdown",
   "metadata": {
    "iooxa": {
     "id": {
      "block": "1h2EZypBMY7Rf1aelQOB",
      "project": "Eg0Zg5heJvyoYfj4Vp5h",
      "version": 1
     }
    }
   },
   "source": [
    "## Welly to Subsurface \n",
    "\n",
    "Welly is a very powerful tool to inspect well data but it was not design for 3D. However they have a method to export XYZ coordinates of each of the well that we can take advanatage of to create a `subsurface.UnstructuredData` object. This object is one of the core data class of `subsurface` and we will use it from now on to keep working in 3D."
   ]
  },
  {
   "cell_type": "code",
   "execution_count": null,
   "metadata": {
    "iooxa": {
     "id": {
      "block": "txdxtuzbu33EYMGtdNN2",
      "project": "Eg0Zg5heJvyoYfj4Vp5h",
      "version": 3
     },
     "outputId": {
      "block": "emwe7OwqLeeAiA1JbHhU",
      "project": "Eg0Zg5heJvyoYfj4Vp5h",
      "version": 2
     }
    },
    "pycharm": {
     "name": "#%%\n"
    }
   },
   "outputs": [],
   "source": [
    "formations = [\"topo\", \"etchegoin\", \"macoma\", \"chanac\", \"mclure\",\n",
    "              \"santa_margarita\", \"fruitvale\",\n",
    "              \"round_mountain\", \"olcese\", \"freeman_jewett\", \"vedder\", \"eocene\",\n",
    "              \"cretaceous\",\n",
    "              \"basement\", \"null\"]\n",
    "\n",
    "unstruct = sb.reader.wells.welly_to_subsurface(wts, table=[Component({'lith': l}) for l in formations])\n",
    "unstruct.data"
   ]
  },
  {
   "cell_type": "markdown",
   "metadata": {
    "iooxa": {
     "id": {
      "block": "ep7dPURzMTeBYFDc2lv7",
      "project": "Eg0Zg5heJvyoYfj4Vp5h",
      "version": 1
     }
    }
   },
   "source": [
    "At each core `UstructuredData` is a wrapper of a `xarray.Dataset`. Although slightly flexible, any `UnstructuredData` will contain 4 `xarray.DataArray` objects containing vertex, cells, cell attributes and vertex attibutes. This is the minimum amount of information necessary to work in 3D. "
   ]
  },
  {
   "cell_type": "markdown",
   "metadata": {
    "iooxa": {
     "id": {
      "block": "8Sw5lDu4ueqffT7fOYGX",
      "project": "Eg0Zg5heJvyoYfj4Vp5h",
      "version": 1
     }
    }
   },
   "source": [
    "From an `UnstructuredData` we can construct *elements*. *elements* are a higher level construct and includes the definion of type of geometric representation - e.g. points, lines, surfaces, etc. For the case of borehole we will use LineSets. *elements* have a very close relation to `vtk` data structures what enables easily to plot the data using `pyvista`"
   ]
  },
  {
   "cell_type": "code",
   "execution_count": null,
   "metadata": {
    "iooxa": {
     "id": {
      "block": "AEPvrK8H0EonRKv619Qq",
      "project": "Eg0Zg5heJvyoYfj4Vp5h",
      "version": 1
     },
     "outputId": null
    },
    "pycharm": {
     "name": "#%%\n"
    }
   },
   "outputs": [],
   "source": [
    "\n"
   ]
  },
  {
   "cell_type": "markdown",
   "metadata": {
    "iooxa": {
     "id": {
      "block": "8QofSEYQBeFcB48t5WuT",
      "project": "Eg0Zg5heJvyoYfj4Vp5h",
      "version": 1
     }
    }
   },
   "source": [
    "## Finding the boreholes bases\n",
    "\n",
    "`GemPy` interpolates the bottom of a unit, therefore we need to be able to extract those points to be able tointerpolate them. `xarray`, `pandas` and `numpy` are using the same type of memory representation what makes possible to use the same or at least similar methods to manipulate the data to our will. \n",
    "\n",
    "Lets find the base points of each well:"
   ]
  },
  {
   "cell_type": "code",
   "execution_count": null,
   "metadata": {
    "iooxa": {
     "id": {
      "block": "RSO0kkX6Ffv2dsdMnTMH",
      "project": "Eg0Zg5heJvyoYfj4Vp5h",
      "version": 1
     },
     "outputId": null
    },
    "pycharm": {
     "name": "#%%\n"
    }
   },
   "outputs": [],
   "source": [
    "# Creating references to the xarray.DataArray\n",
    "cells_attr = unstruct.data.cell_attrs\n",
    "cells = unstruct.data.cells\n",
    "vertex = unstruct.data.vertex"
   ]
  },
  {
   "cell_type": "code",
   "execution_count": null,
   "metadata": {
    "iooxa": {
     "id": {
      "block": "FmywLimzXJgAUhTnBMgH",
      "project": "Eg0Zg5heJvyoYfj4Vp5h",
      "version": 3
     },
     "outputId": {
      "block": "Qhfd9onxPIFu2kbglZFi",
      "project": "Eg0Zg5heJvyoYfj4Vp5h",
      "version": 2
     }
    },
    "pycharm": {
     "name": "#%%\n"
    }
   },
   "outputs": [],
   "source": [
    "# Find vertex points at the boundary of two units\n",
    "# Marking each vertex\n",
    "\n",
    "# Getting the index of the vertex\n",
    "\n",
    "# Getting the attr values at those points \n",
    "\n"
   ]
  },
  {
   "cell_type": "code",
   "execution_count": null,
   "metadata": {
    "iooxa": {
     "id": {
      "block": "nCExxGrmGIk0vPVy4b9d",
      "project": "Eg0Zg5heJvyoYfj4Vp5h",
      "version": 3
     },
     "outputId": {
      "block": "QVWqmYTqfXtio4yqmlV1",
      "project": "Eg0Zg5heJvyoYfj4Vp5h",
      "version": 2
     }
    },
    "pycharm": {
     "name": "#%%\n"
    }
   },
   "outputs": [],
   "source": [
    "# Getting the vertex values at those points\n"
   ]
  },
  {
   "cell_type": "code",
   "execution_count": null,
   "metadata": {
    "iooxa": {
     "id": {
      "block": "PogRLifxe1Aq4HT3FdAI",
      "project": "Eg0Zg5heJvyoYfj4Vp5h",
      "version": 3
     },
     "outputId": {
      "block": "htNanLM6J8yAtEUulm5h",
      "project": "Eg0Zg5heJvyoYfj4Vp5h",
      "version": 2
     }
    },
    "pycharm": {
     "name": "#%%\n"
    }
   },
   "outputs": [],
   "source": [
    "# Creating a new UnstructuredData\n"
   ]
  },
  {
   "cell_type": "markdown",
   "metadata": {
    "iooxa": {
     "id": {
      "block": "40o53rjykuQDyntwsUyb",
      "project": "Eg0Zg5heJvyoYfj4Vp5h",
      "version": 1
     }
    }
   },
   "source": [
    "This new `UnstructuredData` object instead containing data that represent lines, contain point data at the bottom of each unit. We can plot it very similar as before:"
   ]
  },
  {
   "cell_type": "code",
   "execution_count": null,
   "metadata": {
    "iooxa": {
     "id": {
      "block": "TYIrHkHNFZM771Mjmvcx",
      "project": "Eg0Zg5heJvyoYfj4Vp5h",
      "version": 3
     },
     "outputId": {
      "block": "wv2IFntn6nbmdJ8cGL7F",
      "project": "Eg0Zg5heJvyoYfj4Vp5h",
      "version": 2
     }
    },
    "pycharm": {
     "name": "#%%\n"
    }
   },
   "outputs": [],
   "source": []
  },
  {
   "cell_type": "markdown",
   "metadata": {
    "iooxa": {
     "id": {
      "block": "6XcTccv0DI55yc1UhRJX",
      "project": "Eg0Zg5heJvyoYfj4Vp5h",
      "version": 1
     }
    }
   },
   "source": [
    "## GemPy: Initialize model\n",
    "\n",
    "The first step to create a GemPy model is create a `gempy.Model` object that will\n",
    "contain all the other data structures and necessary functionality. In addition\n",
    " for this example we will define a *regular grid* since the beginning.\n",
    "This is the grid where we will interpolate the 3D geological model.\n",
    "\n",
    "GemPy is based on a **meshless interpolator**. In practice this means that we can\n",
    "interpolate any point in a 3D space. However, for convenience, we have built some\n",
    "standard grids for different purposes. At the current day the standard grids are:\n",
    "\n",
    "- **Regular grid**: default grid mainly for general visualization\n",
    "- **Custom grid**: GemPy's wrapper to interpolate on a user grid\n",
    "- **Topography**: Topographic data use to be of high density. Treating it as an independent\n",
    "  grid allow for high resolution geological maps\n",
    "- **Sections**: If we predefine the section 2D grid we can directly interpolate at those\n",
    "  locations for perfect, high resolution estimations\n",
    "- **Center grids**: Half sphere grids around a given point at surface. This are specially tuned\n",
    "  for geophysical forward computations"
   ]
  },
  {
   "cell_type": "code",
   "execution_count": null,
   "metadata": {
    "iooxa": {
     "id": {
      "block": "LL37dYoSWEPzPsz4Yxmq",
      "project": "Eg0Zg5heJvyoYfj4Vp5h",
      "version": 3
     },
     "outputId": {
      "block": "Z3zi3BwrCi0wDZQmSjIA",
      "project": "Eg0Zg5heJvyoYfj4Vp5h",
      "version": 2
     }
    },
    "pycharm": {
     "name": "#%%\n"
    }
   },
   "outputs": [],
   "source": [
    "import gempy as gp\n",
    "extent= [275619, 323824, 3914125, 3961793, -3972.6, 313.922]\n",
    "\n",
    "# Your code here:\n"
   ]
  },
  {
   "cell_type": "markdown",
   "metadata": {
    "iooxa": {
     "id": {
      "block": "1jlbGHhYIrscmLIOU6wf",
      "project": "Eg0Zg5heJvyoYfj4Vp5h",
      "version": 1
     }
    }
   },
   "source": [
    "GemPy core code is written in Python. However for efficiency and gradient based\n",
    "machine learning most of heavy computations happen in optimize compile code,\n",
    " either C or CUDA for GPU.\n",
    "\n",
    "To do so, GemPy rely on the library `Theano`. To guarantee maximum optimization\n",
    "`Theano` requires to compile the code for every Python kernel. The compilation is\n",
    "done by calling the following line at any point (before computing the model):"
   ]
  },
  {
   "cell_type": "code",
   "execution_count": null,
   "metadata": {
    "iooxa": {
     "id": {
      "block": "x40TfSq7c9vdKoHGMTln",
      "project": "Eg0Zg5heJvyoYfj4Vp5h",
      "version": 3
     },
     "outputId": {
      "block": "XADBxhFGXCDXZgKN5sBF",
      "project": "Eg0Zg5heJvyoYfj4Vp5h",
      "version": 2
     }
    },
    "pycharm": {
     "name": "#%%\n"
    }
   },
   "outputs": [],
   "source": [
    "gp.set_interpolator(geo_model, theano_optimizer='fast_compile', verbose=[])"
   ]
  },
  {
   "cell_type": "markdown",
   "metadata": {
    "iooxa": {
     "id": {
      "block": "ZeVYPRF7BsFYtA8o5afp",
      "project": "Eg0Zg5heJvyoYfj4Vp5h",
      "version": 1
     }
    }
   },
   "source": [
    "## Making a model step by step.\n",
    "\n",
    "The temptation at this point is to bring all the points into `gempy` and just interpolate. However, often that strategy results in ill posed problems due to noise or irregularities in the data. `gempy` has been design to being able to iterate rapidly and therefore a much better workflow use to be creating the model step by step.\n",
    "\n",
    "To do that, lets define a function that we can pass the name of the formation and get the assotiated vertex. Grab from the `interf_us` the XYZ coordinates of the first layer:"
   ]
  },
  {
   "cell_type": "code",
   "execution_count": null,
   "metadata": {
    "iooxa": {
     "id": {
      "block": "21MkIamw04jKl1aN3UKq",
      "project": "Eg0Zg5heJvyoYfj4Vp5h",
      "version": 2
     },
     "outputId": null
    },
    "pycharm": {
     "name": "#%%\n"
    }
   },
   "outputs": [],
   "source": [
    "def get_interface_coord_from_surfaces(surface_names: list, verbose=False):\n",
    "    \n",
    "    df = pd.DataFrame(columns=[\"X\", \"Y\", \"Z\", \"surface\"])\n",
    "    \n",
    "    for e, surface_name in enumerate(surface_names):\n",
    "        # The properties in subsurface start at 1\n",
    "        val_property = formations.index(surface_name) + 1\n",
    "        # Find the cells with the surface id\n",
    "        args_from_first_surface = np.where(vals_prop_change == val_property)[0]    \n",
    "        if verbose: print(args_from_first_surface)\n",
    "        # Find the vertex\n",
    "        points_from_first_surface = interface_points[args_from_first_surface]\n",
    "        if verbose: print(points_from_first_surface)\n",
    "        \n",
    "        # xarray.DataArray to pandas.DataFrame\n",
    "        surface_pandas = points_from_first_surface.to_pandas()\n",
    "        \n",
    "        # Add formation column\n",
    "        surface_pandas[\"surface\"] = surface_name\n",
    "        df = df.append(surface_pandas)\n",
    "    \n",
    "    return df.reset_index()"
   ]
  },
  {
   "cell_type": "markdown",
   "metadata": {
    "iooxa": {
     "id": {
      "block": "S4MeW8PQf9ps6ealExWu",
      "project": "Eg0Zg5heJvyoYfj4Vp5h",
      "version": 1
     }
    }
   },
   "source": [
    "### Surfaces\n",
    "\n",
    "GemPy is a surface based interpolator. This means that all the input data we add has to be refereed to a surface. The\n",
    " surfaces always mark the **bottom** of a unit. \n",
    " \n",
    "This is a list with the formations names for this data set."
   ]
  },
  {
   "cell_type": "code",
   "execution_count": null,
   "metadata": {
    "iooxa": {
     "id": {
      "block": "QTwDhV6QXT2h9tBI1qqM",
      "project": "Eg0Zg5heJvyoYfj4Vp5h",
      "version": 3
     },
     "outputId": {
      "block": "YBBWOJQw9sNcmveN347x",
      "project": "Eg0Zg5heJvyoYfj4Vp5h",
      "version": 2
     }
    },
    "pycharm": {
     "name": "#%%\n"
    }
   },
   "outputs": [],
   "source": [
    "formations"
   ]
  },
  {
   "cell_type": "markdown",
   "metadata": {
    "iooxa": {
     "id": {
      "block": "PcutHHnIu5dfLM0cukrl",
      "project": "Eg0Zg5heJvyoYfj4Vp5h",
      "version": 1
     }
    }
   },
   "source": [
    "Lets add the first two (remember we always need a basement defined)."
   ]
  },
  {
   "cell_type": "code",
   "execution_count": null,
   "metadata": {
    "iooxa": {
     "id": {
      "block": "mHr93AoJRYKRBdUUWHUF",
      "project": "Eg0Zg5heJvyoYfj4Vp5h",
      "version": 3
     },
     "outputId": {
      "block": "MhBiTJ5Yr6EAJchGE2xK",
      "project": "Eg0Zg5heJvyoYfj4Vp5h",
      "version": 2
     }
    },
    "pycharm": {
     "name": "#%%\n"
    }
   },
   "outputs": [],
   "source": [
    "geo_model.add_surfaces(formations[:2])"
   ]
  },
  {
   "cell_type": "markdown",
   "metadata": {
    "iooxa": {
     "id": {
      "block": "1tRqWud4bQzNTNApjhsf",
      "project": "Eg0Zg5heJvyoYfj4Vp5h",
      "version": 2
     }
    }
   },
   "source": [
    "Using the function defined above we just extract the surface points for **topo**:"
   ]
  },
  {
   "cell_type": "code",
   "execution_count": null,
   "metadata": {
    "iooxa": {
     "id": {
      "block": "w8ZYhRI52ZffXRPhLxlP",
      "project": "Eg0Zg5heJvyoYfj4Vp5h",
      "version": 3
     },
     "outputId": {
      "block": "TPWkgbHg2OpqvukjiPKg",
      "project": "Eg0Zg5heJvyoYfj4Vp5h",
      "version": 2
     }
    },
    "pycharm": {
     "name": "#%%\n"
    }
   },
   "outputs": [],
   "source": [
    "gempy_surface_points = get_interface_coord_from_surfaces([\"topo\"])\n",
    "gempy_surface_points"
   ]
  },
  {
   "cell_type": "markdown",
   "metadata": {
    "iooxa": {
     "id": {
      "block": "lYCWghdXhJMYoGo5SgJA",
      "project": "Eg0Zg5heJvyoYfj4Vp5h",
      "version": 1
     }
    }
   },
   "source": [
    "And we can set them into the `gempy` model:"
   ]
  },
  {
   "cell_type": "code",
   "execution_count": null,
   "metadata": {
    "iooxa": {
     "id": {
      "block": "RQ6sUyWgFeBM8H81nzL1",
      "project": "Eg0Zg5heJvyoYfj4Vp5h",
      "version": 3
     },
     "outputId": {
      "block": "pkO9RZgqApWZWt65gZlP",
      "project": "Eg0Zg5heJvyoYfj4Vp5h",
      "version": 2
     }
    },
    "pycharm": {
     "name": "#%%\n"
    }
   },
   "outputs": [],
   "source": [
    "# Your code here:\n"
   ]
  },
  {
   "cell_type": "code",
   "execution_count": null,
   "metadata": {
    "iooxa": {
     "id": {
      "block": "MW20fX4Kehtbch4Rd6pp",
      "project": "Eg0Zg5heJvyoYfj4Vp5h",
      "version": 2
     },
     "outputId": null
    },
    "pycharm": {
     "name": "#%%\n"
    }
   },
   "outputs": [],
   "source": [
    "g2d = gp.plot_2d(geo_model)"
   ]
  },
  {
   "cell_type": "markdown",
   "metadata": {
    "iooxa": {
     "id": {
      "block": "ThCuwmyisc4lDffmz1aU",
      "project": "Eg0Zg5heJvyoYfj4Vp5h",
      "version": 1
     }
    }
   },
   "source": [
    "The **minimum amount of input data** to interpolate anything in `gempy` is:\n",
    "\n",
    "a) 2 surface points per surface\n",
    "\n",
    "b) One orientation per series.\n",
    "\n",
    "Lets add an orientation:"
   ]
  },
  {
   "cell_type": "code",
   "execution_count": null,
   "metadata": {
    "iooxa": {
     "id": {
      "block": "3xG11oPIWy6gR8TfvnBk",
      "project": "Eg0Zg5heJvyoYfj4Vp5h",
      "version": 3
     },
     "outputId": {
      "block": "pj99wUHsQB34jLInHfkv",
      "project": "Eg0Zg5heJvyoYfj4Vp5h",
      "version": 2
     }
    },
    "pycharm": {
     "name": "#%%\n"
    }
   },
   "outputs": [],
   "source": [
    "geo_model.add_orientations(X=300000, Y=3930000, Z=0, surface=\"topo\", pole_vector=(0,0,1))"
   ]
  },
  {
   "cell_type": "markdown",
   "metadata": {
    "iooxa": {
     "id": {
      "block": "PFwLiwr9z19PNt3ejeVw",
      "project": "Eg0Zg5heJvyoYfj4Vp5h",
      "version": 1
     }
    }
   },
   "source": [
    "GemPy depends on multiple data objects to store all the data structures necessary\n",
    "to construct an structural model. To keep all the necessary objects in sync the\n",
    "class `gempy.ImplicitCoKriging` (which `geo_model` is instance of) will provide the\n",
    "necessary methods to update these data structures coherently.\n",
    "\n",
    "At current state (gempy 2.2), the data classes are:\n",
    "\n",
    "- `gempy.SurfacePoints`\n",
    "- `gempy.Orientations`\n",
    "- `gempy.Surfaces`\n",
    "- `gempy.Stack` (combination of `gempy.Series` and `gempy.Faults`)\n",
    "- `gempy.Grid`\n",
    "- `gempy.AdditionalData`\n",
    "- `gempy.Solutions`\n",
    "\n",
    "Today we will look into details only some of these classes but what is important\n",
    "to notice is that you can access these objects as follows:"
   ]
  },
  {
   "cell_type": "code",
   "execution_count": null,
   "metadata": {
    "iooxa": {
     "id": {
      "block": "zW6j4sFmNnKrZeehqGuW",
      "project": "Eg0Zg5heJvyoYfj4Vp5h",
      "version": 3
     },
     "outputId": {
      "block": "HI1vC6BGb0nV5qokwb1i",
      "project": "Eg0Zg5heJvyoYfj4Vp5h",
      "version": 2
     }
    },
    "pycharm": {
     "name": "#%%\n"
    }
   },
   "outputs": [],
   "source": [
    "geo_model.additional_data"
   ]
  },
  {
   "cell_type": "code",
   "execution_count": null,
   "metadata": {
    "iooxa": {
     "id": {
      "block": "W6nLTOoYGl7R7QwfSHaS",
      "project": "Eg0Zg5heJvyoYfj4Vp5h",
      "version": 3
     },
     "outputId": {
      "block": "xcqG6BTH3VCqfM27i4zy",
      "project": "Eg0Zg5heJvyoYfj4Vp5h",
      "version": 2
     }
    },
    "pycharm": {
     "name": "#%%\n"
    }
   },
   "outputs": [],
   "source": [
    "gp.compute_model(geo_model)"
   ]
  },
  {
   "cell_type": "code",
   "execution_count": null,
   "metadata": {
    "iooxa": {
     "id": {
      "block": "kWUyW3sGWxp3QXIfEAaI",
      "project": "Eg0Zg5heJvyoYfj4Vp5h",
      "version": 1
     },
     "outputId": null
    },
    "pycharm": {
     "name": "#%%\n"
    }
   },
   "outputs": [],
   "source": [
    "g3d = gp.plot_3d(geo_model, plotter_type=\"background\")"
   ]
  },
  {
   "cell_type": "code",
   "execution_count": null,
   "metadata": {
    "iooxa": {
     "id": {
      "block": "aHrSnZ7K3TU0QowuJHdN",
      "project": "Eg0Zg5heJvyoYfj4Vp5h",
      "version": 3
     },
     "outputId": {
      "block": "ffByLBLT2JfyFzd4V9v6",
      "project": "Eg0Zg5heJvyoYfj4Vp5h",
      "version": 2
     }
    },
    "pycharm": {
     "name": "#%%\n"
    }
   },
   "outputs": [],
   "source": [
    "# Adding subsurface pyvista mesh:\n"
   ]
  },
  {
   "cell_type": "markdown",
   "metadata": {
    "iooxa": {
     "id": {
      "block": "0RFhnoRKAlLKFtt0zt1I",
      "project": "Eg0Zg5heJvyoYfj4Vp5h",
      "version": 1
     }
    }
   },
   "source": [
    "## Second layer"
   ]
  },
  {
   "cell_type": "code",
   "execution_count": null,
   "metadata": {
    "iooxa": {
     "id": {
      "block": "pOUB2kkCkO4OzPYlZvzd",
      "project": "Eg0Zg5heJvyoYfj4Vp5h",
      "version": 3
     },
     "outputId": {
      "block": "DvV0OD6nZkjIsm69Mghv",
      "project": "Eg0Zg5heJvyoYfj4Vp5h",
      "version": 2
     }
    },
    "pycharm": {
     "name": "#%%\n"
    }
   },
   "outputs": [],
   "source": [
    "geo_model.add_surfaces(formations[2])"
   ]
  },
  {
   "cell_type": "code",
   "execution_count": null,
   "metadata": {
    "iooxa": {
     "id": {
      "block": "tvpVElFqUBd7LgaNNLAX",
      "project": "Eg0Zg5heJvyoYfj4Vp5h",
      "version": 3
     },
     "outputId": {
      "block": "yBKdlqn0jFsgardCJ0B4",
      "project": "Eg0Zg5heJvyoYfj4Vp5h",
      "version": 2
     }
    },
    "pycharm": {
     "name": "#%%\n"
    }
   },
   "outputs": [],
   "source": [
    "gempy_surface_points = get_interface_coord_from_surfaces(formations[:2])\n",
    "geo_model.set_surface_points(gempy_surface_points, update_surfaces=False)\n",
    "geo_model.update_to_interpolator()"
   ]
  },
  {
   "cell_type": "code",
   "execution_count": null,
   "metadata": {
    "iooxa": {
     "id": {
      "block": "JP8htSDU6tJTgdme357G",
      "project": "Eg0Zg5heJvyoYfj4Vp5h",
      "version": 3
     },
     "outputId": {
      "block": "xYMCKtVr9pPBfdzg4k8H",
      "project": "Eg0Zg5heJvyoYfj4Vp5h",
      "version": 2
     }
    },
    "pycharm": {
     "name": "#%%\n"
    }
   },
   "outputs": [],
   "source": [
    "gp.compute_model(geo_model)"
   ]
  },
  {
   "cell_type": "code",
   "execution_count": null,
   "metadata": {
    "iooxa": {
     "id": {
      "block": "b9AlCNTYiX3UDQbAXV9X",
      "project": "Eg0Zg5heJvyoYfj4Vp5h",
      "version": 1
     },
     "outputId": null
    },
    "pycharm": {
     "name": "#%%\n"
    }
   },
   "outputs": [],
   "source": [
    "live_plot = gp.plot_3d(geo_model, plotter_type=\"background\", show_results=True)"
   ]
  },
  {
   "cell_type": "code",
   "execution_count": null,
   "metadata": {
    "iooxa": {
     "id": {
      "block": "q01k5dlMlx3uSFmKvQME",
      "project": "Eg0Zg5heJvyoYfj4Vp5h",
      "version": 2
     },
     "outputId": {
      "block": "vKiVtjl1TLgIGkpIl3sL",
      "project": "Eg0Zg5heJvyoYfj4Vp5h",
      "version": 1
     }
    },
    "pycharm": {
     "name": "#%%\n"
    }
   },
   "outputs": [],
   "source": [
    "# Making the model live\n"
   ]
  },
  {
   "cell_type": "markdown",
   "metadata": {
    "iooxa": {
     "id": {
      "block": "yMXqO7ePkXeqKglUKLSG",
      "project": "Eg0Zg5heJvyoYfj4Vp5h",
      "version": 1
     }
    }
   },
   "source": [
    "### Trying to fix the model: Multiple Geo. Features/Series"
   ]
  },
  {
   "cell_type": "code",
   "execution_count": null,
   "metadata": {
    "iooxa": {
     "id": {
      "block": "zkh1GFKLAHbocorAH5WR",
      "project": "Eg0Zg5heJvyoYfj4Vp5h",
      "version": 3
     },
     "outputId": {
      "block": "J07hWpbx93Dx9R9PyQOH",
      "project": "Eg0Zg5heJvyoYfj4Vp5h",
      "version": 2
     }
    },
    "pycharm": {
     "name": "#%%\n"
    }
   },
   "outputs": [],
   "source": [
    "geo_model.add_features(\"Formations\")"
   ]
  },
  {
   "cell_type": "code",
   "execution_count": null,
   "metadata": {
    "iooxa": {
     "id": {
      "block": "r9GEzwi8N0AhjemIGDut",
      "project": "Eg0Zg5heJvyoYfj4Vp5h",
      "version": 3
     },
     "outputId": {
      "block": "UcOHWaLo8IWnvshFq89t",
      "project": "Eg0Zg5heJvyoYfj4Vp5h",
      "version": 2
     }
    },
    "pycharm": {
     "name": "#%%\n"
    }
   },
   "outputs": [],
   "source": [
    "geo_model.map_stack_to_surfaces({\"Form1\": [\"etchegoin\", \"macoma\"]}, set_series=False)"
   ]
  },
  {
   "cell_type": "code",
   "execution_count": null,
   "metadata": {
    "iooxa": {
     "id": {
      "block": "asQHp5Va1dQhcPwbMWCN",
      "project": "Eg0Zg5heJvyoYfj4Vp5h",
      "version": 3
     },
     "outputId": {
      "block": "wW85bDHcaeO5tTVTxrpb",
      "project": "Eg0Zg5heJvyoYfj4Vp5h",
      "version": 2
     }
    },
    "pycharm": {
     "name": "#%%\n"
    }
   },
   "outputs": [],
   "source": [
    "geo_model.add_orientations(X=300000, Y=3930000, Z=0, surface=\"etchegoin\", pole_vector=(0,0,1), idx=1)"
   ]
  },
  {
   "cell_type": "code",
   "execution_count": null,
   "metadata": {
    "iooxa": {
     "id": {
      "block": "1x88WUzhla6kGTjp3tky",
      "project": "Eg0Zg5heJvyoYfj4Vp5h",
      "version": 3
     },
     "outputId": {
      "block": "j6d1MCsHiFUOvNzTtLRR",
      "project": "Eg0Zg5heJvyoYfj4Vp5h",
      "version": 2
     }
    },
    "pycharm": {
     "name": "#%%\n"
    }
   },
   "outputs": [],
   "source": [
    "gp.compute_model(geo_model)"
   ]
  },
  {
   "cell_type": "code",
   "execution_count": null,
   "metadata": {
    "iooxa": {
     "id": {
      "block": "osKIEob9A0MgdelUCj1S",
      "project": "Eg0Zg5heJvyoYfj4Vp5h",
      "version": 2
     },
     "outputId": null
    },
    "pycharm": {
     "name": "#%%\n"
    }
   },
   "outputs": [],
   "source": [
    "h3d = gp.plot_3d(geo_model, plotter_type=\"background\", show_lith=False, ve=5)"
   ]
  },
  {
   "cell_type": "markdown",
   "metadata": {
    "iooxa": {
     "id": {
      "block": "fIVh9yEZgA9EI2qZzqpu",
      "project": "Eg0Zg5heJvyoYfj4Vp5h",
      "version": 2
     }
    }
   },
   "source": [
    "## Last layers for today"
   ]
  },
  {
   "cell_type": "code",
   "execution_count": null,
   "metadata": {
    "iooxa": {
     "id": {
      "block": "QOzAKmyesN1J9bgIcyMO",
      "project": "Eg0Zg5heJvyoYfj4Vp5h",
      "version": 3
     },
     "outputId": {
      "block": "n9IhZsgosxo7K3RVOhGv",
      "project": "Eg0Zg5heJvyoYfj4Vp5h",
      "version": 2
     }
    },
    "pycharm": {
     "name": "#%%\n"
    }
   },
   "outputs": [],
   "source": [
    "geo_model.add_surfaces(formations[3:5])"
   ]
  },
  {
   "cell_type": "code",
   "execution_count": null,
   "metadata": {
    "iooxa": {
     "id": {
      "block": "yla3pn8NlqFWrgOW4Td1",
      "project": "Eg0Zg5heJvyoYfj4Vp5h",
      "version": 3
     },
     "outputId": {
      "block": "p04nu49KujwZAwMEAF6E",
      "project": "Eg0Zg5heJvyoYfj4Vp5h",
      "version": 2
     }
    },
    "pycharm": {
     "name": "#%%\n"
    }
   },
   "outputs": [],
   "source": [
    "f_last = formations[:4]\n",
    "f_last"
   ]
  },
  {
   "cell_type": "code",
   "execution_count": null,
   "metadata": {
    "iooxa": {
     "id": {
      "block": "563xtYwq1g6Gpm5CmzBq",
      "project": "Eg0Zg5heJvyoYfj4Vp5h",
      "version": 3
     },
     "outputId": {
      "block": "SuxRh99ixfJz3VkVNpgn",
      "project": "Eg0Zg5heJvyoYfj4Vp5h",
      "version": 2
     }
    },
    "pycharm": {
     "name": "#%%\n"
    }
   },
   "outputs": [],
   "source": [
    "gempy_surface_points = get_interface_coord_from_surfaces(f_last)\n",
    "geo_model.set_surface_points(gempy_surface_points, update_surfaces=False)\n",
    "geo_model.update_to_interpolator()"
   ]
  },
  {
   "cell_type": "code",
   "execution_count": null,
   "metadata": {
    "iooxa": {
     "id": {
      "block": "JXg7VFYZ1KxqOHmZ8Uml",
      "project": "Eg0Zg5heJvyoYfj4Vp5h",
      "version": 3
     },
     "outputId": {
      "block": "VoywdEXNmZafqcc2yW6s",
      "project": "Eg0Zg5heJvyoYfj4Vp5h",
      "version": 2
     }
    },
    "pycharm": {
     "name": "#%%\n"
    }
   },
   "outputs": [],
   "source": [
    "gp.compute_model(geo_model)"
   ]
  },
  {
   "cell_type": "code",
   "execution_count": null,
   "metadata": {
    "iooxa": {
     "id": {
      "block": "l8X6LSgbUPkVjvHH9lHS",
      "project": "Eg0Zg5heJvyoYfj4Vp5h",
      "version": 1
     },
     "outputId": null
    },
    "pycharm": {
     "name": "#%%\n"
    }
   },
   "outputs": [],
   "source": [
    "p3d_4 = gp.plot_3d(geo_model, plotter_type=\"background\", show_lith=False, ve=5)"
   ]
  },
  {
   "cell_type": "code",
   "execution_count": null,
   "metadata": {
    "iooxa": {
     "id": {
      "block": "u2NZdFReq8FQOKDSGruT",
      "project": "Eg0Zg5heJvyoYfj4Vp5h",
      "version": 2
     },
     "outputId": {
      "block": "kSDeVbDuhimQ6g3L7ID3",
      "project": "Eg0Zg5heJvyoYfj4Vp5h",
      "version": 1
     }
    },
    "pycharm": {
     "name": "#%%\n"
    }
   },
   "outputs": [],
   "source": [
    "geo_model.add_orientations(X=321687.059770, Y=3.945955e+06, Z=0, surface=\"etchegoin\", pole_vector=(0,0,1), idx=1)\n",
    "gp.compute_model(geo_model)\n",
    "p3d_4.plot_surfaces()"
   ]
  },
  {
   "cell_type": "code",
   "execution_count": null,
   "metadata": {
    "iooxa": {
     "id": {
      "block": "5ot6JhjRKwL8LwZle1RB",
      "project": "Eg0Zg5heJvyoYfj4Vp5h",
      "version": 2
     },
     "outputId": {
      "block": "sY6OiqWdM4kIShTd4Mzp",
      "project": "Eg0Zg5heJvyoYfj4Vp5h",
      "version": 1
     }
    },
    "pycharm": {
     "name": "#%%\n"
    }
   },
   "outputs": [],
   "source": [
    "geo_model.add_orientations(X=277278.652995, Y=3.929298e+06, Z=0, surface=\"etchegoin\", pole_vector=(0,0,1), idx=2)\n",
    "gp.compute_model(geo_model)\n",
    "p3d_4.plot_surfaces()"
   ]
  },
  {
   "cell_type": "markdown",
   "metadata": {
    "iooxa": {
     "id": {
      "block": "ZvyOgCn599Yq3WMUpEso",
      "project": "Eg0Zg5heJvyoYfj4Vp5h",
      "version": 1
     }
    }
   },
   "source": [
    "## Adding many more orientations"
   ]
  },
  {
   "cell_type": "code",
   "execution_count": null,
   "metadata": {
    "iooxa": {
     "id": {
      "block": "SqEcS76U4ATmbtNSmDEV",
      "project": "Eg0Zg5heJvyoYfj4Vp5h",
      "version": 3
     },
     "outputId": {
      "block": "3MZ2jrJoK1vT6EghJJVz",
      "project": "Eg0Zg5heJvyoYfj4Vp5h",
      "version": 2
     }
    },
    "pycharm": {
     "name": "#%%\n"
    }
   },
   "outputs": [],
   "source": [
    "# find neighbours\n",
    "neighbours = gp.select_nearest_surfaces_points(geo_model, geo_model._surface_points.df, 2)\n",
    "\n",
    "# calculate all fault orientations\n",
    "new_ori = gp.set_orientation_from_neighbours_all(geo_model, neighbours)\n",
    "new_ori.df.head()"
   ]
  },
  {
   "cell_type": "code",
   "execution_count": null,
   "metadata": {
    "iooxa": {
     "id": {
      "block": "bW4hEhg87eHwGmD53aAE",
      "project": "Eg0Zg5heJvyoYfj4Vp5h",
      "version": 2
     },
     "outputId": {
      "block": "jHK1ySvkUlj72xsp7Peu",
      "project": "Eg0Zg5heJvyoYfj4Vp5h",
      "version": 1
     }
    },
    "pycharm": {
     "name": "#%%\n"
    }
   },
   "outputs": [],
   "source": [
    "gp.compute_model(geo_model)"
   ]
  },
  {
   "cell_type": "code",
   "execution_count": null,
   "metadata": {
    "iooxa": {
     "id": {
      "block": "z3cZpW6ihcs5az1UAz9J",
      "project": "Eg0Zg5heJvyoYfj4Vp5h",
      "version": 2
     },
     "outputId": {
      "block": "U1T2wSMGnRfONryMflER",
      "project": "Eg0Zg5heJvyoYfj4Vp5h",
      "version": 1
     }
    },
    "pycharm": {
     "name": "#%%\n"
    }
   },
   "outputs": [],
   "source": [
    "# Plot data"
   ]
  },
  {
   "cell_type": "code",
   "execution_count": null,
   "metadata": {
    "iooxa": {
     "id": {
      "block": "fMooogPLWwpuqbBVCHMG",
      "project": "Eg0Zg5heJvyoYfj4Vp5h",
      "version": 2
     },
     "outputId": {
      "block": "N38Z7AOwh9Od3Um29gtF",
      "project": "Eg0Zg5heJvyoYfj4Vp5h",
      "version": 1
     }
    },
    "pycharm": {
     "name": "#%%\n"
    }
   },
   "outputs": [],
   "source": [
    "# Plot wells:"
   ]
  },
  {
   "attachments": {
    "200622_Terranigma_Logotype_black.png": {
     "image/png": "[encoded data removed]"
    }
   },
   "cell_type": "markdown",
   "metadata": {
    "iooxa": {
     "id": {
      "block": "r7aja3iUZPsLYE1qGxjg",
      "project": "Eg0Zg5heJvyoYfj4Vp5h",
      "version": 2
     }
    }
   },
   "source": [
    "-----\n",
    "\n",
    "## Thank you for your attention\n",
    "\n",
    "\n",
    "#### Extra Resources\n",
    "\n",
    "Page:\n",
    "https://www.gempy.org/\n",
    "\n",
    "Paper:\n",
    "https://www.gempy.org/theory\n",
    "\n",
    "Gitub:\n",
    "https://github.com/cgre-aachen/gempy\n",
    "\n",
    "#### Further training and collaborations\n",
    "https://www.terranigma-solutions.com/\n",
    "\n",
    "![Terranigma_Logotype_black.png](attachment:200622_Terranigma_Logotype_black.png)\n",
    "\n"
   ]
  }
 ],
 "metadata": {
  "iooxa": {
   "id": {
    "block": "VVR1a4OSdrcopFaEUojf",
    "project": "Eg0Zg5heJvyoYfj4Vp5h",
    "version": 4
   }
  },
  "jupytext": {
   "split_at_heading": true
  },
  "kernelspec": {
   "display_name": "Python 3",
   "language": "python",
   "name": "python3"
  },
  "language_info": {
   "codemirror_mode": {
    "name": "ipython",
    "version": 3
   },
   "file_extension": ".py",
   "mimetype": "text/x-python",
   "name": "python",
   "nbconvert_exporter": "python",
   "pygments_lexer": "ipython3",
   "version": "3.8.5"
  }
 },
 "nbformat": 4,
 "nbformat_minor": 2
}